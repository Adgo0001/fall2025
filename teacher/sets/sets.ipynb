{
 "cells": [
  {
   "cell_type": "code",
   "execution_count": 16,
   "id": "69187743",
   "metadata": {},
   "outputs": [],
   "source": [
    "p = {1, 2, 3, 4, 5}\n",
    "q = {4, 5, 6, 7, 8}\n",
    "x = {1, 2, 3, 4, 5}"
   ]
  },
  {
   "cell_type": "code",
   "execution_count": 24,
   "id": "4acd23fb",
   "metadata": {},
   "outputs": [
    {
     "data": {
      "text/plain": [
       "True"
      ]
     },
     "execution_count": 24,
     "metadata": {},
     "output_type": "execute_result"
    }
   ],
   "source": [
    "p <= x and not p < x"
   ]
  },
  {
   "cell_type": "code",
   "execution_count": 39,
   "id": "3301d10c",
   "metadata": {},
   "outputs": [
    {
     "data": {
      "text/plain": [
       "{1, 2, 3, frozenset({1, 3, 5, 7, 9})}"
      ]
     },
     "execution_count": 39,
     "metadata": {},
     "output_type": "execute_result"
    }
   ],
   "source": [
    "z = {1,2,3,frozenset(range(1,10,2))}\n",
    "z"
   ]
  },
  {
   "cell_type": "code",
   "execution_count": 47,
   "id": "49f1ad64",
   "metadata": {},
   "outputs": [
    {
     "data": {
      "text/plain": [
       "'LATIN CAPITAL LETTER A'"
      ]
     },
     "execution_count": 47,
     "metadata": {},
     "output_type": "execute_result"
    }
   ],
   "source": [
    "from unicodedata import name\n",
    "name('A')"
   ]
  },
  {
   "cell_type": "markdown",
   "id": "352c0527",
   "metadata": {},
   "source": [
    "## Webshop"
   ]
  },
  {
   "cell_type": "code",
   "execution_count": 70,
   "id": "df8135a4",
   "metadata": {},
   "outputs": [],
   "source": [
    "from itertools import product"
   ]
  },
  {
   "cell_type": "code",
   "execution_count": 60,
   "id": "4f265426",
   "metadata": {},
   "outputs": [],
   "source": [
    "sizes = {'S', 'M', 'L', 'XL'}\n",
    "colors =  {'Black', 'White', 'Gray'}\n",
    "sold_out = {('S','Gray')}"
   ]
  },
  {
   "cell_type": "code",
   "execution_count": 72,
   "id": "13d24224",
   "metadata": {},
   "outputs": [
    {
     "name": "stdout",
     "output_type": "stream",
     "text": [
      "('L', 'White')\n",
      "('L', 'Black')\n",
      "('L', 'Gray')\n",
      "('S', 'White')\n",
      "('S', 'Black')\n",
      "('S', 'Gray')\n",
      "('XL', 'White')\n",
      "('XL', 'Black')\n",
      "('XL', 'Gray')\n",
      "('M', 'White')\n",
      "('M', 'Black')\n",
      "('M', 'Gray')\n"
     ]
    }
   ],
   "source": [
    "for i in product(sizes, colors):\n",
    "    print(i)"
   ]
  },
  {
   "cell_type": "code",
   "execution_count": 61,
   "id": "63d42715",
   "metadata": {},
   "outputs": [],
   "source": [
    "col = {(s,c) for s in sizes for c in colors }"
   ]
  },
  {
   "cell_type": "code",
   "execution_count": 62,
   "id": "95ccb815",
   "metadata": {},
   "outputs": [
    {
     "data": {
      "text/plain": [
       "{('L', 'Black'),\n",
       " ('L', 'Gray'),\n",
       " ('L', 'White'),\n",
       " ('M', 'Black'),\n",
       " ('M', 'Gray'),\n",
       " ('M', 'White'),\n",
       " ('S', 'Black'),\n",
       " ('S', 'White'),\n",
       " ('XL', 'Black'),\n",
       " ('XL', 'Gray'),\n",
       " ('XL', 'White')}"
      ]
     },
     "execution_count": 62,
     "metadata": {},
     "output_type": "execute_result"
    }
   ],
   "source": [
    "col - sold_out"
   ]
  },
  {
   "cell_type": "code",
   "execution_count": 63,
   "id": "17cec1cc",
   "metadata": {},
   "outputs": [
    {
     "data": {
      "text/plain": [
       "set"
      ]
     },
     "execution_count": 63,
     "metadata": {},
     "output_type": "execute_result"
    }
   ],
   "source": [
    "type(col)"
   ]
  },
  {
   "cell_type": "code",
   "execution_count": 73,
   "id": "8bce161f",
   "metadata": {},
   "outputs": [],
   "source": [
    "#!pip install matplotlib-venn"
   ]
  },
  {
   "cell_type": "code",
   "execution_count": 68,
   "id": "d4905a98",
   "metadata": {},
   "outputs": [
    {
     "data": {
      "image/png": "[encoded data removed]",
      "text/plain": [
       "<Figure size 640x480 with 1 Axes>"
      ]
     },
     "metadata": {},
     "output_type": "display_data"
    }
   ],
   "source": [
    "import matplotlib.pyplot as plt\n",
    "from matplotlib_venn import venn2\n",
    "\n",
    "# Dine mængder\n",
    "A = {1, 2, 3}\n",
    "B = {3, 4}\n",
    "\n",
    "# Tegn Venn-diagrammet (du kan godt lade venn2 regne størrelse/radius ud)\n",
    "v = venn2([A, B], set_labels=('A', 'B'))\n",
    "\n",
    "# Beregn de tre under-mængder\n",
    "only_A = A - B        # {1, 2}\n",
    "only_B = B - A        # {4}\n",
    "A_and_B = A & B       # {3}\n",
    "\n",
    "# Hent label-objekterne og sæt teksten til de faktiske elementer\n",
    "v.get_label_by_id('10').set_text('\\n'.join(map(str, sorted(only_A))))\n",
    "v.get_label_by_id('01').set_text('\\n'.join(map(str, sorted(only_B))))\n",
    "v.get_label_by_id('11').set_text('\\n'.join(map(str, sorted(A_and_B))))\n",
    "\n",
    "plt.title(\"Venn-diagram med elementer\")\n",
    "plt.show()\n",
    "\n"
   ]
  },
  {
   "cell_type": "code",
   "execution_count": 11,
   "id": "17a8c886",
   "metadata": {},
   "outputs": [
    {
     "data": {
      "text/plain": [
       "({5, 11, 13, 32, 33, 35, 43}, {5, 10, 15, 20, 25, 30, 35}, {5, 35}, 2)"
      ]
     },
     "execution_count": 11,
     "metadata": {},
     "output_type": "execute_result"
    }
   ],
   "source": [
    "import random\n",
    "\n",
    "# Randomly draw lottery numbers\n",
    "lottery_numbers = set(random.sample(range(1, 50), 7))\n",
    "\n",
    "# Simulate user numbers\n",
    "user_numbers = {5, 10, 15, 20, 25, 30, 35}\n",
    "\n",
    "# Use set operators to find matches\n",
    "# Intersection of two sets to find common elements\n",
    "matches = lottery_numbers & user_numbers\n",
    "\n",
    "# Number of matches\n",
    "number_of_matches = len(matches)\n",
    "\n",
    "# Display results (for demonstration purposes)\n",
    "lottery_numbers, user_numbers, matches, number_of_matches\n"
   ]
  },
  {
   "cell_type": "code",
   "execution_count": null,
   "id": "dc5ec1ac",
   "metadata": {},
   "outputs": [],
   "source": []
  },
  {
   "cell_type": "code",
   "execution_count": 48,
   "id": "48caf123",
   "metadata": {},
   "outputs": [],
   "source": [
    "import pprint"
   ]
  },
  {
   "cell_type": "code",
   "execution_count": 49,
   "id": "c87c192f",
   "metadata": {},
   "outputs": [],
   "source": [
    "d = {' ': 13, ',': 1, '.': 1, 'A': 1, 'I': 1, 'a': 4, 'c': 3, 'b': 1, 'e': 5, 'd': 3, 'g': 2,\n",
    "'i': 6, 'h': 3, 'k': 2, 'l': 3, 'o': 2, 'n': 4, 'p': 1, 's': 3, 'r': 5, 't': 6, 'w': 2, 'y': 1}"
   ]
  },
  {
   "cell_type": "code",
   "execution_count": 50,
   "id": "9145a5fc",
   "metadata": {},
   "outputs": [
    {
     "name": "stdout",
     "output_type": "stream",
     "text": [
      "{' ': 13,\n",
      " ',': 1,\n",
      " '.': 1,\n",
      " 'A': 1,\n",
      " 'I': 1,\n",
      " 'a': 4,\n",
      " 'b': 1,\n",
      " 'c': 3,\n",
      " 'd': 3,\n",
      " 'e': 5,\n",
      " 'g': 2,\n",
      " 'h': 3,\n",
      " 'i': 6,\n",
      " 'k': 2,\n",
      " 'l': 3,\n",
      " 'n': 4,\n",
      " 'o': 2,\n",
      " 'p': 1,\n",
      " 'r': 5,\n",
      " 's': 3,\n",
      " 't': 6,\n",
      " 'w': 2,\n",
      " 'y': 1}\n"
     ]
    }
   ],
   "source": [
    "pprint.pprint(d)"
   ]
  },
  {
   "cell_type": "markdown",
   "id": "7ee31a71",
   "metadata": {},
   "source": [
    "## HashSet class"
   ]
  },
  {
   "cell_type": "code",
   "execution_count": 1,
   "id": "32a2b763",
   "metadata": {},
   "outputs": [],
   "source": [
    "class HashSet:\n",
    "    def __init__(self):\n",
    "        pass\n",
    "\n",
    "    def __neg__(self, val):\n",
    "        return not val"
   ]
  },
  {
   "cell_type": "code",
   "execution_count": null,
   "id": "29e4a084",
   "metadata": {},
   "outputs": [],
   "source": [
    "hs = HashSet()\n",
    "\n",
    "\n"
   ]
  },
  {
   "cell_type": "code",
   "execution_count": 3,
   "id": "56be6e84",
   "metadata": {},
   "outputs": [
    {
     "data": {
      "text/plain": [
       "True"
      ]
     },
     "execution_count": 3,
     "metadata": {},
     "output_type": "execute_result"
    }
   ],
   "source": [
    "\n",
    "set1 = set()\n",
    "set2 = {1, 2, 3}\n",
    "set1 <= set2"
   ]
  },
  {
   "cell_type": "markdown",
   "id": "54ffd4dd",
   "metadata": {},
   "source": [
    "## Wowels"
   ]
  },
  {
   "cell_type": "code",
   "execution_count": null,
   "id": "b755cbb6",
   "metadata": {},
   "outputs": [],
   "source": [
    "vowels = {'aeiouy'}\n",
    "def is_vowel(s):\n",
    "    #return set(s) & set('aeiouy')\n",
    "    #return [i for i in s if i in set('aeiouy')]"
   ]
  },
  {
   "cell_type": "code",
   "execution_count": 11,
   "id": "ffc3d6e7",
   "metadata": {},
   "outputs": [
    {
     "data": {
      "text/plain": [
       "['e', 'o', 'o', 'e', 'e', 'a', 'i']"
      ]
     },
     "execution_count": 11,
     "metadata": {},
     "output_type": "execute_result"
    }
   ],
   "source": [
    "s = 'Hello world here am i'\n",
    "\n",
    "is_vowel(s)\n"
   ]
  },
  {
   "cell_type": "code",
   "execution_count": null,
   "id": "cb980986",
   "metadata": {},
   "outputs": [],
   "source": []
  }
 ],
 "metadata": {
  "kernelspec": {
   "display_name": ".venv",
   "language": "python",
   "name": "python3"
  },
  "language_info": {
   "codemirror_mode": {
    "name": "ipython",
    "version": 3
   },
   "file_extension": ".py",
   "mimetype": "text/x-python",
   "name": "python",
   "nbconvert_exporter": "python",
   "pygments_lexer": "ipython3",
   "version": "3.13.3"
  }
 },
 "nbformat": 4,
 "nbformat_minor": 5
}
