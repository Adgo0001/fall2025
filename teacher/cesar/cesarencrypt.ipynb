{
 "cells": [
  {
   "cell_type": "markdown",
   "id": "1ee5030b",
   "metadata": {},
   "source": [
    "## Cesar encryption"
   ]
  },
  {
   "cell_type": "code",
   "execution_count": 59,
   "id": "c34093f6",
   "metadata": {},
   "outputs": [],
   "source": [
    "import string\n",
    "\n",
    "# Get all letters (both lowercase and uppercase)\n",
    "all_letters = list(string.ascii_letters + ' .,-')\n",
    "phrase = 'I am a football player that has an injury. , - '\n",
    "key = 6"
   ]
  },
  {
   "cell_type": "code",
   "execution_count": 65,
   "id": "d16b9767",
   "metadata": {},
   "outputs": [],
   "source": [
    "proxy = [all_letters.index(i) for i in phrase ]\n",
    "\n",
    "encrypt = ''.join([all_letters[(i+key)%len(all_letters)] for i in proxy])\n",
    "\n",
    "decrypt = ''.join([all_letters[(i-key)%len(all_letters)] for i in proxy])\n",
    "\n",
    "#phrase_fin = ''.join([all_letters[i] for i in decrypt ])"
   ]
  },
  {
   "cell_type": "code",
   "execution_count": 66,
   "id": "2b97bf68",
   "metadata": {},
   "outputs": [
    {
     "data": {
      "text/plain": [
       "'OcgscgcluuzhgrrcvrgEkxczngzcngycgtcotpAxEdcecfc'"
      ]
     },
     "execution_count": 66,
     "metadata": {},
     "output_type": "execute_result"
    }
   ],
   "source": [
    "encrypt"
   ]
  },
  {
   "cell_type": "code",
   "execution_count": 67,
   "id": "944d31e9",
   "metadata": {},
   "outputs": [
    {
     "data": {
      "text/plain": [
       "'CUYgUYU-iinZYffUjfYs,lUnbYnUbYmUYhUchdolsVUWUXU'"
      ]
     },
     "execution_count": 67,
     "metadata": {},
     "output_type": "execute_result"
    }
   ],
   "source": [
    "decrypt"
   ]
  },
  {
   "cell_type": "code",
   "execution_count": 31,
   "id": "1b14e5d0",
   "metadata": {},
   "outputs": [
    {
     "data": {
      "text/plain": [
       "[37,\n",
       " 2,\n",
       " 3,\n",
       " 15,\n",
       " 2,\n",
       " 3,\n",
       " 2,\n",
       " 8,\n",
       " 17,\n",
       " 17,\n",
       " 22,\n",
       " 4,\n",
       " 3,\n",
       " 14,\n",
       " 14,\n",
       " 2,\n",
       " 18,\n",
       " 14,\n",
       " 3,\n",
       " 27,\n",
       " 7,\n",
       " 20,\n",
       " 2,\n",
       " 22,\n",
       " 10,\n",
       " 3,\n",
       " 22,\n",
       " 2,\n",
       " 10,\n",
       " 3,\n",
       " 21,\n",
       " 2,\n",
       " 3,\n",
       " 16,\n",
       " 2,\n",
       " 11,\n",
       " 16,\n",
       " 12,\n",
       " 23,\n",
       " 20,\n",
       " 27]"
      ]
     },
     "execution_count": 31,
     "metadata": {},
     "output_type": "execute_result"
    }
   ],
   "source": [
    "encrypt"
   ]
  },
  {
   "cell_type": "code",
   "execution_count": 32,
   "id": "3d4bec97",
   "metadata": {},
   "outputs": [
    {
     "data": {
      "text/plain": [
       "[34,\n",
       " 52,\n",
       " 0,\n",
       " 12,\n",
       " 52,\n",
       " 0,\n",
       " 52,\n",
       " 5,\n",
       " 14,\n",
       " 14,\n",
       " 19,\n",
       " 1,\n",
       " 0,\n",
       " 11,\n",
       " 11,\n",
       " 52,\n",
       " 15,\n",
       " 11,\n",
       " 0,\n",
       " 24,\n",
       " 4,\n",
       " 17,\n",
       " 52,\n",
       " 19,\n",
       " 7,\n",
       " 0,\n",
       " 19,\n",
       " 52,\n",
       " 7,\n",
       " 0,\n",
       " 18,\n",
       " 52,\n",
       " 0,\n",
       " 13,\n",
       " 52,\n",
       " 8,\n",
       " 13,\n",
       " 9,\n",
       " 20,\n",
       " 17,\n",
       " 24]"
      ]
     },
     "execution_count": 32,
     "metadata": {},
     "output_type": "execute_result"
    }
   ],
   "source": [
    "decrypt"
   ]
  },
  {
   "cell_type": "code",
   "execution_count": 44,
   "id": "b39dde20",
   "metadata": {},
   "outputs": [
    {
     "data": {
      "text/plain": [
       "True"
      ]
     },
     "execution_count": 44,
     "metadata": {},
     "output_type": "execute_result"
    }
   ],
   "source": [
    "proxy == decrypt"
   ]
  }
 ],
 "metadata": {
  "kernelspec": {
   "display_name": ".venv",
   "language": "python",
   "name": "python3"
  },
  "language_info": {
   "codemirror_mode": {
    "name": "ipython",
    "version": 3
   },
   "file_extension": ".py",
   "mimetype": "text/x-python",
   "name": "python",
   "nbconvert_exporter": "python",
   "pygments_lexer": "ipython3",
   "version": "3.13.3"
  }
 },
 "nbformat": 4,
 "nbformat_minor": 5
}
