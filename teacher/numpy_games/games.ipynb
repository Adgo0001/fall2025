{
 "cells": [
  {
   "cell_type": "code",
   "execution_count": null,
   "id": "d840988c",
   "metadata": {},
   "outputs": [],
   "source": [
    "import numpy as np\n",
    "\n",
    "def initialize_board():\n",
    "    return [['X' if (i == 0 and _ == 0) 'O' (i == 0 and _ == 0) else ' ' for _ in range(3)] for i in range(3)]\n",
    "\n",
    "def populate(board):\n",
    "    board[2,8] = 'b'\n",
    "    return \n",
    "\n",
    "def print_board(board):\n",
    "    for row in board:\n",
    "        print(\" | \".join(row))"
   ]
  },
  {
   "cell_type": "code",
   "execution_count": 38,
   "id": "79bd5052",
   "metadata": {},
   "outputs": [
    {
     "name": "stdout",
     "output_type": "stream",
     "text": [
      "X |   |  \n",
      "  |   |  \n",
      "  |   |  \n"
     ]
    }
   ],
   "source": [
    "print_board(initialize_board())"
   ]
  },
  {
   "cell_type": "code",
   "execution_count": 39,
   "id": "6c7b7e98",
   "metadata": {},
   "outputs": [
    {
     "data": {
      "text/plain": [
       "[['X', ' ', ' '], [' ', ' ', ' '], [' ', ' ', ' ']]"
      ]
     },
     "execution_count": 39,
     "metadata": {},
     "output_type": "execute_result"
    }
   ],
   "source": [
    "initialize_board()"
   ]
  }
 ],
 "metadata": {
  "kernelspec": {
   "display_name": ".venv",
   "language": "python",
   "name": "python3"
  },
  "language_info": {
   "codemirror_mode": {
    "name": "ipython",
    "version": 3
   },
   "file_extension": ".py",
   "mimetype": "text/x-python",
   "name": "python",
   "nbconvert_exporter": "python",
   "pygments_lexer": "ipython3",
   "version": "3.13.3"
  }
 },
 "nbformat": 4,
 "nbformat_minor": 5
}
