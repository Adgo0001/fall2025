{
 "cells": [
  {
   "cell_type": "code",
   "execution_count": 21,
   "id": "4f09b439",
   "metadata": {},
   "outputs": [],
   "source": [
    "def has_pair_with_sum(data, target_sum):\n",
    "    comp = set()\n",
    "    for value in data:\n",
    "        if value in comp:\n",
    "            return True\n",
    "        comp.add(target_sum - value)\n",
    "    return False"
   ]
  },
  {
   "cell_type": "code",
   "execution_count": 23,
   "id": "7740efeb",
   "metadata": {},
   "outputs": [
    {
     "name": "stdout",
     "output_type": "stream",
     "text": [
      "True\n",
      "True\n"
     ]
    }
   ],
   "source": [
    "print(has_pair_with_sum([1,2,3,3], 6))\n",
    "print(has_pair_with_sum([1,2,4,4], 8))"
   ]
  }
 ],
 "metadata": {
  "kernelspec": {
   "display_name": ".venv",
   "language": "python",
   "name": "python3"
  },
  "language_info": {
   "codemirror_mode": {
    "name": "ipython",
    "version": 3
   },
   "file_extension": ".py",
   "mimetype": "text/x-python",
   "name": "python",
   "nbconvert_exporter": "python",
   "pygments_lexer": "ipython3",
   "version": "3.13.7"
  }
 },
 "nbformat": 4,
 "nbformat_minor": 5
}
