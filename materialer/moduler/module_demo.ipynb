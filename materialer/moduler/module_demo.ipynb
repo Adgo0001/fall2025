{
 "cells": [
  {
   "cell_type": "markdown",
   "id": "b647ef4e",
   "metadata": {},
   "source": [
    "# Moduler"
   ]
  },
  {
   "cell_type": "markdown",
   "id": "d5cf4fc9",
   "metadata": {},
   "source": [
    "## OS "
   ]
  },
  {
   "cell_type": "code",
   "execution_count": null,
   "id": "1be91743",
   "metadata": {},
   "outputs": [],
   "source": []
  },
  {
   "cell_type": "markdown",
   "id": "462c5070",
   "metadata": {},
   "source": [
    "## subprocess"
   ]
  },
  {
   "cell_type": "code",
   "execution_count": null,
   "id": "711370ac",
   "metadata": {},
   "outputs": [],
   "source": []
  },
  {
   "cell_type": "markdown",
   "id": "7dc2933a",
   "metadata": {},
   "source": [
    "## requests"
   ]
  },
  {
   "cell_type": "code",
   "execution_count": null,
   "id": "3831a84b",
   "metadata": {},
   "outputs": [],
   "source": []
  }
 ],
 "metadata": {
  "kernelspec": {
   "display_name": ".venv",
   "language": "python",
   "name": "python3"
  },
  "language_info": {
   "name": "python",
   "version": "3.13.7"
  }
 },
 "nbformat": 4,
 "nbformat_minor": 5
}
