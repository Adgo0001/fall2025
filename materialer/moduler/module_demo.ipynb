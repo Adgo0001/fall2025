{
 "cells": [
  {
   "cell_type": "markdown",
   "id": "99d6ced0",
   "metadata": {},
   "source": [
    "# filer"
   ]
  },
  {
   "cell_type": "code",
   "execution_count": 39,
   "id": "95ae6436",
   "metadata": {},
   "outputs": [
    {
     "data": {
      "text/plain": [
       "<sqlite3.Cursor at 0x1142576c0>"
      ]
     },
     "execution_count": 39,
     "metadata": {},
     "output_type": "execute_result"
    }
   ],
   "source": [
    "import sqlite3\n",
    "conn = sqlite3.connect('database.db')\n",
    "cur = conn.cursor()\n",
    "cur.execute('''\n",
    "    CREATE TABLE IF NOT EXISTS users (\n",
    "    id INTEGER PRIMARY KEY AUTOINCREMENT,\n",
    "    name TEXT NOT NULL,\n",
    "    email TEXT UNIQUE NOT NULL,\n",
    "    age INTEGER,\n",
    "    created_date TEXT DEFAULT CURRENT_TIMESTAMP)''')"
   ]
  },
  {
   "cell_type": "code",
   "execution_count": null,
   "id": "5a352a99",
   "metadata": {},
   "outputs": [
    {
     "data": {
      "text/plain": [
       "12"
      ]
     },
     "execution_count": 16,
     "metadata": {},
     "output_type": "execute_result"
    }
   ],
   "source": [
    "f = open('xxx.txt', 'a')\n",
    "f.write('Hello heloo\\n')"
   ]
  },
  {
   "cell_type": "code",
   "execution_count": 48,
   "id": "6eea1c8e",
   "metadata": {},
   "outputs": [
    {
     "name": "stdout",
     "output_type": "stream",
     "text": [
      "Hello helooHello helooHello helooHello helooHello helooHello heloo\n",
      "Hello heloo\n",
      "Hello heloo\n",
      "Hello heloo\n",
      "Hello heloo\n",
      "\n"
     ]
    }
   ],
   "source": [
    "with open('xxx.txt', 'r') as f:\n",
    "    print(f.read())\n",
    "\n"
   ]
  },
  {
   "cell_type": "markdown",
   "id": "b647ef4e",
   "metadata": {},
   "source": [
    "# Moduler"
   ]
  },
  {
   "cell_type": "markdown",
   "id": "d5cf4fc9",
   "metadata": {},
   "source": [
    "## OS "
   ]
  },
  {
   "cell_type": "code",
   "execution_count": 72,
   "id": "1be91743",
   "metadata": {},
   "outputs": [],
   "source": [
    "import os  # ikke pip intstalles\n",
    "\n",
    "\n",
    "#os.chdir('ooo')\n",
    "open('test.md', 'w')\n",
    "os.listdir()\n",
    "os.makedirs('ppppp', exist_ok=True)\n",
    "\n"
   ]
  },
  {
   "cell_type": "markdown",
   "id": "462c5070",
   "metadata": {},
   "source": [
    "## subprocess"
   ]
  },
  {
   "cell_type": "code",
   "execution_count": null,
   "id": "711370ac",
   "metadata": {},
   "outputs": [
    {
     "data": {
      "text/plain": [
       "CompletedProcess(args=['mkdir', 'lll'], returncode=0)"
      ]
     },
     "execution_count": 75,
     "metadata": {},
     "output_type": "execute_result"
    }
   ],
   "source": [
    "import subprocess\n",
    "\n",
    "subprocess.run(['mkdir', 'lll'])\n",
    "subprocess.run()\n"
   ]
  },
  {
   "cell_type": "markdown",
   "id": "7dc2933a",
   "metadata": {},
   "source": [
    "## requests"
   ]
  },
  {
   "cell_type": "code",
   "execution_count": null,
   "id": "3831a84b",
   "metadata": {},
   "outputs": [
    {
     "data": {
      "text/plain": [
       "200"
      ]
     },
     "execution_count": 78,
     "metadata": {},
     "output_type": "execute_result"
    }
   ],
   "source": [
    "import requests  \n",
    "  \n",
    "api_key = os.environ.get('API_KEY')\n",
    "url = 'https://api.github.com/repos/clbokea/osman'\n",
    "\n",
    "headers = {\n",
    "        'Authorization': f'token xxx'\n",
    "}\n",
    "response = requests.get(url, headers=headers)\n",
    "repo_data = response.json()\n",
    "response.status_code"
   ]
  },
  {
   "cell_type": "code",
   "execution_count": null,
   "id": "81e091e4",
   "metadata": {},
   "outputs": [],
   "source": "repo_data"
  }
 ],
 "metadata": {
  "kernelspec": {
   "display_name": ".venv",
   "language": "python",
   "name": "python3"
  },
  "language_info": {
   "codemirror_mode": {
    "name": "ipython",
    "version": 3
   },
   "file_extension": ".py",
   "mimetype": "text/x-python",
   "name": "python",
   "nbconvert_exporter": "python",
   "pygments_lexer": "ipython3",
   "version": "3.13.7"
  }
 },
 "nbformat": 4,
 "nbformat_minor": 5
}