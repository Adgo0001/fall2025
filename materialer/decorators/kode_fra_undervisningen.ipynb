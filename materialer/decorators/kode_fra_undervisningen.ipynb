{
 "cells": [
  {
   "cell_type": "markdown",
   "id": "80ded573",
   "metadata": {},
   "source": [
    "# Decorators"
   ]
  },
  {
   "cell_type": "markdown",
   "id": "2a38d39a",
   "metadata": {},
   "source": []
  }
 ],
 "metadata": {
  "language_info": {
   "name": "python"
  }
 },
 "nbformat": 4,
 "nbformat_minor": 5
}
