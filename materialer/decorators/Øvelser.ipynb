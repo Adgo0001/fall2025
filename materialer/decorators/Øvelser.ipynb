{
 "cells": [
  {
   "cell_type": "markdown",
   "id": "9a9a472a",
   "metadata": {},
   "source": [
    "# Små Øvelser – LOG decorator"
   ]
  },
  {
   "cell_type": "code",
   "execution_count": null,
   "id": "07cfef50",
   "metadata": {},
   "outputs": [],
   "source": [
    "from __future__ import annotations\n",
    "import time\n",
    "import datetime as dt\n",
    "from functools import wraps"
   ]
  },
  {
   "cell_type": "code",
   "execution_count": 22,
   "id": "42feb49b",
   "metadata": {},
   "outputs": [],
   "source": [
    "import datetime\n",
    "\n",
    "def log_decorator(func):\n",
    "    def wrapper(*args, **kwargs):\n",
    "        result = func(*args, **kwargs)\n",
    "        with open(\"log.txt\", \"a\") as f:\n",
    "            f.write(\n",
    "                f\"[{datetime.datetime.now()}] \"\n",
    "                f\"Function {func.__name__} called with args={args}, kwargs={kwargs}, \"\n",
    "                f\"result={result}\\n\"\n",
    "            )\n",
    "        return result\n",
    "    return wrapper\n"
   ]
  },
  {
   "cell_type": "code",
   "execution_count": 23,
   "id": "7213be0f",
   "metadata": {},
   "outputs": [
    {
     "data": {
      "text/plain": [
       "15"
      ]
     },
     "execution_count": 23,
     "metadata": {},
     "output_type": "execute_result"
    }
   ],
   "source": [
    "@log_decorator\n",
    "def add(*args):\n",
    "    return sum(args)\n",
    "\n",
    "add(1, 2, 3)\n",
    "add(10, 5)\n"
   ]
  },
  {
   "cell_type": "code",
   "execution_count": 24,
   "id": "fdace6f1",
   "metadata": {},
   "outputs": [
    {
     "name": "stdout",
     "output_type": "stream",
     "text": [
      "Hej verden!\n"
     ]
    }
   ],
   "source": [
    "@log_decorator\n",
    "def printer(text):\n",
    "    return text\n",
    "\n",
    "print(printer(\"Hej verden!\"))\n"
   ]
  },
  {
   "cell_type": "markdown",
   "id": "7f0abe86",
   "metadata": {},
   "source": [
    "# Ex1: Time it! – timing decorator"
   ]
  },
  {
   "cell_type": "code",
   "execution_count": 30,
   "id": "bd086694",
   "metadata": {},
   "outputs": [],
   "source": [
    "def timeit(func):\n",
    "    @wraps(func)\n",
    "    def wrapper(*args, **kwargs):\n",
    "        start = time.perf_counter()\n",
    "        try:\n",
    "            return func(*args, **kwargs)\n",
    "        finally:\n",
    "            end = time.perf_counter()\n",
    "            print(f\"{func.__name__} took {end - start:.6f} s\")\n",
    "    return wrapper"
   ]
  },
  {
   "cell_type": "code",
   "execution_count": 31,
   "id": "d64a34ac",
   "metadata": {},
   "outputs": [
    {
     "name": "stdout",
     "output_type": "stream",
     "text": [
      "heavy_work took 0.015546 s\n"
     ]
    },
    {
     "data": {
      "text/plain": [
       "499999500000"
      ]
     },
     "execution_count": 31,
     "metadata": {},
     "output_type": "execute_result"
    }
   ],
   "source": [
    "@timeit\n",
    "def heavy_work(n: int) -> int:\n",
    "    return sum(range(n))\n",
    "\n",
    "heavy_work(1_000_000)"
   ]
  },
  {
   "cell_type": "markdown",
   "id": "021a3efd",
   "metadata": {},
   "source": [
    "# Ex3: Slow down code – slowdown decorator"
   ]
  },
  {
   "cell_type": "code",
   "execution_count": 27,
   "id": "2c6ab491",
   "metadata": {},
   "outputs": [],
   "source": [
    "def slowdown(seconds: float = 1.0):\n",
    "    \"\"\"Dekoratørfabrik: Sænker hastighed med 'seconds' før HVERT funktionskald.\"\"\"\n",
    "    def decorator(func):\n",
    "        @wraps(func)\n",
    "        def wrapper(*args, **kwargs):\n",
    "            time.sleep(seconds)\n",
    "            return func(*args, **kwargs)\n",
    "        return wrapper\n",
    "    return decorator\n",
    "\n",
    "\n",
    "@slowdown(1.0)  # ét sekund mellem hvert rekursive kald\n",
    "def countdown_recursive(n: int):\n",
    "    if not n:  # 0 er falsy\n",
    "        print(\"Liftoff!\")\n",
    "        return n\n",
    "    else:\n",
    "        print(n, end=\" \")\n",
    "        return countdown_recursive(n - 1)\n",
    "\n",
    "\n",
    "def countdown_loop(n: int):\n",
    "    # Normal løkke-version uden decorator (viser kontrast)\n",
    "    while n > 0:\n",
    "        print(n, end=\" \")\n",
    "        n -= 1\n",
    "        # Hvis du vil have 1s pause pr. trin i løkkeversionen,\n",
    "        # så sov her, ikke i dekorationen:\n",
    "        time.sleep(1)\n",
    "    print(\"Liftoff!\")\n",
    "\n",
    "\n",
    "# BONUS: Hvis du *insisterer* på at bruge decorator til løkkeversionen,\n",
    "# kan du pakke printet i en hjælperfunktion og dekorere den:\n",
    "@slowdown(1.0)\n",
    "def _tick_print(x):\n",
    "    print(x, end=\" \")\n",
    "\n",
    "def countdown_loop_with_decorator(n: int):\n",
    "    while n > 0:\n",
    "        _tick_print(n)  # bliver forsinket via decorator pr. iteration\n",
    "        n -= 1\n",
    "    print(\"Liftoff!\")"
   ]
  },
  {
   "cell_type": "markdown",
   "id": "2376fcee",
   "metadata": {},
   "source": [
    "# Ex4: Decorating Game Characters – evne/skill decorators"
   ]
  },
  {
   "cell_type": "code",
   "execution_count": 28,
   "id": "376a30be",
   "metadata": {},
   "outputs": [],
   "source": [
    "def skill(name: str):\n",
    "    \"\"\"Generisk dekoratør der tilføjer en færdighed til den returnerede beskrivelse.\"\"\"\n",
    "    def decorator(func):\n",
    "        @wraps(func)\n",
    "        def wrapper(*args, **kwargs):\n",
    "            base = func(*args, **kwargs)\n",
    "            # Tilføj teksten på en pæn måde\n",
    "            # Hvis base allerede indeholder komma/og-liste, hæft på med komma.\n",
    "            if \"I'm\" in base and \"character\" in base:\n",
    "                # Ensartet slutning: \", the <skill>\" eller \", and <skill>\" if already one appended\n",
    "                separator = \", \"\n",
    "                return f\"{base}{separator}{name}\"\n",
    "            else:\n",
    "                return f\"{base}, {name}\"\n",
    "        return wrapper\n",
    "    return decorator\n",
    "\n",
    "# Konkrete skills bygges fra skill()\n",
    "sharpshooter = skill(\"the sharpshooter character\")\n",
    "stealthy     = skill(\"the stealthy character\")\n",
    "hacker       = skill(\"the hacker character\")\n",
    "\n",
    "@sharpshooter\n",
    "@stealthy\n",
    "def player():\n",
    "    return \"I'm the player character\"\n"
   ]
  },
  {
   "cell_type": "code",
   "execution_count": 34,
   "id": "0ff8318c",
   "metadata": {},
   "outputs": [
    {
     "name": "stdout",
     "output_type": "stream",
     "text": [
      "add(1,2,3) -> 6\n",
      "printer('Hej!') -> Hej!\n",
      "Se log i C:\\Users\\adria\\Desktop\\Skole\\4. Semester\\Python\\Python Gits\\fall2025\\materialer\\decorators\\log.txt\n",
      "heavy_work took 0.040206 s\n",
      "\n",
      "Countdown (rekursiv, 1s pr. trin):\n",
      "5 4 3 2 1 Liftoff!\n",
      "\n",
      "Countdown (løkke, 1s pr. trin):\n",
      "5 4 3 2 1 Liftoff!\n",
      "\n",
      "Countdown (løkke, 1s pr. trin via dekoreret tick):\n",
      "5 4 3 2 1 Liftoff!\n",
      "\n",
      "Game character:\n",
      "I'm the player character, the stealthy character, the sharpshooter character\n",
      "I'm the player character, the stealthy character, the sharpshooter character, the hacker character\n"
     ]
    }
   ],
   "source": [
    "from pathlib import Path\n",
    "\n",
    "LOG_PATH = Path(\"log.txt\")\n",
    "if __name__ == \"__main__\":\n",
    "    # Små Øvelser – log\n",
    "    print(\"add(1,2,3) ->\", add(1, 2, 3))\n",
    "    print(\"printer('Hej!') ->\", printer(\"Hej!\"))\n",
    "    print(f\"Se log i {LOG_PATH.resolve()}\")\n",
    "\n",
    "    # Ex1 – timeit\n",
    "    heavy_work(2_000_000)\n",
    "\n",
    "    # Ex3 – slowdown: rekursiv\n",
    "    print(\"\\nCountdown (rekursiv, 1s pr. trin):\")\n",
    "    countdown_recursive(5)\n",
    "\n",
    "    # Ex3 – slowdown: løkke m. direkte sleep\n",
    "    print(\"\\nCountdown (løkke, 1s pr. trin):\")\n",
    "    countdown_loop(5)\n",
    "\n",
    "    # Ex3 – slowdown: løkke via dekorering af \"tick\"\n",
    "    print(\"\\nCountdown (løkke, 1s pr. trin via dekoreret tick):\")\n",
    "    countdown_loop_with_decorator(5)\n",
    "\n",
    "    # Ex4 – stacking decorators\n",
    "    print(\"\\nGame character:\")\n",
    "    print(player())          # forventet: \"I'm the player character, the stealthy character, the sharpshooter character\"\n",
    "\n",
    "    # Bonus – endnu flere evner:\n",
    "    @hacker\n",
    "    @sharpshooter\n",
    "    @stealthy\n",
    "    def elite():\n",
    "        return \"I'm the player character\"\n",
    "    print(elite())"
   ]
  }
 ],
 "metadata": {
  "kernelspec": {
   "display_name": ".venv",
   "language": "python",
   "name": "python3"
  },
  "language_info": {
   "codemirror_mode": {
    "name": "ipython",
    "version": 3
   },
   "file_extension": ".py",
   "mimetype": "text/x-python",
   "name": "python",
   "nbconvert_exporter": "python",
   "pygments_lexer": "ipython3",
   "version": "3.13.7"
  }
 },
 "nbformat": 4,
 "nbformat_minor": 5
}
