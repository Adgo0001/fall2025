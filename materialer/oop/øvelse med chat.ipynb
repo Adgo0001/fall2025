{
 "cells": [
  {
   "cell_type": "code",
   "execution_count": null,
   "id": "b8fc869d",
   "metadata": {},
   "outputs": [
    {
     "name": "stdout",
     "output_type": "stream",
     "text": [
      "12\n"
     ]
    }
   ],
   "source": [
    "# Opgave: Skriv en funktion sum_even, der returnerer summen af alle lige tal i en liste\n",
    "\n",
    "def sum_even(numbers):\n",
    "    return sum(num for num in numbers if num % 2 == 0)\n",
    "\n",
    "resultat = sum_even([1, 2, 3, 4, 5, 6])\n",
    "print(resultat) # Skal returnere 12\n"
   ]
  },
  {
   "cell_type": "code",
   "execution_count": 3,
   "id": "3bd82b83",
   "metadata": {},
   "outputs": [
    {
     "name": "stdout",
     "output_type": "stream",
     "text": [
      "{3: ['hej', 'kat', 'app'], 6: ['adrian'], 4: ['hund']}\n"
     ]
    }
   ],
   "source": [
    "# Opgave: Skriv en funktion group_by_length, der grupperer ord efter deres længde\n",
    "\n",
    "def group_by_length(words):\n",
    "    result = {}\n",
    "    for word in words:\n",
    "        length = len(word)\n",
    "        if length not in result:\n",
    "            result[length] = []\n",
    "        result[length].append(word)\n",
    "    return result\n",
    "\n",
    "\n",
    "test = group_by_length([\"hej\", \"adrian\", \"kat\", \"hund\", \"app\"])\n",
    "print(test)  # Skal returnere: {3: ['hej', 'kat', 'app'], 5: ['hund'], 6: ['adrian']}"
   ]
  },
  {
   "cell_type": "code",
   "execution_count": null,
   "id": "c0e61613",
   "metadata": {},
   "outputs": [],
   "source": []
  }
 ],
 "metadata": {
  "kernelspec": {
   "display_name": ".venv",
   "language": "python",
   "name": "python3"
  },
  "language_info": {
   "codemirror_mode": {
    "name": "ipython",
    "version": 3
   },
   "file_extension": ".py",
   "mimetype": "text/x-python",
   "name": "python",
   "nbconvert_exporter": "python",
   "pygments_lexer": "ipython3",
   "version": "3.13.7"
  }
 },
 "nbformat": 4,
 "nbformat_minor": 5
}
