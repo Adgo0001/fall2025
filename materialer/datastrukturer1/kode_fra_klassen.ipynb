{
 "cells": [
  {
   "cell_type": "markdown",
   "id": "cca91739",
   "metadata": {},
   "source": [
    "## Lister og tupler\n",
    "\n",
    "numbers = [1, 2, 3, 4, 5]\n",
    "car = (1, 'Volvo', 2.33, 700) "
   ]
  }
 ],
 "metadata": {
  "kernelspec": {
   "display_name": ".venv",
   "language": "python",
   "name": "python3"
  },
  "language_info": {
   "name": "python",
   "version": "3.13.6"
  }
 },
 "nbformat": 4,
 "nbformat_minor": 5
}
