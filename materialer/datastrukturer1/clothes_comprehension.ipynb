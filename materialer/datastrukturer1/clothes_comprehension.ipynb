{
 "cells": [
  {
   "cell_type": "markdown",
   "id": "d7370c0f",
   "metadata": {},
   "source": [
    "## Tøjliste Comprehension\n",
    "\n",
    "Udfra disse 2 lister:"
   ]
  },
  {
   "cell_type": "code",
   "execution_count": 1,
   "id": "d26eb1e3",
   "metadata": {},
   "outputs": [],
   "source": [
    "colors = ['Black', 'White']\n",
    "sizes = ['s', 'm', 'l', 'xl']"
   ]
  },
  {
   "cell_type": "markdown",
   "id": "e355f057",
   "metadata": {},
   "source": [
    "Skal du finde det der hedder 'Cartesian Product' hvilket vil sige du skal lave en liste der ser sådan ud"
   ]
  },
  {
   "cell_type": "code",
   "execution_count": 3,
   "id": "300c226c",
   "metadata": {},
   "outputs": [],
   "source": [
    " clothes = [('Black', 's'), ('Black', 'm'), ('Black', 'l'), ('Black', 'xl'), ('White', 's'), ('White', 'm'), ('White', 'l'), ('White', 'xl')]"
   ]
  },
  {
   "cell_type": "markdown",
   "id": "17bf6805",
   "metadata": {},
   "source": [
    "## Nested for loop\n",
    "Først skal du lave det vha. et **nested for loop**.\n",
    "\n",
    "Herefter ved hjælp af en list **comprehension**\n",
    "\n",
    "Herefter skal du fjerne de elemeneter der er i denne liste:\n",
    "\n",
    "soldout = [('Black', 'm'), ('White', 's')]\n",
    "\n",
    "Så hvis tuple-parret er i **souldout** listen, skal det ikke tilføjes til den genererede list comprehension.\n",
    "\n",
    "**Øvelsen med sets**    \n",
    "Lav nu øvelsen igen, men hvor colors, sizes og soldout er **sets** i stedet for lister. `colors = {'Black', 'White'}` etc.    \n",
    "Du kan i princippet lave denne øvelse meget lig den forrige, men det kan være mere \"effektiv\" at bruge set operatorer til at lave \"soldout\"-delen af øvelsen.\n",
    "\n",
    "**Øvelsen med brug af itertools**\n",
    "Du kan også løse dette ved at importere modulet **itertools** og fra det modul bruge `product` functionen.\n",
    "Prøv det og læg mærke til forskellen fra dine tidligere løsninger. \n"
   ]
  },
  {
   "cell_type": "markdown",
   "id": "dbd09c15",
   "metadata": {},
   "source": []
  }
 ],
 "metadata": {
  "kernelspec": {
   "display_name": ".venv",
   "language": "python",
   "name": "python3"
  },
  "language_info": {
   "codemirror_mode": {
    "name": "ipython",
    "version": 3
   },
   "file_extension": ".py",
   "mimetype": "text/x-python",
   "name": "python",
   "nbconvert_exporter": "python",
   "pygments_lexer": "ipython3",
   "version": "3.13.3"
  }
 },
 "nbformat": 4,
 "nbformat_minor": 5
}
