{
 "cells": [
  {
   "cell_type": "markdown",
   "id": "eee55469",
   "metadata": {},
   "source": [
    "# Build in functions og lister\n",
    "I denne øvelse skal du arbejde med 5 [buildin functions](https://docs.python.org/3/library/functions.html): `range()`, `sum()`, `sorted()`, `enumerate()` og `zip()`    \n",
    "Alle øvelser kan laves med for loops:\n",
    "\n",
    "````\n",
    "    for i in [1,2,3]:\n",
    "        print(i)\n",
    "````\n",
    "\n",
    "eller vha list comprehensions:\n",
    "\n",
    "````\n",
    "    [i for i in [1,2,3]]\n",
    "````\n",
    "\n",
    "Det er en god ide at lave hver øvelse med begge tilgange, men som minimum skal du lave dem med list comprehension metoden. "
   ]
  },
  {
   "cell_type": "markdown",
   "id": "28aa7957",
   "metadata": {},
   "source": [
    "## range()\n",
    "1. Start med at se [denne video](https://www.youtube.com/watch?v=kGcUtckifXc&t=268s) (stop når den når til 06:38 (map))\n",
    "2. Lav herefter følgende øvelser med brug af range funktionen:"
   ]
  },
  {
   "cell_type": "code",
   "execution_count": null,
   "id": "8e26b2c6",
   "metadata": {},
   "outputs": [],
   "source": [
    "    # 1. genere denne liste: [1,2,3,4,5]\n",
    "\n",
    "    # 2. genere denne liste: [-3,-2,-1,0,1,2,3,4]\n",
    "\n",
    "    # 3. genere denne liste: [2,4,6,8,10]\n",
    "\n",
    "    # 4. genere denne liste: [2,4,6,8,10]\n",
    "\n",
    "    # 5. genere denne liste: [0.0, 0.5, 1.0, 1.5, 2.0, 2.5, 3.0, 3.5]"
   ]
  },
  {
   "cell_type": "markdown",
   "id": "0554c691",
   "metadata": {},
   "source": [
    "## sum()\n",
    "1. Start med at se [denne video](https://www.youtube.com/watch?v=kGcUtckifXc&t=657s)\n",
    "2. Lav herefter følgende øvelser med brug af sum funktionen:"
   ]
  },
  {
   "cell_type": "code",
   "execution_count": 21,
   "id": "facf1168",
   "metadata": {},
   "outputs": [
    {
     "data": {
      "text/plain": [
       "0"
      ]
     },
     "execution_count": 21,
     "metadata": {},
     "output_type": "execute_result"
    }
   ],
   "source": [
    "# 1. genere en liste der hvis man bruger sum funtionen på den giver resultatet 15 (du må ikke bruge dubletter (5,5,5)): \n",
    "sum([])\n",
    "# 2. genere en liste der hvis man bruger sum funtionen på den giver resultatet -55 (du må ikke bruge dubletter (5,5,5), og du skal bruge start parameteret): \n",
    "#sum([], start=)"
   ]
  },
  {
   "cell_type": "markdown",
   "id": "17c729ad",
   "metadata": {},
   "source": [
    "## sorted()\n",
    "1. Start med at se [denne video](https://www.youtube.com/watch?v=kGcUtckifXc&t=701s)\n",
    "2. Lav herefter følgende øvelser med brug af sorted funktionen:"
   ]
  },
  {
   "cell_type": "code",
   "execution_count": null,
   "id": "c011072c",
   "metadata": {},
   "outputs": [],
   "source": []
  },
  {
   "cell_type": "markdown",
   "id": "791a4acb",
   "metadata": {},
   "source": [
    "## enumerate()\n",
    "1. Start med at se [denne video](https://www.youtube.com/watch?v=kGcUtckifXc&t=811s)\n",
    "2. Lav herefter følgende øvelser med brug af range funktionen:"
   ]
  },
  {
   "cell_type": "code",
   "execution_count": null,
   "id": "88071822",
   "metadata": {},
   "outputs": [],
   "source": []
  },
  {
   "cell_type": "markdown",
   "id": "8aaf3647",
   "metadata": {},
   "source": [
    "## zip()\n",
    "1. Start med at se [denne video](https://www.youtube.com/watch?v=kGcUtckifXc&t=910s)\n",
    "2. Lav herefter følgende øvelser med brug af zip funktionen:"
   ]
  },
  {
   "cell_type": "code",
   "execution_count": null,
   "id": "7a268618",
   "metadata": {},
   "outputs": [],
   "source": []
  }
 ],
 "metadata": {
  "kernelspec": {
   "display_name": ".venv",
   "language": "python",
   "name": "python3"
  },
  "language_info": {
   "codemirror_mode": {
    "name": "ipython",
    "version": 3
   },
   "file_extension": ".py",
   "mimetype": "text/x-python",
   "name": "python",
   "nbconvert_exporter": "python",
   "pygments_lexer": "ipython3",
   "version": "3.13.6"
  }
 },
 "nbformat": 4,
 "nbformat_minor": 5
}
