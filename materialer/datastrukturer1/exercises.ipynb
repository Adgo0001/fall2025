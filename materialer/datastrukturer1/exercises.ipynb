{
 "cells": [
  {
   "cell_type": "markdown",
   "id": "302d3bde",
   "metadata": {},
   "source": [
    "# Ping pong List øvelser"
   ]
  },
  {
   "cell_type": "markdown",
   "id": "1afa01cf",
   "metadata": {},
   "source": [
    "---\n",
    "## 1: Er det en tuple eller en liste?\n",
    "Følgende data bør præsenteres enten som en liste eller en tuple, eller som en kombination af begge.    \n",
    "Dit job er at vælge den rigtige.    \n",
    "Hint: En liste er en samling af data af samme type, en tuple er en 'record type' (f.eks. i en database er en **record** en **række**).    \n",
    "\n",
    "1. Claus, 51, male, clbo@kea.dk, 31011970-1313\n",
    "2. Bmw, Toyota, Hyundai, Skoda, Fiat, Volvo\n",
    "3. Claus, Henning, Torben, Carl, Tine\n",
    "4. 'Hello', 'World', 'Huston', 'we', 'are', 'here'\n",
    "5. Rolling Stones, Goats Head Soup, 31 August 1973, 46:56\n",
    "6. 40.730610, -73.935242, New York City, NY, USA; 31.739847, 65.755920, Kandahar, Kandahar Province, Afghanistan;"
   ]
  },
  {
   "cell_type": "code",
   "execution_count": null,
   "id": "18282391",
   "metadata": {},
   "outputs": [],
   "source": []
  },
  {
   "cell_type": "markdown",
   "id": "8a4402b7",
   "metadata": {},
   "source": [
    "---\n",
    "## 2: Slicing\n",
    "Ved hjælp af `slicing` skal du arbejde med følgende collections."
   ]
  },
  {
   "cell_type": "code",
   "execution_count": null,
   "id": "c5e474c3",
   "metadata": {},
   "outputs": [],
   "source": [
    "\"\"\"\n",
    "['Hello', 'World', 'Huston', 'we', 'are', 'here'] bliver til -> ['World', 'Huston', 'we', 'are']\n",
    "['Hello', 'World', 'Huston', 'we', 'are', 'here'] -> ['Hello', 'World']\n",
    "['Hello', 'World', 'Huston', 'we', 'are', 'here'] -> ['are', 'here']\n",
    "['Hello', 'World', 'Huston', 'we', 'are', 'here'] -> ['are']\n",
    "['Hello', 'World', 'Huston', 'we', 'are', 'here'] -> ['Hello', 'Huston', 'are']\n",
    "['Hello', 'World', 'Huston', 'we', 'are', 'here'] -> ['here', 'are', 'we', 'Huston', 'World', 'Hello']\n",
    "('Hello', 'World', 'Huston', 'we', 'are', 'here') bliver til -> ['World', 'Huston', 'we', 'are']\n",
    "'Hello World Huston we are here' -> 'World Huston we'\n",
    "\"\"\""
   ]
  },
  {
   "cell_type": "code",
   "execution_count": null,
   "id": "e0f91ca8",
   "metadata": {},
   "outputs": [],
   "source": []
  },
  {
   "cell_type": "markdown",
   "id": "ed0dd135",
   "metadata": {},
   "source": [
    "Find andre eksempler på egen hånd og øv dette mange gange."
   ]
  },
  {
   "cell_type": "markdown",
   "id": "0fe83343",
   "metadata": {},
   "source": [
    "---\n",
    "## 3: List Comprehensions\n",
    "\n",
    "**Alfabet List Comprehensions**\n",
    "\n",
    "1. Lav en liste af store bogstaver fra det engelske alfabet"
   ]
  },
  {
   "cell_type": "raw",
   "id": "24f4b3de",
   "metadata": {},
   "source": []
  },
  {
   "cell_type": "markdown",
   "id": "6df6461c",
   "metadata": {},
   "source": [
    "2. Lav en liste af store bogstaver fra det engelske alfabet, men udelad 4 med Unicode-kodepunktet enten 70, 75, 80, 85."
   ]
  },
  {
   "cell_type": "raw",
   "id": "3f99502c",
   "metadata": {},
   "source": []
  },
  {
   "cell_type": "markdown",
   "id": "89a6dd96",
   "metadata": {},
   "source": [
    "3. Lav en liste af store bogstaver fra det engelske alfabet, men udelad hvert andet bogstav mellem F & O"
   ]
  },
  {
   "cell_type": "raw",
   "id": "3b4d6f01",
   "metadata": {},
   "source": []
  },
  {
   "cell_type": "markdown",
   "id": "8ef4566e",
   "metadata": {},
   "source": [
    "---\n",
    "## 5: List Comprehension øvelser\n",
    "\n",
    "* Lav en liste af lige tal fra 0 til 20.\n",
    "* Lav en liste af kvadrater af tal fra 1 til 10.\n",
    "* Lav en liste af alle vokaler i en given streng.\n",
    "* Lav en liste af fælles elementer i to givne lister.\n",
    "* Lav en liste af ord fra en given streng, der har mere end 4 bogstaver.\n",
    "\n"
   ]
  },
  {
   "cell_type": "raw",
   "id": "904086e6",
   "metadata": {},
   "source": []
  }
 ],
 "metadata": {
  "kernelspec": {
   "display_name": ".venv",
   "language": "python",
   "name": "python3"
  },
  "language_info": {
   "codemirror_mode": {
    "name": "ipython",
    "version": 3
   },
   "file_extension": ".py",
   "mimetype": "text/x-python",
   "name": "python",
   "nbconvert_exporter": "python",
   "pygments_lexer": "ipython3",
   "version": "3.13.3"
  }
 },
 "nbformat": 4,
 "nbformat_minor": 5
}
