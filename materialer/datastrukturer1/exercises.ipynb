{
 "cells": [
  {
   "cell_type": "markdown",
   "id": "302d3bde",
   "metadata": {},
   "source": [
    "# Ping pong List øvelser"
   ]
  },
  {
   "cell_type": "markdown",
   "id": "1afa01cf",
   "metadata": {},
   "source": [
    "---\n",
    "## 1: Er det en tuple eller en liste?\n",
    "Følgende data bør præsenteres enten som en liste eller en tuple, eller som en kombination af begge.    \n",
    "Dit job er at vælge den rigtige.    \n",
    "Hint: En liste er en samling af data af samme type, en tuple er en 'record type' (f.eks. i en database er en **record** en **række**).    \n",
    "\n",
    "1. Claus, 51, male, clbo@kea.dk, 31011970-1313\n",
    "2. Bmw, Toyota, Hyundai, Skoda, Fiat, Volvo\n",
    "3. Claus, Henning, Torben, Carl, Tine\n",
    "4. 'Hello', 'World', 'Huston', 'we', 'are', 'here'\n",
    "5. Rolling Stones, Goats Head Soup, 31 August 1973, 46:56\n",
    "6. 40.730610, -73.935242, New York City, NY, USA; 31.739847, 65.755920, Kandahar, Kandahar Province, Afghanistan;"
   ]
  },
  {
   "cell_type": "markdown",
   "id": "bd5f78d1",
   "metadata": {},
   "source": [
    "1. tuple\n",
    "2. list\n",
    "3. list\n",
    "4. tuple og list\n",
    "5. tuple\n",
    "6. tuple"
   ]
  },
  {
   "cell_type": "markdown",
   "id": "8a4402b7",
   "metadata": {},
   "source": [
    "---\n",
    "## 2: Slicing\n",
    "Ved hjælp af `slicing` skal du arbejde med følgende collections."
   ]
  },
  {
   "cell_type": "code",
   "execution_count": null,
   "id": "c5e474c3",
   "metadata": {},
   "outputs": [],
   "source": [
    "\"\"\"\n",
    "['Hello', 'World', 'Huston', 'we', 'are', 'here'] bliver til -> ['World', 'Huston', 'we', 'are']\n",
    "['Hello', 'World', 'Huston', 'we', 'are', 'here'] -> ['Hello', 'World']\n",
    "['Hello', 'World', 'Huston', 'we', 'are', 'here'] -> ['are', 'here']\n",
    "['Hello', 'World', 'Huston', 'we', 'are', 'here'] -> ['are']\n",
    "['Hello', 'World', 'Huston', 'we', 'are', 'here'] -> ['Hello', 'Huston', 'are']\n",
    "['Hello', 'World', 'Huston', 'we', 'are', 'here'] -> ['here', 'are', 'we', 'Huston', 'World', 'Hello']\n",
    "('Hello', 'World', 'Huston', 'we', 'are', 'here') bliver til -> ['World', 'Huston', 'we', 'are']\n",
    "'Hello World Huston we are here' -> 'World Huston we'\n",
    "\"\"\""
   ]
  },
  {
   "cell_type": "markdown",
   "id": "ed0dd135",
   "metadata": {},
   "source": [
    "Find andre eksempler på egen hånd og øv dette mange gange."
   ]
  },
  {
   "cell_type": "code",
   "execution_count": 2,
   "id": "a629a998",
   "metadata": {},
   "outputs": [
    {
     "name": "stdout",
     "output_type": "stream",
     "text": [
      "['kiwi', 'apple']\n",
      "['apple', 'pear', 'fig']\n",
      "['orange', 'apricot', 'fig', 'pear', 'apple', 'kiwi', 'banana']\n",
      "['banana', 'apple', 'fig', 'orange']\n",
      "['kiwi', 'apple', 'pear', 'fig', 'apricot']\n",
      "['fig', 'apricot', 'orange']\n",
      "['banana', 'pear', 'orange']\n",
      "['orange', 'apricot', 'fig']\n",
      "['pear', 'apple', 'kiwi']\n",
      "['banana', 'apple', 'fig']\n",
      "['orange', 'fig', 'apple', 'banana']\n"
     ]
    }
   ],
   "source": [
    "my_list = ['banana', 'kiwi', 'apple', 'pear', 'fig', 'apricot', 'orange']\n",
    "\n",
    "print(my_list[1:3])\n",
    "print(my_list[2:5])\n",
    "print(my_list[::-1])\n",
    "print(my_list[::2])\n",
    "print(my_list[1:-1])\n",
    "print(my_list[-3:])\n",
    "print(my_list[::3])\n",
    "print(my_list[-1:-4:-1])\n",
    "print(my_list[3:0:-1])\n",
    "print(my_list[0:5:2])\n",
    "print(my_list[-1::-2])"
   ]
  },
  {
   "cell_type": "markdown",
   "id": "6aeb7bc5",
   "metadata": {},
   "source": [
    "3: Loops med range og enumerate\n",
    "\n",
    "1. lav en tom liste\n",
    "2. lav et loop (for loop) som itererer 10 gange\n",
    "3. tilføj for hver iteration henholdsvis 1, 2, 4, 8, 16, "
   ]
  },
  {
   "cell_type": "code",
   "execution_count": 12,
   "id": "451cd95c",
   "metadata": {},
   "outputs": [
    {
     "name": "stdout",
     "output_type": "stream",
     "text": [
      "[1, 2, 4, 8, 16, 32, 64, 128, 256, 512]\n"
     ]
    }
   ],
   "source": [
    "myList = []\n",
    "count = 1\n",
    "for i in range(10):\n",
    "    myList.append(count)\n",
    "    count *= 2\n",
    "\n",
    "print(myList)"
   ]
  },
  {
   "cell_type": "markdown",
   "id": "0fe83343",
   "metadata": {},
   "source": [
    "## 3: List Comprehensions\n",
    "\n",
    "**Alfabet List Comprehensions**\n",
    "\n",
    "1. Lav en liste af store bogstaver fra det engelske alfabet"
   ]
  },
  {
   "cell_type": "code",
   "execution_count": null,
   "id": "08dcd70b",
   "metadata": {},
   "outputs": [],
   "source": [
    "eng_alfabet = ('ABCDEFGHIJKLMNOPQRSTUVWXYZ')"
   ]
  },
  {
   "cell_type": "markdown",
   "id": "6df6461c",
   "metadata": {},
   "source": [
    "2. Lav en liste af store bogstaver fra det engelske alfabet, men udelad 4 med Unicode-kodepunktet enten 70, 75, 80, 85."
   ]
  },
  {
   "cell_type": "code",
   "execution_count": null,
   "id": "f95114a6",
   "metadata": {},
   "outputs": [
    {
     "name": "stdout",
     "output_type": "stream",
     "text": [
      "['A', 'B', 'C', 'D', 'E', 'G', 'H', 'I', 'J', 'L', 'M', 'N', 'O', 'Q', 'R', 'S', 'T', 'V', 'W', 'X', 'Y', 'Z']\n"
     ]
    }
   ],
   "source": [
    "# Definer de bogstaver du vil udelade, baseret på Unicode-kodepunkter\n",
    "excluded_letters = (chr(70), chr(75), chr(80), chr(85))  # F, K, P, U\n",
    "eng_alphabet = ('ABCDEFGHIJKLMNOPQRSTUVWXYZ')\n",
    "\n",
    "# List comprehension: Tilføj kun bogstaver der IKKE er i excluded_letters\n",
    "alphabet = [letter for letter in eng_alphabet if letter not in excluded_letters]\n",
    "alphabet_sorted = sorted(alphabet)\n",
    "\n",
    "print(alphabet_sorted)"
   ]
  },
  {
   "cell_type": "markdown",
   "id": "89a6dd96",
   "metadata": {},
   "source": [
    "3. Lav en liste af store bogstaver fra det engelske alfabet, men udelad hvert andet bogstav mellem F & O"
   ]
  },
  {
   "cell_type": "code",
   "execution_count": null,
   "id": "252ac6fb",
   "metadata": {},
   "outputs": [],
   "source": []
  },
  {
   "cell_type": "markdown",
   "id": "8ef4566e",
   "metadata": {},
   "source": [
    "---\n",
    "## 5: List Comprehension øvelser\n",
    "\n",
    "* Lav en liste af lige tal fra 0 til 20.\n",
    "* Lav en liste af kvadrater af tal fra 1 til 10.\n",
    "* Lav en liste af alle vokaler i en given streng.\n",
    "* Lav en liste af fælles elementer i to givne lister.\n",
    "* Lav en liste af ord fra en given streng, der har mere end 4 bogstaver.\n",
    "\n"
   ]
  },
  {
   "cell_type": "code",
   "execution_count": null,
   "id": "fa0c986e",
   "metadata": {},
   "outputs": [],
   "source": []
  }
 ],
 "metadata": {
  "kernelspec": {
   "display_name": ".venv",
   "language": "python",
   "name": "python3"
  },
  "language_info": {
   "codemirror_mode": {
    "name": "ipython",
    "version": 3
   },
   "file_extension": ".py",
   "mimetype": "text/x-python",
   "name": "python",
   "nbconvert_exporter": "python",
   "pygments_lexer": "ipython3",
   "version": "3.13.7"
  }
 },
 "nbformat": 4,
 "nbformat_minor": 5
}
