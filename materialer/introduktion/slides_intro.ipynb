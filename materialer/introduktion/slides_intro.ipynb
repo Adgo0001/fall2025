{
 "cells": [
  {
   "cell_type": "markdown",
   "id": "bbceb4ea",
   "metadata": {
    "slideshow": {
     "slide_type": "slide"
    }
   },
   "source": [
    "# Introduktion til python"
   ]
  },
  {
   "cell_type": "markdown",
   "id": "476403ac",
   "metadata": {
    "slideshow": {
     "slide_type": "slide"
    }
   },
   "source": [
    "Dette valgfag, \"Introduktion til Python efterår 2025\", er designet til at give dig en god forståelse af Python-programmeringssproget, dets udviklingsmilijøer og anvendelser indefor moderne softwareudvikling. \n",
    "\n",
    "Kurset dækker både grundlæggende og avancerede koncepter af Python, med fokus på praktisk anvendelse og en \"pythonisk\" tilgang til programmering."
   ]
  },
  {
   "cell_type": "markdown",
   "id": "6bb29f5a",
   "metadata": {
    "slideshow": {
     "slide_type": "slide"
    }
   },
   "source": [
    "## Claus Bové\n",
    "* Udannet på CBS/ITU i år 2010\n",
    "* Uddannet på Musikkoservatoriet i år 1998\n",
    "\n",
    "Underviser\n",
    "* Python\n",
    "* Teknologi 1\n",
    "* Teknologi 2\n",
    "* Softwarearkitektur på ITA\n",
    "* Statens IT"
   ]
  },
  {
   "cell_type": "markdown",
   "id": "ba60f261",
   "metadata": {
    "slideshow": {
     "slide_type": "slide"
    }
   },
   "source": [
    "## Litteratur & Materiale\n",
    "* Alt litteratur og materiale vil være tilgængeligt online.\n",
    "* https://github.com/python-elective-kea/fall2025/tree/main\n",
    "* https://ek.itslearning.com/plans/courses/7349/current/"
   ]
  },
  {
   "cell_type": "markdown",
   "id": "0efe7571",
   "metadata": {
    "slideshow": {
     "slide_type": "slide"
    }
   },
   "source": [
    "* [Om dette valgfag](https://github.com/python-elective-kea/fall2025/blob/main/materialer/formalia/about_this_elective.md)"
   ]
  },
  {
   "cell_type": "markdown",
   "id": "9f0ed429",
   "metadata": {
    "slideshow": {
     "slide_type": "slide"
    }
   },
   "source": [
    "## LLM   \n",
    "Brugen af LLM´er i forbindelse med undervisningen er tilladt.     \n",
    "Dog opfordres i til at tænke jer om i forhold til hvordan i gør brug af dem.    "
   ]
  },
  {
   "cell_type": "markdown",
   "id": "b840f6e8",
   "metadata": {
    "slideshow": {
     "slide_type": "slide"
    }
   },
   "source": [
    "# Øvelse\n",
    "* Brug 2 minutter på at finde frem til dagens læringsmål"
   ]
  },
  {
   "cell_type": "markdown",
   "id": "9d7060e3",
   "metadata": {
    "slideshow": {
     "slide_type": "slide"
    }
   },
   "source": [
    "## Software (og hardware) brugt i dette kursus\n",
    "I kurset bruger vi følgende software.\n",
    "* [Python](https://www.python.org/downloads/)\n",
    "* [VS Code](https://code.visualstudio.com/download) \n",
    "* Git & Github\n",
    "* Headphones (der er en del videoer i forbindelse med undervisningen og dem skal i kunne se uden at forstyrre alle andre i klassen).\n"
   ]
  },
  {
   "cell_type": "markdown",
   "id": "ddd15f73",
   "metadata": {
    "slideshow": {
     "slide_type": "slide"
    }
   },
   "source": [
    "# Semesterplan\n",
    "* https://github.com/python-elective-kea/fall2025/blob/main/README.md\n"
   ]
  },
  {
   "cell_type": "markdown",
   "id": "432d7005",
   "metadata": {
    "slideshow": {
     "slide_type": "slide"
    }
   },
   "source": [
    "# Obligatoriske opgaver\n",
    "* Der er 2 obligatoriske opgaver i dette valgfag\n",
    "* Den første starter d. 22/9 og skal afleveres d. 26/9\n",
    "* Den anden starter og slutter d. 24/11"
   ]
  },
  {
   "cell_type": "markdown",
   "id": "e44bb5bf",
   "metadata": {
    "slideshow": {
     "slide_type": "slide"
    }
   },
   "source": [
    "# Eksamen\n",
    "* [Mundtlig prøve baseret på en synopsis](https://github.com/python-elective-kea/fall2025/blob/main/materialer/formalia/exam.md)"
   ]
  },
  {
   "cell_type": "markdown",
   "id": "c1289dfa",
   "metadata": {
    "slideshow": {
     "slide_type": "slide"
    }
   },
   "source": [
    "## Om jer\n",
    "Jeres forventninger?"
   ]
  },
  {
   "cell_type": "markdown",
   "id": "a0ab04ed",
   "metadata": {
    "slideshow": {
     "slide_type": "slide"
    }
   },
   "source": [
    "## Gennerelt om læringsprocessen\n",
    "* 20 minutter med fokus\n",
    "* 10 minutters pause\n",
    "* osv\n",
    "\n",
    "### Gentagelser, \n",
    "* gentagelser\n",
    "* gentagelser\n",
    "* osv"
   ]
  },
  {
   "cell_type": "markdown",
   "id": "31367d00",
   "metadata": {
    "slideshow": {
     "slide_type": "slide"
    }
   },
   "source": [
    "## Læringsmål\n",
    "\n",
    "### Viden\n",
    "Du vil efter dette valgfag er gennemført have viden om:\n",
    "- Simple og avancerede elementer fra sproget.\n",
    "- Hvor og i hvilke situationer python bliver brugt.  \n",
    "- En vifte af for python relevante udviklingsværktøjer.\n",
    "- Forskellige pythoniske udviklingsmetoder.\n",
    "- Forskelle mellem scripting og kompilerede sprog."
   ]
  },
  {
   "cell_type": "markdown",
   "id": "4874582a",
   "metadata": {
    "slideshow": {
     "slide_type": "slide"
    }
   },
   "source": [
    "**Læringsmål**\n",
    "### Færdigheder\n",
    "Du vil efter dette valgfag er gennemført kunne:\n",
    "- Gøre brug af simple og avancerede elementer fra sproget. \n",
    "- Programmere via en pythonisk programmeringsstil.\n",
    "- Bruge en vifte af udviklingsværktøjer tilknyttet sproget, her i blandt Jupyter notebooks.\n",
    "- Løse abstrakte problemstillinger vha. af python og en pythonisk programeringsstil. \n",
    "- Analysere fejlbeskeder og finde løsninger på problemet."
   ]
  },
  {
   "cell_type": "markdown",
   "id": "94c10226",
   "metadata": {
    "slideshow": {
     "slide_type": "slide"
    }
   },
   "source": [
    "**Læringsmål**\n",
    "### Kompetencer\n",
    "Du vil efter dette valgfag er gennemført:\n",
    "- Være i stand til selvstændigt at sætte dig ind i nye emner og foretage litteratursøgninger og finde løsninger på opståede problemer.\n",
    "- Være i stand til at perspektivere og relatere til hvad du har lært tidligere på studiet."
   ]
  }
 ],
 "metadata": {
  "kernelspec": {
   "display_name": ".venv",
   "language": "python",
   "name": "python3"
  },
  "language_info": {
   "name": "python",
   "version": "3.13.6"
  }
 },
 "nbformat": 4,
 "nbformat_minor": 5
}
