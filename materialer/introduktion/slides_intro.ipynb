{
 "cells": [
  {
   "cell_type": "markdown",
   "id": "bbceb4ea",
   "metadata": {
    "slideshow": {
     "slide_type": "slide"
    }
   },
   "source": [
    "# Introduktion til python"
   ]
  },
  {
   "cell_type": "markdown",
   "id": "476403ac",
   "metadata": {
    "slideshow": {
     "slide_type": "slide"
    }
   },
   "source": [
    "Dette valgfag, \"Introduktion til Python efterår 2025\", er designet til at give dig en god forståelse af Python-programmeringssproget, dets udviklingsmilijøer og anvendelser indefor moderne softwareudvikling. \n",
    "\n",
    "Kurset dækker både grundlæggende og avancerede koncepter af Python, med fokus på praktisk anvendelse og en \"pythonisk\" tilgang til programmering."
   ]
  },
  {
   "cell_type": "markdown",
   "id": "6bb29f5a",
   "metadata": {
    "slideshow": {
     "slide_type": "slide"
    }
   },
   "source": [
    "## Claus Bové\n",
    "* Udannet på CBS/ITU i år 2010\n",
    "* Uddannet på Musikkoservatoriet i år 1998\n",
    "\n",
    "Underviser\n",
    "* Python\n",
    "* Teknologi 1\n",
    "* Teknologi 2\n",
    "* Softwarearkitektur på ITA\n",
    "* Statens IT"
   ]
  },
  {
   "cell_type": "markdown",
   "id": "31367d00",
   "metadata": {
    "slideshow": {
     "slide_type": "slide"
    }
   },
   "source": [
    "## Læringsmål\n",
    "\n",
    "### Viden\n",
    "Du vil efter dette valgfag er gennemført have viden om:\n",
    "- Simple og avancerede elementer fra sproget.\n",
    "- Hvor og i hvilke situationer python bliver brugt.  \n",
    "- En vifte af for python relevante udviklingsværktøjer.\n",
    "- Forskellige pythoniske udviklingsmetoder.\n",
    "- Forskelle mellem scripting og kompilerede sprog."
   ]
  },
  {
   "cell_type": "markdown",
   "id": "4874582a",
   "metadata": {
    "slideshow": {
     "slide_type": "slide"
    }
   },
   "source": [
    "## Læringsmål\n",
    "### Færdigheder\n",
    "Du vil efter dette valgfag er gennemført kunne:\n",
    "- Gøre brug af simple og avancerede elementer fra sproget. \n",
    "- Programmere via en pythonisk programmeringsstil.\n",
    "- Bruge en vifte af udviklingsværktøjer tilknyttet sproget, her i blandt Jupyter notebooks.\n",
    "- Løse abstrakte problemstillinger vha. af python og en pythonisk programeringsstil. \n",
    "- Analysere fejlbeskeder og finde løsninger på problemet."
   ]
  },
  {
   "cell_type": "markdown",
   "id": "94c10226",
   "metadata": {
    "slideshow": {
     "slide_type": "slide"
    }
   },
   "source": [
    "## Læringsmål\n",
    "### Kompetencer\n",
    "Du vil efter dette valgfag er gennemført:\n",
    "- Være i stand til selvstændigt at sætte dig ind i nye emner og foretage litteratursøgninger og finde løsninger på opståede problemer.\n",
    "- Være i stand til at perspektivere og relatere til hvad du har lært tidligere på studiet."
   ]
  },
  {
   "cell_type": "markdown",
   "id": "9f0ed429",
   "metadata": {
    "slideshow": {
     "slide_type": "slide"
    }
   },
   "source": [
    "## LLM   \n",
    "Brugen af LLM´er i forbindelse med undervisningen er tilladt.     \n",
    "Dog opfordres i til at tænke jer om i forhold til hvordan i gør brug af dem.    \n",
    "\n",
    "Hvis fokus er på at i skal lære noget, ikke bare hurtigst muligt lave en prototype er følgende råd gode at have med i baghovedet."
   ]
  },
  {
   "cell_type": "markdown",
   "id": "3e673a11",
   "metadata": {
    "slideshow": {
     "slide_type": "slide"
    }
   },
   "source": [
    "## Brug en LLM til at:\n",
    "* Få hjælp til at forstå koncepterne bedre\n",
    "* Få feedback til den kode man har skrevet eller ens forståelse af et emne\n",
    "* Få hjælp til at forklare programmeringskoncepter på en simpel måde\n",
    "* Bruge AI som opslagsværk til fx at se hvordan man itererer en liste i Python etc. \n",
    "* Få hjælp til at finde læringshuller\n",
    "* Bruge AI til at øve jeres tekniske vokabularium. Iterere et array, kalde en funktion, variablen er immutable, etc.\n",
    "* Bruge AI til at teste jeres viden"
   ]
  },
  {
   "cell_type": "markdown",
   "id": "056b89c7",
   "metadata": {
    "slideshow": {
     "slide_type": "slide"
    }
   },
   "source": [
    "## I skal ikke (i dette fag) bruge AI til:\n",
    "* At lave koden for jer\n",
    "* Løse opgaver for jer\n",
    "* Få AI til at generere løsningen på en opgave for derefter læse opgaven igennem og tro at man forstår\n",
    "\n",
    "Det kode som er i jeres projekter og opgaver, skal i kunne stå på mål for og forklare!"
   ]
  },
  {
   "cell_type": "markdown",
   "id": "1931a8df",
   "metadata": {
    "slideshow": {
     "slide_type": "slide"
    }
   },
   "source": [
    "## Husk at være opmærksom på jeres læringsprocess!\n",
    "\n",
    "* Hvordan lærer i bedst et emne?\n",
    "* Hvordan ved i at i har opnået en kompetence?\n",
    "* Hvad er dårligt for jeres læringsprocess?"
   ]
  },
  {
   "cell_type": "markdown",
   "id": "a0ab04ed",
   "metadata": {
    "slideshow": {
     "slide_type": "slide"
    }
   },
   "source": [
    "## Gennerelt om læringsprocessen\n",
    "* 20 minutter med fokus\n",
    "* 10 minutters pause\n",
    "* osv\n",
    "\n",
    "### Gentagelser, \n",
    "* gentagelser\n",
    "* gentagelser\n",
    "* osv"
   ]
  },
  {
   "cell_type": "markdown",
   "id": "b840f6e8",
   "metadata": {
    "slideshow": {
     "slide_type": "slide"
    }
   },
   "source": [
    "# Øvelse\n",
    "\n",
    "Kig på disse punkter fra læringsmålene i 1 minut.    \n",
    "Vælg 1 af punkter du ikke forstår og be´ mig om at uddybe det. \n",
    "\n",
    "### Færdigheder\n",
    "Du vil efter dette valgfag er gennemført kunne:\n",
    "- Gøre brug af simple og avancerede elementer fra sproget. \n",
    "- Programmere via en pythonisk programmeringsstil.\n",
    "- Bruge en vifte af udviklingsværktøjer tilknyttet sproget, her i blandt Jupyter notebooks.\n",
    "- Løse abstrakte problemstillinger vha. af python og en pythonisk programeringsstil. \n",
    "- Analysere fejlbeskeder og finde løsninger på problemet.\n"
   ]
  },
  {
   "cell_type": "markdown",
   "id": "9d7060e3",
   "metadata": {
    "slideshow": {
     "slide_type": "slide"
    }
   },
   "source": [
    "## Software (og hardware) brugt i dette kursus\n",
    "I kurset bruger vi følgende software.\n",
    "* [Python](https://www.python.org/downloads/)\n",
    "* [VS Code](https://code.visualstudio.com/download) \n",
    "* Git & Github\n",
    "* Headphones (der er en del videoer i forbindelse med undervisningen og dem skal i kunne se uden at forstyrre alle andre i klassen).\n"
   ]
  },
  {
   "cell_type": "markdown",
   "id": "ba60f261",
   "metadata": {
    "slideshow": {
     "slide_type": "slide"
    }
   },
   "source": [
    "## Litteratur \n",
    "* Alt litteratur vil være tilgængeligt online, og der vil være links i kompendiet til hver undervisningsgang."
   ]
  },
  {
   "cell_type": "markdown",
   "id": "ddd15f73",
   "metadata": {},
   "source": [
    "# Semesterplan\n",
    "* https://github.com/python-elective-kea/fall2025/blob/main/README.md\n",
    "* https://ek.itslearning.com/plans/courses/7349/current/"
   ]
  },
  {
   "cell_type": "markdown",
   "id": "432d7005",
   "metadata": {},
   "source": [
    "# Obligatoriske opgaver\n",
    "* Der er 2 obligatoriske opgaver i dette valgfag\n",
    "* Den første starter d. 22/9 og skal afleveres d. 26/9\n",
    "* Den anden starter d. 24/11"
   ]
  },
  {
   "cell_type": "markdown",
   "id": "e44bb5bf",
   "metadata": {},
   "source": [
    "# Eksamen"
   ]
  },
  {
   "cell_type": "markdown",
   "id": "c1289dfa",
   "metadata": {
    "slideshow": {
     "slide_type": "slide"
    }
   },
   "source": [
    "## Om jer\n",
    "Jeres forventninger?"
   ]
  }
 ],
 "metadata": {
  "kernelspec": {
   "display_name": ".venv",
   "language": "python",
   "name": "python3"
  },
  "language_info": {
   "name": "python",
   "version": "3.13.6"
  }
 },
 "nbformat": 4,
 "nbformat_minor": 5
}
