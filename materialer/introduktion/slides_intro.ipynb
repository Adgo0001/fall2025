{
 "cells": [
  {
   "cell_type": "markdown",
   "id": "bbceb4ea",
   "metadata": {
    "slideshow": {
     "slide_type": "slide"
    }
   },
   "source": [
    "# Introduktion til python"
   ]
  },
  {
   "cell_type": "markdown",
   "id": "036e70ed",
   "metadata": {
    "slideshow": {
     "slide_type": "slide"
    }
   },
   "source": [
    "## Hvorfor arbejde med kode ..."
   ]
  },
  {
   "cell_type": "markdown",
   "id": "94f5c9ca",
   "metadata": {
    "slideshow": {
     "slide_type": "fragment"
    }
   },
   "source": [
    "<div style=\"text-align: right\"><h3>... med hjælp fra en LLM?</h3></div>"
   ]
  },
  {
   "cell_type": "markdown",
   "id": "0e1dbb31",
   "metadata": {
    "slideshow": {
     "slide_type": "fragment"
    }
   },
   "source": [
    "<div style=\"text-align: right\"><h3>... uden hjælp fra LLM?</h3></div>  "
   ]
  },
  {
   "cell_type": "markdown",
   "id": "1f9b9659",
   "metadata": {
    "slideshow": {
     "slide_type": "slide"
    }
   },
   "source": [
    "## Min motivation\n",
    "* Jeg synes det er MEGA sjovt"
   ]
  }
 ],
 "metadata": {
  "kernelspec": {
   "display_name": ".venv",
   "language": "python",
   "name": "python3"
  },
  "language_info": {
   "name": "python",
   "version": "3.13.3"
  }
 },
 "nbformat": 4,
 "nbformat_minor": 5
}
