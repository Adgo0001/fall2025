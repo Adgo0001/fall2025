{
 "cells": [
  {
   "cell_type": "markdown",
   "id": "46506087",
   "metadata": {},
   "source": [
    "# Kode fra undervisningen (Intro)"
   ]
  },
  {
   "cell_type": "markdown",
   "id": "95315d38",
   "metadata": {},
   "source": [
    "## Hello world"
   ]
  },
  {
   "cell_type": "code",
   "execution_count": 2,
   "id": "22019c25",
   "metadata": {},
   "outputs": [
    {
     "name": "stdout",
     "output_type": "stream",
     "text": [
      "Hello wrold\n"
     ]
    }
   ],
   "source": [
    "print('Hello wrold')"
   ]
  },
  {
   "cell_type": "markdown",
   "id": "ae0d8c91",
   "metadata": {},
   "source": [
    "## Variabler"
   ]
  },
  {
   "cell_type": "code",
   "execution_count": null,
   "id": "075d25fa",
   "metadata": {},
   "outputs": [
    {
     "data": {
      "text/plain": [
       "dict"
      ]
     },
     "execution_count": 11,
     "metadata": {},
     "output_type": "execute_result"
    }
   ],
   "source": [
    "a = 'Hello world'\n",
    "a = 12\n",
    "a = False\n",
    "a = 13.5\n",
    "\n",
    "l = {1:'dd', 2: 'rrr', 3:'yyy', 4: '46456'}\n",
    "\n",
    "type(l)"
   ]
  },
  {
   "cell_type": "markdown",
   "id": "caa02c05",
   "metadata": {},
   "source": [
    "## Datatyper\n",
    "* int\n",
    "* String\n",
    "* float\n",
    "* bool\n",
    "* list\n",
    "* tuple\n",
    "* set \n",
    "* dictionary"
   ]
  },
  {
   "cell_type": "code",
   "execution_count": null,
   "id": "36a10e05",
   "metadata": {},
   "outputs": [],
   "source": []
  },
  {
   "cell_type": "markdown",
   "id": "aeb99cc5",
   "metadata": {},
   "source": [
    "## Indbyggede funktioner\n",
    "https://docs.python.org/3/library/functions.html"
   ]
  },
  {
   "cell_type": "code",
   "execution_count": 13,
   "id": "9e5299d4",
   "metadata": {},
   "outputs": [],
   "source": [
    "x = input('Havd vil du gerne sige?')"
   ]
  },
  {
   "cell_type": "code",
   "execution_count": 14,
   "id": "2c2f0a8f",
   "metadata": {},
   "outputs": [
    {
     "data": {
      "text/plain": [
       "'Hej'"
      ]
     },
     "execution_count": 14,
     "metadata": {},
     "output_type": "execute_result"
    }
   ],
   "source": [
    "x"
   ]
  },
  {
   "cell_type": "markdown",
   "id": "24ede64f",
   "metadata": {},
   "source": [
    "## Hvad er ... ?\n",
    "* help\n",
    "* dir\n",
    "* ChatGpt\n",
    "* Google"
   ]
  },
  {
   "cell_type": "code",
   "execution_count": 17,
   "id": "7977855b",
   "metadata": {},
   "outputs": [
    {
     "data": {
      "text/plain": [
       "'12'"
      ]
     },
     "execution_count": 17,
     "metadata": {},
     "output_type": "execute_result"
    }
   ],
   "source": [
    "str(12)"
   ]
  },
  {
   "cell_type": "code",
   "execution_count": 19,
   "id": "f1f1a2e6",
   "metadata": {},
   "outputs": [
    {
     "data": {
      "text/plain": [
       "['__add__',\n",
       " '__class__',\n",
       " '__contains__',\n",
       " '__delattr__',\n",
       " '__dir__',\n",
       " '__doc__',\n",
       " '__eq__',\n",
       " '__format__',\n",
       " '__ge__',\n",
       " '__getattribute__',\n",
       " '__getitem__',\n",
       " '__getnewargs__',\n",
       " '__getstate__',\n",
       " '__gt__',\n",
       " '__hash__',\n",
       " '__init__',\n",
       " '__init_subclass__',\n",
       " '__iter__',\n",
       " '__le__',\n",
       " '__len__',\n",
       " '__lt__',\n",
       " '__mod__',\n",
       " '__mul__',\n",
       " '__ne__',\n",
       " '__new__',\n",
       " '__reduce__',\n",
       " '__reduce_ex__',\n",
       " '__repr__',\n",
       " '__rmod__',\n",
       " '__rmul__',\n",
       " '__setattr__',\n",
       " '__sizeof__',\n",
       " '__str__',\n",
       " '__subclasshook__',\n",
       " 'capitalize',\n",
       " 'casefold',\n",
       " 'center',\n",
       " 'count',\n",
       " 'encode',\n",
       " 'endswith',\n",
       " 'expandtabs',\n",
       " 'find',\n",
       " 'format',\n",
       " 'format_map',\n",
       " 'index',\n",
       " 'isalnum',\n",
       " 'isalpha',\n",
       " 'isascii',\n",
       " 'isdecimal',\n",
       " 'isdigit',\n",
       " 'isidentifier',\n",
       " 'islower',\n",
       " 'isnumeric',\n",
       " 'isprintable',\n",
       " 'isspace',\n",
       " 'istitle',\n",
       " 'isupper',\n",
       " 'join',\n",
       " 'ljust',\n",
       " 'lower',\n",
       " 'lstrip',\n",
       " 'maketrans',\n",
       " 'partition',\n",
       " 'removeprefix',\n",
       " 'removesuffix',\n",
       " 'replace',\n",
       " 'rfind',\n",
       " 'rindex',\n",
       " 'rjust',\n",
       " 'rpartition',\n",
       " 'rsplit',\n",
       " 'rstrip',\n",
       " 'split',\n",
       " 'splitlines',\n",
       " 'startswith',\n",
       " 'strip',\n",
       " 'swapcase',\n",
       " 'title',\n",
       " 'translate',\n",
       " 'upper',\n",
       " 'zfill']"
      ]
     },
     "execution_count": 19,
     "metadata": {},
     "output_type": "execute_result"
    }
   ],
   "source": [
    "dir(str)"
   ]
  },
  {
   "cell_type": "markdown",
   "id": "fbbbecde",
   "metadata": {},
   "source": [
    "## Q: Kan jeg sammensætte en tekst streg og en int?"
   ]
  },
  {
   "cell_type": "code",
   "execution_count": 23,
   "id": "c3695aad",
   "metadata": {},
   "outputs": [
    {
     "data": {
      "text/plain": [
       "'Hello12'"
      ]
     },
     "execution_count": 23,
     "metadata": {},
     "output_type": "execute_result"
    }
   ],
   "source": [
    "'Hello' + str(12) "
   ]
  },
  {
   "cell_type": "markdown",
   "id": "9d2379f6",
   "metadata": {},
   "source": [
    "## Funktioner, indentering, betingelser, compilering"
   ]
  },
  {
   "cell_type": "code",
   "execution_count": null,
   "id": "97e1a5f8",
   "metadata": {},
   "outputs": [
    {
     "ename": "IndentationError",
     "evalue": "expected an indented block after 'if' statement on line 2 (837771590.py, line 3)",
     "output_type": "error",
     "traceback": [
      "  \u001b[36mCell\u001b[39m\u001b[36m \u001b[39m\u001b[32mIn[45]\u001b[39m\u001b[32m, line 3\u001b[39m\n\u001b[31m    \u001b[39m\u001b[31mprint('Hello ' + name)\u001b[39m\n    ^\n\u001b[31mIndentationError\u001b[39m\u001b[31m:\u001b[39m expected an indented block after 'if' statement on line 2\n"
     ]
    }
   ],
   "source": [
    "def message(name):\n",
    "    if name == 'Claus':\n",
    "        print('Hello ' + name)\n",
    "    else:\n",
    "        print('No NO NO') "
   ]
  },
  {
   "cell_type": "code",
   "execution_count": 44,
   "id": "7f3580c6",
   "metadata": {},
   "outputs": [
    {
     "name": "stdout",
     "output_type": "stream",
     "text": [
      "No NO NO\n"
     ]
    }
   ],
   "source": [
    "message(10)"
   ]
  },
  {
   "cell_type": "markdown",
   "id": "4b802771",
   "metadata": {},
   "source": [
    "## String"
   ]
  },
  {
   "cell_type": "code",
   "execution_count": 46,
   "id": "e33778fc",
   "metadata": {},
   "outputs": [],
   "source": [
    "a = 'Hello'"
   ]
  },
  {
   "cell_type": "markdown",
   "id": "8f0e2335",
   "metadata": {},
   "source": [
    "## String metoder"
   ]
  },
  {
   "cell_type": "code",
   "execution_count": 54,
   "id": "fe058654",
   "metadata": {},
   "outputs": [
    {
     "data": {
      "text/plain": [
       "'hello'"
      ]
     },
     "execution_count": 54,
     "metadata": {},
     "output_type": "execute_result"
    }
   ],
   "source": [
    "a.lower()\n"
   ]
  },
  {
   "cell_type": "markdown",
   "id": "1f2cde0e",
   "metadata": {},
   "source": [
    "## Indexerede"
   ]
  },
  {
   "cell_type": "code",
   "execution_count": 56,
   "id": "25f7ddcc",
   "metadata": {},
   "outputs": [
    {
     "data": {
      "text/plain": [
       "'l'"
      ]
     },
     "execution_count": 56,
     "metadata": {},
     "output_type": "execute_result"
    }
   ],
   "source": [
    "a[-2]"
   ]
  },
  {
   "cell_type": "markdown",
   "id": "80809271",
   "metadata": {},
   "source": [
    "## String formatering\n",
    "* \\+\n",
    "* f-string"
   ]
  },
  {
   "cell_type": "code",
   "execution_count": 66,
   "id": "acad4506",
   "metadata": {},
   "outputs": [
    {
     "data": {
      "text/plain": [
       "'hrllo 12'"
      ]
     },
     "execution_count": 66,
     "metadata": {},
     "output_type": "execute_result"
    }
   ],
   "source": [
    "a = f'hrllo {str(12)}'\n",
    "a"
   ]
  },
  {
   "cell_type": "markdown",
   "id": "caec678f",
   "metadata": {},
   "source": [
    "## Slicing"
   ]
  },
  {
   "cell_type": "code",
   "execution_count": 60,
   "id": "5c0cd327",
   "metadata": {},
   "outputs": [],
   "source": [
    "h = 'https://dr.dk'"
   ]
  },
  {
   "cell_type": "code",
   "execution_count": 63,
   "id": "9b9587a3",
   "metadata": {},
   "outputs": [
    {
     "data": {
      "text/plain": [
       "'dk'"
      ]
     },
     "execution_count": 63,
     "metadata": {},
     "output_type": "execute_result"
    }
   ],
   "source": [
    "h[-2:]"
   ]
  },
  {
   "cell_type": "code",
   "execution_count": null,
   "id": "576f2981",
   "metadata": {},
   "outputs": [],
   "source": []
  }
 ],
 "metadata": {
  "kernelspec": {
   "display_name": ".venv",
   "language": "python",
   "name": "python3"
  },
  "language_info": {
   "codemirror_mode": {
    "name": "ipython",
    "version": 3
   },
   "file_extension": ".py",
   "mimetype": "text/x-python",
   "name": "python",
   "nbconvert_exporter": "python",
   "pygments_lexer": "ipython3",
   "version": "3.13.6"
  }
 },
 "nbformat": 4,
 "nbformat_minor": 5
}
