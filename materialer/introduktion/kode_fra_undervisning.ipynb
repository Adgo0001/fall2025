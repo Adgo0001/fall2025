{
 "cells": [
  {
   "cell_type": "markdown",
   "id": "46506087",
   "metadata": {},
   "source": [
    "# Kode fra undervisningen (Intro)"
   ]
  },
  {
   "cell_type": "markdown",
   "id": "95315d38",
   "metadata": {},
   "source": [
    "## Hello world"
   ]
  },
  {
   "cell_type": "code",
   "execution_count": null,
   "id": "22019c25",
   "metadata": {
    "vscode": {
     "languageId": "plaintext"
    }
   },
   "outputs": [],
   "source": []
  },
  {
   "cell_type": "markdown",
   "id": "ae0d8c91",
   "metadata": {},
   "source": []
  }
 ],
 "metadata": {
  "language_info": {
   "name": "python"
  }
 },
 "nbformat": 4,
 "nbformat_minor": 5
}
