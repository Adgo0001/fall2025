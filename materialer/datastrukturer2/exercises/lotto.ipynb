{
 "cells": [
  {
   "cell_type": "markdown",
   "metadata": {},
   "source": [
    "# Lotto udtrækning\n",
    "![](../../assets/img/lotto.png)\n",
    "## Set øvelse "
   ]
  },
  {
   "cell_type": "markdown",
   "metadata": {},
   "source": [
    "I csv filen [lotto_bids.csv](lotto_bids.csv) findes der 10000 rækker med fiktive lotto bud.    \n",
    "Din opgave er at finde ud af hvor mange af disse bud er på henholdsvis 7, 6 og 5 rigtige.   \n",
    "\n",
    "Tip: Du skal have fokus på Set beregningerne, ikke på input/output og brugerinteraktion."
   ]
  },
  {
   "cell_type": "markdown",
   "metadata": {},
   "source": [
    "### Analyser funktionen\n",
    "Første opgave er at kigge på koden herunder, og forstå hvad der foregår.    \n",
    "Skriv evt. kommentarer til hver linie i af koden"
   ]
  },
  {
   "cell_type": "code",
   "execution_count": 47,
   "metadata": {},
   "outputs": [],
   "source": [
    "import csv      # csv modulet bruges til at arbejde med csv filer og data\n",
    "\n",
    "def lottonumbers():\n",
    "    f = open('lotto_bids.csv', 'r')\n",
    "    numbers = csv.reader(f)\n",
    "    return [set(i) for i in numbers]"
   ]
  },
  {
   "cell_type": "markdown",
   "metadata": {},
   "source": [
    "### De 7 rigtige\n",
    "Herefter skal du samenligne alle tal fra csv filen med disse 7 rigtige Lotto numre."
   ]
  },
  {
   "cell_type": "code",
   "execution_count": 49,
   "metadata": {},
   "outputs": [],
   "source": [
    "win_numbers = {'11','12','41','21','15','64','52'}"
   ]
  },
  {
   "cell_type": "code",
   "execution_count": 50,
   "metadata": {},
   "outputs": [
    {
     "name": "stdout",
     "output_type": "stream",
     "text": [
      "{'11', '15', '52', '64', '41', '12', '21'}\n"
     ]
    }
   ],
   "source": [
    "x = 0\n",
    "for i in lottonumbers():\n",
    "    if i == win_numbers:\n",
    "        print(i)\n"
   ]
  },
  {
   "cell_type": "code",
   "execution_count": null,
   "metadata": {},
   "outputs": [],
   "source": []
  }
 ],
 "metadata": {
  "kernelspec": {
   "display_name": ".venv",
   "language": "python",
   "name": "python3"
  },
  "language_info": {
   "codemirror_mode": {
    "name": "ipython",
    "version": 3
   },
   "file_extension": ".py",
   "mimetype": "text/x-python",
   "name": "python",
   "nbconvert_exporter": "python",
   "pygments_lexer": "ipython3",
   "version": "3.13.3"
  }
 },
 "nbformat": 4,
 "nbformat_minor": 2
}
