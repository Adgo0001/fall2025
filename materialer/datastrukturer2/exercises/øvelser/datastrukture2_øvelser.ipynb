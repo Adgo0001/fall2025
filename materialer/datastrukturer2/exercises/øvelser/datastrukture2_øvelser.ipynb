{
 "cells": [
  {
   "cell_type": "markdown",
   "id": "d76e76c4",
   "metadata": {},
   "source": [
    "## Øvelser\n",
    "\n",
    "### Øv 1: subset ($\\subset$) og perfect subset ($\\subseteq$)\n",
    "\n",
    "På baggrund af disse 2 sets kan du finde ud af om de er ens ved hjælp af `==` opratoren."
   ]
  },
  {
   "cell_type": "code",
   "execution_count": 15,
   "id": "76828c43",
   "metadata": {},
   "outputs": [
    {
     "name": "stdout",
     "output_type": "stream",
     "text": [
      "Kan man bruge == til at se om de er ens? True\n",
      "Det ser sådan ud\n"
     ]
    }
   ],
   "source": [
    "p = {1, 2, 3, 4, 5}\n",
    "q = {1, 2, 3, 4, 5}\n",
    "\n",
    "print('Kan man bruge == til at se om de er ens?', p == q)\n",
    "print('Det ser sådan ud')\n"
   ]
  },
  {
   "cell_type": "markdown",
   "id": "a06c21e1",
   "metadata": {},
   "source": [
    "Du vil også kunne finde ud af om de er ens ved hjælp af subset ($\\subset$) og perfect subset ($\\subseteq$). \n",
    "\n",
    "* **Lav dette med python kode.**\n",
    "    * (lav det først med **set metoderne** og derefter med **set opratorene**)."
   ]
  },
  {
   "cell_type": "code",
   "execution_count": null,
   "id": "9d1a8b97",
   "metadata": {},
   "outputs": [
    {
     "name": "stdout",
     "output_type": "stream",
     "text": [
      "True\n",
      "True\n",
      "True\n",
      "True\n",
      "False\n",
      "False\n"
     ]
    }
   ],
   "source": [
    "print(p.issubset(q))\n",
    "print(q.issubset(p))\n",
    "\n",
    "print(p <= q)\n",
    "print(q <= p)\n",
    "\n",
    "# De her to nedenstående kan ikke lade sig gøre for p og q i dette tilfælde, ikke er et strengt subset, da de er ens.\n",
    "# Med andre or: her giver de False, fordi p og q er ens\n",
    "# og et strengt subset kræver at det ene set er \"mindre\" end det andet\n",
    "print(p < q)\n",
    "print(q < p)"
   ]
  },
  {
   "cell_type": "markdown",
   "id": "0486fb19",
   "metadata": {},
   "source": [
    "### Ex 4: Tøjliste Comprehension\n",
    "Den første del af denne øvelse har du lavet sidste uge (hvis ikke, skal du lave den nu).\n",
    "\n",
    "Udfra disse 2 lister:\n"
   ]
  },
  {
   "cell_type": "markdown",
   "id": "e94c0899",
   "metadata": {},
   "source": [
    "colors = ['Black', 'White']\n",
    "sizes = ['s', 'm', 'l', 'xl']"
   ]
  },
  {
   "cell_type": "markdown",
   "id": "cd9ff481",
   "metadata": {},
   "source": [
    "Skal du finde det der hedder 'Cartesian Product' hvilket vil sige du skal lave en liste der ser sådan ud:"
   ]
  },
  {
   "cell_type": "markdown",
   "id": "f541959b",
   "metadata": {},
   "source": [
    "[(‘Black’, ‘s’), (‘Black’, ‘m’), (‘Black’, ‘l’), (‘Black’, ‘xl’), (‘White’, ‘s’), (‘White’, ‘m’), (‘White’, ‘l’), (‘White’, ‘xl’)]"
   ]
  },
  {
   "cell_type": "markdown",
   "id": "9e2e32c2",
   "metadata": {},
   "source": [
    "**Nested for loop**    \n",
    "Først skal du lave det vha. et **nested for loop**."
   ]
  },
  {
   "cell_type": "code",
   "execution_count": null,
   "id": "ad191b29",
   "metadata": {},
   "outputs": [
    {
     "name": "stdout",
     "output_type": "stream",
     "text": [
      "[('Black', 's'), ('Black', 'm'), ('Black', 'l'), ('Black', 'xl'), ('White', 's'), ('White', 'm'), ('White', 'l'), ('White', 'xl')]\n"
     ]
    }
   ],
   "source": [
    "colors = ['Black', 'White']\n",
    "sizes = ['s', 'm', 'l', 'xl']\n",
    "\n",
    "resultat = []\n",
    "\n",
    "for color in colors:\n",
    "    for size in sizes:\n",
    "        resultat.append((color, size))\n",
    "print(resultat)"
   ]
  },
  {
   "cell_type": "markdown",
   "id": "f521a596",
   "metadata": {},
   "source": [
    "\n",
    "**List comprehension**\n",
    "\n",
    "Herefter ved hjælp af en list **comprehension**"
   ]
  },
  {
   "cell_type": "code",
   "execution_count": 24,
   "id": "53a0fe39",
   "metadata": {},
   "outputs": [
    {
     "name": "stdout",
     "output_type": "stream",
     "text": [
      "[('Black', 's'), ('Black', 'm'), ('Black', 'l'), ('Black', 'xl'), ('White', 's'), ('White', 'm'), ('White', 'l'), ('White', 'xl')]\n"
     ]
    }
   ],
   "source": [
    "resultat = [(color, size) for color in colors for size in sizes]\n",
    "\n",
    "print(resultat)"
   ]
  },
  {
   "cell_type": "markdown",
   "id": "ec5c1f6b",
   "metadata": {},
   "source": [
    "**Sold out**\n",
    "\n",
    "Herefter skal du fjerne de elemeneter der er i denne liste:\n",
    "soldout = [('Black', 'm'), ('White', 's')]\n",
    "\n",
    "Så hvis tuple-parret er i **souldout** listen, skal det ikke tilføjes til den genererede list comprehension."
   ]
  },
  {
   "cell_type": "code",
   "execution_count": 27,
   "id": "4b6e7aa0",
   "metadata": {},
   "outputs": [
    {
     "name": "stdout",
     "output_type": "stream",
     "text": [
      "[('Black', 's'), ('Black', 'l'), ('Black', 'xl'), ('White', 'm'), ('White', 'l'), ('White', 'xl')]\n"
     ]
    }
   ],
   "source": [
    "colors = ['Black', 'White']\n",
    "sizes = ['s', 'm', 'l', 'xl']\n",
    "soldout = [('Black', 'm'), ('White', 's')]\n",
    "\n",
    "resultat = [(color, size) for color in colors for size in sizes if (color, size) not in soldout]\n",
    "\n",
    "print(resultat)"
   ]
  },
  {
   "cell_type": "markdown",
   "id": "a2faaeb0",
   "metadata": {},
   "source": [
    "**Øvelsen med sets**    \n",
    "Lav nu øvelsen igen, men hvor colors, sizes og soldout er **sets** i stedet for lister. `colors = {'Black', 'White'}` etc.    \n",
    "Du kan i princippet lave denne øvelse meget lig den forrige, men det er mere \"effektiv\" at bruge set operatorer til at lave \"soldout\"-delen af øvelsen."
   ]
  },
  {
   "cell_type": "code",
   "execution_count": null,
   "id": "c3d8e30f",
   "metadata": {},
   "outputs": [
    {
     "name": "stdout",
     "output_type": "stream",
     "text": [
      "{('Black', 'l'), ('White', 'm'), ('Black', 's'), ('White', 'xl'), ('White', 'l'), ('Black', 'xl')}\n"
     ]
    }
   ],
   "source": [
    "colors = {'Black', 'White'}\n",
    "sizes = {'s', 'm', 'l', 'xl'}\n",
    "soldout = {('Black', 'm'), ('White', 's')}\n",
    "\n",
    "cartesian = {(color, size) for color in colors for size in sizes}\n",
    "\n",
    "resultat = cartesian - soldout\n",
    "\n",
    "print(resultat)"
   ]
  },
  {
   "cell_type": "markdown",
   "id": "30d1ec33",
   "metadata": {},
   "source": [
    "\n",
    "**Øvelsen med brug af itertools**\n",
    "\n",
    "Du kan også løse dette ved at importere modulet **itertools** og fra det modul bruge `product` functionen.\n",
    "Prøv det og lig mærke til forskellen fra dine tidligere løsninger. "
   ]
  },
  {
   "cell_type": "code",
   "execution_count": 32,
   "id": "7af1c414",
   "metadata": {},
   "outputs": [
    {
     "name": "stdout",
     "output_type": "stream",
     "text": [
      "{('Black', 'l'), ('White', 'm'), ('Black', 's'), ('White', 'xl'), ('White', 'l'), ('Black', 'xl')}\n"
     ]
    }
   ],
   "source": [
    "from itertools import product\n",
    "\n",
    "colors = {'Black', 'White'}\n",
    "sizes = {'s', 'm', 'l', 'xl'}\n",
    "soldout = {('Black', 'm'), ('White', 's')}\n",
    "\n",
    "cartesian = set(product(colors, sizes))\n",
    "resultat = cartesian - set(soldout)\n",
    "print(resultat)"
   ]
  },
  {
   "cell_type": "markdown",
   "id": "225bedd9",
   "metadata": {},
   "source": [
    "\n",
    "\n",
    "### Set, Dict øvelser\n",
    "\n",
    "* [Dictionary](exercises/dict.ipynb)\n",
    "* [Set](exercises/set.ipynb)\n",
    "* [Lotto](exercises/lotto.ipynb)\n",
    "<!--\n",
    "* [Word count](https://github.com/python-elective-kea/fall2020/tree/master/sphinx/source/exercises/dict_exercises/count_words_in_file)\n",
    "-->\n",
    "<!--\n",
    "#### quizes\n",
    "* [Lists and Tuples Quiz](https://realpython.com/quizzes/python-lists-tuples/)\n",
    "* [\"while\" Loops Quiz](https://realpython.com/quizzes/python-while-loop/)\n",
    "-->\n"
   ]
  }
 ],
 "metadata": {
  "kernelspec": {
   "display_name": ".venv",
   "language": "python",
   "name": "python3"
  },
  "language_info": {
   "codemirror_mode": {
    "name": "ipython",
    "version": 3
   },
   "file_extension": ".py",
   "mimetype": "text/x-python",
   "name": "python",
   "nbconvert_exporter": "python",
   "pygments_lexer": "ipython3",
   "version": "3.13.7"
  }
 },
 "nbformat": 4,
 "nbformat_minor": 5
}
