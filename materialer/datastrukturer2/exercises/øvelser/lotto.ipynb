{
 "cells": [
  {
   "cell_type": "markdown",
   "metadata": {},
   "source": [
    "# Lotto udtrækning\n",
    "![](../img/lotto.png)\n",
    "## Set øvelse "
   ]
  },
  {
   "cell_type": "markdown",
   "metadata": {},
   "source": [
    "I csv filen [lotto_bids.csv](lotto_bids.csv) findes der 10000 rækker med fiktive lotto bud.    \n",
    "Din opgave er at finde ud af hvor mange af disse bud er på henholdsvis 7, 6 og 5 rigtige.   \n",
    "\n",
    "Tip: Du skal have fokus på Set beregningerne, ikke på input/output og brugerinteraktion."
   ]
  },
  {
   "cell_type": "markdown",
   "metadata": {},
   "source": [
    "### Analyser funktionen\n",
    "Første opgave er at kigge på koden herunder, og forstå hvad der foregår.    \n",
    "Skriv evt. kommentarer til hver linie i af koden"
   ]
  },
  {
   "cell_type": "code",
   "execution_count": 19,
   "metadata": {},
   "outputs": [],
   "source": [
    "import csv      # csv modulet bruges til at arbejde med csv filer og data\n",
    "\n",
    "def lottonumbers():\n",
    "    f = open('lotto_bids.csv', 'r')\n",
    "    numbers = csv.reader(f)\n",
    "    return [set(i) for i in numbers]"
   ]
  },
  {
   "cell_type": "markdown",
   "metadata": {},
   "source": [
    "### De 7 rigtige\n",
    "Herefter skal du samenligne alle tal fra csv filen med disse 7 rigtige Lotto numre."
   ]
  },
  {
   "cell_type": "code",
   "execution_count": 20,
   "metadata": {},
   "outputs": [],
   "source": [
    "win_numbers = {'14','19','21','24','32','34','75'}"
   ]
  },
  {
   "cell_type": "code",
   "execution_count": null,
   "metadata": {},
   "outputs": [],
   "source": []
  },
  {
   "cell_type": "markdown",
   "metadata": {},
   "source": [
    "#### 6 rigtige\n",
    "Hvor mange har fået 6 rigtige?"
   ]
  },
  {
   "cell_type": "code",
   "execution_count": null,
   "metadata": {},
   "outputs": [],
   "source": []
  },
  {
   "cell_type": "markdown",
   "metadata": {},
   "source": [
    "#### 5 rigtige\n",
    "Og hvor mange har ramt 5 ud af de 7 rigtige?"
   ]
  },
  {
   "cell_type": "code",
   "execution_count": null,
   "metadata": {},
   "outputs": [],
   "source": []
  }
 ],
 "metadata": {
  "kernelspec": {
   "display_name": ".venv",
   "language": "python",
   "name": "python3"
  },
  "language_info": {
   "codemirror_mode": {
    "name": "ipython",
    "version": 3
   },
   "file_extension": ".py",
   "mimetype": "text/x-python",
   "name": "python",
   "nbconvert_exporter": "python",
   "pygments_lexer": "ipython3",
   "version": "3.13.6"
  }
 },
 "nbformat": 4,
 "nbformat_minor": 2
}
