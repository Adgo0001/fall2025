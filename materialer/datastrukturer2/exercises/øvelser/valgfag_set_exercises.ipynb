{
 "cells": [
  {
   "cell_type": "markdown",
   "metadata": {},
   "source": [
    "# Valgfag Set Øvelser\n",
    "## Analyse af studerende tilmeldinger\n",
    "\n",
    "I denne øvelse skal I arbejde med rigtige data om studerende tilmeldinger til KEA's valgfag. Vi har 7 forskellige valgfag med forskellige antal studerende.\n",
    "\n",
    "**Målet**: Bruge Python sets til at besvare praktiske spørgsmål om studerende tilmeldinger.\n",
    "\n",
    "**Vigtige pointer**:\n",
    "- Fokuser på **set operationer**, ikke på input/output\n",
    "- Tænk i **Venn diagrammer** når I løser opgaverne\n",
    "- Brug Python's set operatorer: `|` `&` `-` `^` `<=` `<`"
   ]
  },
  {
   "cell_type": "code",
   "execution_count": null,
   "metadata": {},
   "outputs": [],
   "source": []
  },
  {
   "cell_type": "markdown",
   "metadata": {},
   "source": [
    "## Forberedelse - Indlæs data\n",
    "\n",
    "Først skal vi indlæse alle valgfag-tilmeldingerne. Koden herunder opretter sets med fulde navne for hver valgfag."
   ]
  },
  {
   "cell_type": "code",
   "execution_count": 2,
   "metadata": {},
   "outputs": [
    {
     "name": "stdout",
     "output_type": "stream",
     "text": [
      "Python: 31 studerende\n",
      "AI-agenter: 35 studerende\n",
      "IT-sikkerhed: 41 studerende\n",
      "Low level C: 16 studerende\n",
      "Datastrukturer: 18 studerende\n",
      "DevOps: 38 studerende\n",
      "NodeJs: 34 studerende\n"
     ]
    }
   ],
   "source": [
    "import csv      # csv modulet bruges til at arbejde med csv filer og data\n",
    "\n",
    "def indlaes_valgfag(filnavn):\n",
    "    \"\"\"Indlæser studerende navne fra CSV fil og returnerer et set med fulde navne\"\"\"\n",
    "    f = open(filnavn, 'r', encoding='utf-8')\n",
    "    navne = csv.reader(f)\n",
    "    next(navne)  # Spring header over\n",
    "    return {f\"{fornavn} {efternavn}\" for fornavn, efternavn in navne}\n",
    "            # {'Laura,Christensen', 'Helle,Christensen'} -> SET COMPREHENSION\n",
    "# Indlæs alle valgfag\n",
    "python_studerende = indlaes_valgfag('introduction_to_python.csv')\n",
    "ai_studerende = indlaes_valgfag('ai_agenter.csv')\n",
    "sikkerhed_studerende = indlaes_valgfag('it_sikkerhed.csv')\n",
    "c_studerende = indlaes_valgfag('low_level_c.csv')\n",
    "datastruktur_studerende = indlaes_valgfag('datastrukturer_algoritmer.csv')\n",
    "devops_studerende = indlaes_valgfag('devops.csv')\n",
    "nodejs_studerende = indlaes_valgfag('nodejs.csv')\n",
    "\n",
    "print(f\"Python: {len(python_studerende)} studerende\")\n",
    "print(f\"AI-agenter: {len(ai_studerende)} studerende\")\n",
    "print(f\"IT-sikkerhed: {len(sikkerhed_studerende)} studerende\")\n",
    "print(f\"Low level C: {len(c_studerende)} studerende\")\n",
    "print(f\"Datastrukturer: {len(datastruktur_studerende)} studerende\")\n",
    "print(f\"DevOps: {len(devops_studerende)} studerende\")\n",
    "print(f\"NodeJs: {len(nodejs_studerende)} studerende\")"
   ]
  },
  {
   "cell_type": "code",
   "execution_count": 3,
   "metadata": {},
   "outputs": [
    {
     "data": {
      "text/plain": [
       "{'Alma Thomsen', 'Hanne Iversen', 'Laura Christensen'}"
      ]
     },
     "execution_count": 3,
     "metadata": {},
     "output_type": "execute_result"
    }
   ],
   "source": [
    "x = python_studerende & datastruktur_studerende\n",
    "x"
   ]
  },
  {
   "cell_type": "markdown",
   "metadata": {},
   "source": [
    "---\n",
    "\n",
    "## Opgave 1: Fælles interesser\n",
    "\n",
    "Vi skal holde et fælles study group event og vil gerne finde ud af, hvilke to valgfag der har flest studerende til fælles.\n",
    "\n",
    "**Spørgsmål**: Sammenlign Python og AI-agenter - hvor mange studerende tager begge fag?"
   ]
  },
  {
   "cell_type": "code",
   "execution_count": 4,
   "metadata": {},
   "outputs": [
    {
     "name": "stdout",
     "output_type": "stream",
     "text": [
      "Studerende der tager både Python og AI-Agenter: {'Martin Nielsen', 'Morten Østergaard', 'Henrik Thomsen', 'Morten Nygaard', 'Jens Sørensen', 'Pia Møller', 'Hanne Iversen', 'Julie Eriksen', 'Torben Bundgaard', 'Laura Christensen', 'Birgitte Bundgaard', 'Lars Nygaard', 'Ole Holm', 'Peter Jensen', 'Marianne Frederiksen', 'Andreas Larsen', 'Kirsten Christiansen'}\n"
     ]
    }
   ],
   "source": [
    "# Din kode her - find studerende der tager både Python OG AI-agenter\n",
    "print(f\"Studerende der tager både Python og AI-Agenter:\", python_studerende & ai_studerende)"
   ]
  },
  {
   "cell_type": "markdown",
   "metadata": {},
   "source": [
    "---\n",
    "\n",
    "## Opgave 2: Dedikerede studerende\n",
    "\n",
    "Vi vil gerne finde de studerende, der har valgt Python, men som IKKE også har valgt IT-sikkerhed (måske fordi de vil fokusere 100% på programmering).\n",
    "\n",
    "**Spørgsmål**: Hvor mange studerende tager kun Python og ikke IT-sikkerhed?"
   ]
  },
  {
   "cell_type": "code",
   "execution_count": 5,
   "metadata": {},
   "outputs": [
    {
     "name": "stdout",
     "output_type": "stream",
     "text": [
      "Studerende der tager Python men ikke IT-Sikkerhed: {'Martin Nielsen', 'Finn Jacobsen', 'Morten Nygaard', 'Jens Sørensen', 'Ole Holm', 'Andreas Larsen', 'Kirsten Christiansen', 'Gitte Jørgensen', 'Hanne Iversen', 'Tina Clausen', 'Laura Christensen', 'Peter Jensen', 'Freja Nygaard', 'Magnus Nygaard', 'Morten Østergaard', 'Julie Eriksen', 'Mette Schultz', 'Torben Bundgaard', 'Birgitte Bundgaard'}\n"
     ]
    }
   ],
   "source": [
    "# Din kode her - find studerende der tager Python men IKKE IT-sikkerhed\n",
    "print(f\"Studerende der tager Python men ikke IT-Sikkerhed:\", python_studerende - sikkerhed_studerende)\n"
   ]
  },
  {
   "cell_type": "markdown",
   "metadata": {},
   "source": [
    "---\n",
    "\n",
    "## Opgave 3: Alle studerende fra ...\n",
    "\n",
    "Skolen overvejer at lave en fælles workshop om \"Moderne teknologi\". Vi vil invitere alle studerende fra enten Python eller NodeJs fagene (eller begge).\n",
    "\n",
    "**Spørgsmål**: Hvor mange forskellige studerende ville blive inviteret hvis vi inviterer alle fra Python ELLER NodeJs?"
   ]
  },
  {
   "cell_type": "code",
   "execution_count": 7,
   "metadata": {},
   "outputs": [
    {
     "name": "stdout",
     "output_type": "stream",
     "text": [
      "Studerende der tager Python eller nodeJS: {'Martin Nielsen', 'Lone Thomsen', 'Anna Clausen', 'Lucas Thomsen', 'Lene Andersen', 'Claus Petersen', 'Pia Møller', 'Anna Christensen', 'Andreas Nygaard', 'Emil Rasmussen', 'Gitte Jørgensen', 'Jesper Schmidt', 'Laura Karlsen', 'Maja Iversen', 'Vibeke Jørgensen', 'Jette Jacobsen', 'Laura Christensen', 'Henrik Clausen', 'Kirsten Schmidt', 'Anders Holm', 'Marianne Frederiksen', 'Freja Nygaard', 'Julie Eriksen', 'Mette Schultz', 'Henrik Christensen', 'Jakob Mortensen', 'Helle Schultz', 'Anette Jensen', 'Finn Jacobsen', 'Martin Schultz', 'Morten Nygaard', 'Jens Sørensen', 'Niels Jespersen', 'Ole Holm', 'Andreas Larsen', 'Kirsten Christiansen', 'Alma Thomsen', 'Alexander Petersen', 'Lars Nygaard', 'Jakob Jakobsen', 'Torben Rasmussen', 'Henrik Thomsen', 'Brian Clausen', 'Hanne Iversen', 'Tina Clausen', 'Kim Andersen', 'Rikke Henriksen', 'Peter Jensen', 'Magnus Nygaard', 'Morten Østergaard', 'Torben Bundgaard', 'Jan Bertelsen', 'Charlotte Sørensen', 'Birgitte Bundgaard', 'Helle Christensen', 'Frederik Jørgensen'}\n"
     ]
    }
   ],
   "source": [
    "# Din kode her - find alle studerende der tager Python ELLER NodeJs (eller begge) \n",
    "print(f\"Studerende der tager Python eller nodeJS:\", python_studerende | nodejs_studerende)\n"
   ]
  },
  {
   "cell_type": "markdown",
   "metadata": {},
   "source": [
    "---\n",
    "\n",
    "## Opgave 4: Eksklusive valg\n",
    "\n",
    "Vi vil gerne forstå studerende, der har valgt enten Python eller IT-sikkerhed, men ikke begge. Dette kan hjælpe os med at forstå, om fagene tiltrækker forskellige typer studerende.\n",
    "\n",
    "**Spørgsmål**: Hvilke studerende tager enten Python eller IT-sikkerhed, men ikke begge fag?"
   ]
  },
  {
   "cell_type": "code",
   "execution_count": 8,
   "metadata": {},
   "outputs": [
    {
     "name": "stdout",
     "output_type": "stream",
     "text": [
      "Studerende der tager Python men ikke IT-Sikkerhed: {'Martin Schultz', 'Martin Nielsen', 'Finn Jacobsen', 'Birthe Broberg', 'Mathias Clausen', 'Susanne Nygaard', 'Morten Nygaard', 'Jens Sørensen', 'Martin Jørgensen', 'Ole Holm', 'Andreas Larsen', 'Lene Andersen', 'Morten Jensen', 'Niels Schultz', 'Sofie Schmidt', 'Kirsten Christiansen', 'Niels Gregersen', 'Anna Christensen', 'Kim Jakobsen', 'Emil Rasmussen', 'Gitte Jørgensen', 'Magnus Larsen', 'Jakob Jakobsen', 'Hanne Andersen', 'Brian Clausen', 'Charlotte Nielsen', 'Hanne Iversen', 'Frederik Broberg', 'Tina Clausen', 'Laura Christensen', 'Kirsten Schmidt', 'Rikke Henriksen', 'Peter Jensen', 'Magnus Nygaard', 'Gitte Bertelsen', 'Freja Nygaard', 'Birgitte Pedersen', 'Morten Østergaard', 'Julie Eriksen', 'Mette Schultz', 'Laura Vestergaard', 'Torben Bundgaard', 'Charlotte Sørensen', 'Peter Schmidt', 'Emil Johansen', 'Birgitte Bundgaard', 'Lars Poulsen', 'Per Berg'}\n"
     ]
    }
   ],
   "source": [
    "# Din kode her - find studerende der tager ENTEN Python ELLER IT-sikkerhed (men ikke begge)\n",
    "print(f\"Studerende der tager Python men ikke IT-Sikkerhed:\", python_studerende ^ sikkerhed_studerende)"
   ]
  },
  {
   "cell_type": "markdown",
   "metadata": {},
   "source": [
    "---\n",
    "\n",
    "## Opgave 5: Subset analyse\n",
    "\n",
    "Low level C er et meget specialiseret fag. Vi vil gerne finde ud af, om alle C-studerende også tager et mere praktisk fag som DevOps.\n",
    "\n",
    "**Spørgsmål**: Er alle Low level C studerende også tilmeldt DevOps? (Med andre ord: er C-studerende et subset af DevOps-studerende?)"
   ]
  },
  {
   "cell_type": "code",
   "execution_count": 16,
   "metadata": {},
   "outputs": [
    {
     "name": "stdout",
     "output_type": "stream",
     "text": [
      "Ikke alle C-Studerende tager devops\n"
     ]
    }
   ],
   "source": [
    "# Din kode her - tjek om alle C-studerende også tager DevOps\n",
    "if c_studerende <= devops_studerende:\n",
    "    print ('Alle studerende tager devops')\n",
    "else:\n",
    "    print ('Ikke alle C-Studerende tager devops')"
   ]
  },
  {
   "cell_type": "markdown",
   "metadata": {},
   "source": [
    "---\n",
    "\n",
    "## Opgave 6: Kompleks analyse\n",
    "\n",
    "Vi vil gerne finde studerende med en specifik profil: De skal være interesserede i både Python og AI (fremtidsorienterede), men ikke i IT-sikkerhed (måske fordi de fokuserer på udvikling frem for sikkerhed).\n",
    "\n",
    "**Spørgsmål**: Hvilke studerende tager både Python OG AI-agenter, men IKKE IT-sikkerhed?"
   ]
  },
  {
   "cell_type": "code",
   "execution_count": 3,
   "metadata": {},
   "outputs": [
    {
     "name": "stdout",
     "output_type": "stream",
     "text": [
      "Studerende der tager både Python og AI-agenter, men IKKE IT-sikkerhed:\n",
      "- Jens Sørensen\n",
      "- Julie Eriksen\n",
      "- Martin Nielsen\n",
      "- Morten Nygaard\n",
      "- Andreas Larsen\n",
      "- Hanne Iversen\n",
      "- Torben Bundgaard\n",
      "- Laura Christensen\n",
      "- Birgitte Bundgaard\n",
      "- Ole Holm\n",
      "- Kirsten Christiansen\n",
      "- Morten Østergaard\n",
      "- Peter Jensen\n"
     ]
    }
   ],
   "source": [
    "resultat = (python_studerende & ai_studerende) - sikkerhed_studerende\n",
    "\n",
    "print(\"Studerende der tager både Python og AI-agenter, men IKKE IT-sikkerhed:\")\n",
    "for navn in resultat:\n",
    "    print(\"-\", navn)"
   ]
  },
  {
   "cell_type": "markdown",
   "metadata": {},
   "source": [
    "---\n",
    "\n",
    "## Opgave 7: Multi-kurs analyse (Avanceret)\n",
    "\n",
    "Vi vil gerne identificere de mest engagerede studerende inden for \"praktisk programmering\". Disse studerende skulle tage mindst 3 af følgende 4 fag: Python, IT-sikkerhed, DevOps, NodeJs.\n",
    "\n",
    "**Spørgsmål**: Hvor mange studerende tager mindst 3 af disse 4 fag?"
   ]
  },
  {
   "cell_type": "code",
   "execution_count": 4,
   "metadata": {},
   "outputs": [
    {
     "name": "stdout",
     "output_type": "stream",
     "text": [
      "Studerende der tager mindst 3 af de 4 praktiske fag:\n",
      "- Julie Eriksen\n",
      "- Brian Clausen\n",
      "- Lone Thomsen\n",
      "- Henrik Clausen\n",
      "- Jesper Schmidt\n",
      "- Mette Schultz\n",
      "- Jan Bertelsen\n",
      "- Emil Rasmussen\n",
      "- Vibeke Jørgensen\n"
     ]
    }
   ],
   "source": [
    "# Din kode her - find studerende der tager mindst 3 af de 4 \"praktiske\" fag\n",
    "# Tip: Du skal muligvis bruge flere set operationer og måske en løkke\n",
    "mindst_3 = (\n",
    "    (python_studerende & sikkerhed_studerende & devops_studerende) |\n",
    "    (python_studerende & sikkerhed_studerende & nodejs_studerende) |\n",
    "    (python_studerende & devops_studerende & nodejs_studerende) |\n",
    "    (sikkerhed_studerende & devops_studerende & nodejs_studerende)\n",
    ")\n",
    "\n",
    "print(\"Studerende der tager mindst 3 af de 4 praktiske fag:\")\n",
    "for navn in mindst_3:\n",
    "    print(\"-\", navn)"
   ]
  },
  {
   "cell_type": "markdown",
   "metadata": {},
   "source": [
    "---\n",
    "\n",
    "## Opgave 8: Strategisk planlægning (Meget avanceret)\n",
    "\n",
    "Skolen vil holde et stort netværksarrangement og har plads til maksimalt 100 studerende. Vi vil vælge 3 valgfag, hvor kombinationen giver os flest mulige unikke deltagere.\n",
    "\n",
    "**Spørgsmål**: \n",
    "1. Prøv kombinationen Python + IT-sikkerhed + DevOps - hvor mange unikke studerende?\n",
    "2. Prøv kombinationen AI-agenter + NodeJs + IT-sikkerhed - hvor mange unikke studerende?\n",
    "3. Hvilken kombination er bedst?"
   ]
  },
  {
   "cell_type": "code",
   "execution_count": 9,
   "metadata": {},
   "outputs": [
    {
     "name": "stdout",
     "output_type": "stream",
     "text": [
      "Antal af studerende i kombination 1: 82\n",
      "Antal af studerende i kombination 2: 76\n",
      "Kombination 1 giver flest studerende.\n",
      "Det giver nemlig: 82\n"
     ]
    }
   ],
   "source": [
    "# Din kode her - sammenlign forskellige 3-fags kombinationer\n",
    "# Kombination 1: Python + IT-sikkerhed + DevOps\n",
    "kombination1 = python_studerende | sikkerhed_studerende | devops_studerende\n",
    "print ('Antal af studerende i kombination 1:', len(kombination1))\n",
    "\n",
    "# Kombination 2: AI-agenter + NodeJs + IT-sikkerhed\n",
    "kombination2 = ai_studerende | nodejs_studerende | devops_studerende\n",
    "print ('Antal af studerende i kombination 2:', len(kombination2))\n",
    "\n",
    "# Sammenligning\n",
    "if len(kombination1) > len(kombination2):\n",
    "    print('Kombination 1 giver flest studerende.')\n",
    "    print('Det giver nemlig:', len(kombination1))\n",
    "elif len(kombination2) > len(kombination1):\n",
    "    print('Kombination 1 giver flest studerende.')\n",
    "    print('Det giver nemlig:', len(kombination2))\n",
    "else:\n",
    "    ('Begge kombinationer er lige mange studerende.')\n"
   ]
  },
  {
   "cell_type": "markdown",
   "metadata": {},
   "source": [
    "---\n",
    "\n",
    "## Bonus opgave: Komplet oversigt\n",
    "\n",
    "Lav en komplet analyse af alle studerende:\n",
    "\n",
    "1. Hvor mange unikke studerende er der i alt på tværs af alle valgfag?\n",
    "2. Hvor mange studerende tager kun ét valgfag?\n",
    "3. Hvilke studerende tager flest valgfag?"
   ]
  },
  {
   "cell_type": "code",
   "execution_count": 20,
   "metadata": {},
   "outputs": [
    {
     "name": "stdout",
     "output_type": "stream",
     "text": [
      "Alle valgfags studerende: 100\n",
      "Studerende der kun tager ét valgfag: 30\n"
     ]
    }
   ],
   "source": [
    "# Din kode her - komplet analyse\n",
    "allevalgfag = python_studerende | ai_studerende | sikkerhed_studerende | c_studerende | datastruktur_studerende | devops_studerende | nodejs_studerende\n",
    "print(f\"Alle valgfags studerende: {len(allevalgfag)}\")\n",
    "\n",
    "fag = [python_studerende, ai_studerende, sikkerhed_studerende,\n",
    "       c_studerende, datastruktur_studerende, devops_studerende, nodejs_studerende]\n",
    "\n",
    "kun_et = {navn for navn in allevalgfag if sum(navn in s for s in fag) == 1}\n",
    "\n",
    "print(f\"Studerende der kun tager ét valgfag: {len(kun_et)}\")\n",
    "\n"
   ]
  },
  {
   "cell_type": "code",
   "execution_count": null,
   "metadata": {},
   "outputs": [],
   "source": []
  }
 ],
 "metadata": {
  "kernelspec": {
   "display_name": ".venv",
   "language": "python",
   "name": "python3"
  },
  "language_info": {
   "codemirror_mode": {
    "name": "ipython",
    "version": 3
   },
   "file_extension": ".py",
   "mimetype": "text/x-python",
   "name": "python",
   "nbconvert_exporter": "python",
   "pygments_lexer": "ipython3",
   "version": "3.13.7"
  }
 },
 "nbformat": 4,
 "nbformat_minor": 4
}
