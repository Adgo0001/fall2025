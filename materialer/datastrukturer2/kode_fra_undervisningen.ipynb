{
 "cells": [
  {
   "cell_type": "markdown",
   "id": "869a0f6a",
   "metadata": {},
   "source": [
    "## Valgfagseksempler"
   ]
  },
  {
   "cell_type": "code",
   "execution_count": 12,
   "id": "f1dad666",
   "metadata": {},
   "outputs": [],
   "source": [
    "python          = {\"Alice\", \"Bob\", \"Charlie\", \"Diana\"}\n",
    "it_sikkerhed    = {\"Bob\", \"Charlie\", \"Eva\", \"Frank\"}\n",
    "ai_agenter      = {\"Alice\", \"Eva\", \"Georg\", \"Helen\"}"
   ]
  },
  {
   "cell_type": "markdown",
   "id": "92a6aec1",
   "metadata": {},
   "source": [
    "### Hvem tager Python ELLER IT-sikkerhed?"
   ]
  },
  {
   "cell_type": "code",
   "execution_count": 13,
   "id": "962a66b2",
   "metadata": {},
   "outputs": [
    {
     "name": "stdout",
     "output_type": "stream",
     "text": [
      "Python eller IT-sikkerhed: Ellipsis\n"
     ]
    }
   ],
   "source": [
    "print(\"Python eller IT-sikkerhed:\", ...)"
   ]
  },
  {
   "cell_type": "markdown",
   "id": "0f7d0d2c",
   "metadata": {},
   "source": [
    "### Hvem tager BÅDE Python OG IT-sikkerhed?"
   ]
  },
  {
   "cell_type": "code",
   "execution_count": 14,
   "id": "ecb65873",
   "metadata": {},
   "outputs": [
    {
     "name": "stdout",
     "output_type": "stream",
     "text": [
      "Begge kurser: Ellipsis\n"
     ]
    }
   ],
   "source": [
    "print(\"Begge kurser:\", ...)"
   ]
  },
  {
   "cell_type": "markdown",
   "id": "736cd73d",
   "metadata": {},
   "source": [
    "### Hvem tager Python men IKKE IT-sikkerhed?"
   ]
  },
  {
   "cell_type": "code",
   "execution_count": 15,
   "id": "1ca8c4f6",
   "metadata": {},
   "outputs": [
    {
     "name": "stdout",
     "output_type": "stream",
     "text": [
      "Kun Python: Ellipsis\n"
     ]
    }
   ],
   "source": [
    "print(\"Kun Python:\", ...)"
   ]
  },
  {
   "cell_type": "markdown",
   "id": "ca02702d",
   "metadata": {},
   "source": [
    "## Hvem tager IT-sikkerhed men IKKE Python?"
   ]
  },
  {
   "cell_type": "code",
   "execution_count": 16,
   "id": "bcc52159",
   "metadata": {},
   "outputs": [
    {
     "name": "stdout",
     "output_type": "stream",
     "text": [
      "Kun IT-sikkerhed: Ellipsis\n"
     ]
    }
   ],
   "source": [
    "print(\"Kun IT-sikkerhed:\", ...)"
   ]
  },
  {
   "cell_type": "markdown",
   "id": "b0f3954a",
   "metadata": {},
   "source": [
    "## Hvem tager præcis EN af disse?"
   ]
  },
  {
   "cell_type": "code",
   "execution_count": 17,
   "id": "aa27dc7a",
   "metadata": {},
   "outputs": [
    {
     "name": "stdout",
     "output_type": "stream",
     "text": [
      "Præcis en: Ellipsis\n"
     ]
    }
   ],
   "source": [
    "print(\"Præcis en:\", ...)"
   ]
  },
  {
   "cell_type": "markdown",
   "id": "3d097be7",
   "metadata": {},
   "source": [
    "### Hvem tager Python eller IT-sikkerhed, men ikke AI-agenter?"
   ]
  },
  {
   "cell_type": "code",
   "execution_count": 18,
   "id": "7772b56a",
   "metadata": {},
   "outputs": [
    {
     "name": "stdout",
     "output_type": "stream",
     "text": [
      "Python/IT-sikkerhed men ikke AI-agenter: Ellipsis\n"
     ]
    }
   ],
   "source": [
    "print(\"Python/IT-sikkerhed men ikke AI-agenter:\", ...)"
   ]
  },
  {
   "cell_type": "code",
   "execution_count": null,
   "id": "a26fae18",
   "metadata": {},
   "outputs": [],
   "source": []
  }
 ],
 "metadata": {
  "kernelspec": {
   "display_name": ".venv",
   "language": "python",
   "name": "python3"
  },
  "language_info": {
   "codemirror_mode": {
    "name": "ipython",
    "version": 3
   },
   "file_extension": ".py",
   "mimetype": "text/x-python",
   "name": "python",
   "nbconvert_exporter": "python",
   "pygments_lexer": "ipython3",
   "version": "3.13.6"
  }
 },
 "nbformat": 4,
 "nbformat_minor": 5
}
