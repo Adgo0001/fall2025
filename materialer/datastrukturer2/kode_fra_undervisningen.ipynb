{
 "cells": [
  {
   "cell_type": "markdown",
   "id": "869a0f6a",
   "metadata": {},
   "source": [
    "# Sets\n",
    "## Valgfagseksempler"
   ]
  },
  {
   "cell_type": "code",
   "execution_count": 16,
   "id": "f1dad666",
   "metadata": {},
   "outputs": [],
   "source": [
    "python          = {\"Alice\", \"Bob\", \"Charlie\", \"Diana\"}\n",
    "it_sikkerhed    = {\"Bob\", \"Charlie\", \"Eva\", \"Frank\"}\n",
    "ai_agenter      = {\"Alice\", \"Eva\", \"Georg\", \"Helen\"}"
   ]
  },
  {
   "cell_type": "markdown",
   "id": "92a6aec1",
   "metadata": {},
   "source": [
    "### UNION - Hvem tager Python ELLER IT-sikkerhed?"
   ]
  },
  {
   "cell_type": "code",
   "execution_count": 18,
   "id": "962a66b2",
   "metadata": {},
   "outputs": [
    {
     "name": "stdout",
     "output_type": "stream",
     "text": [
      "Python eller IT-sikkerhed: {'Diana', 'Bob', 'Charlie', 'Frank', 'Eva', 'Alice'}\n"
     ]
    },
    {
     "data": {
      "text/plain": [
       "{'Alice', 'Bob', 'Charlie', 'Diana', 'Eva', 'Frank'}"
      ]
     },
     "execution_count": 18,
     "metadata": {},
     "output_type": "execute_result"
    }
   ],
   "source": [
    "print(\"Python eller IT-sikkerhed:\", python | it_sikkerhed)\n",
    "\n",
    "python.union(it_sikkerhed)"
   ]
  },
  {
   "cell_type": "markdown",
   "id": "0f7d0d2c",
   "metadata": {},
   "source": [
    "###    intersection - Hvem tager BÅDE Python OG IT-sikkerhed?"
   ]
  },
  {
   "cell_type": "code",
   "execution_count": 22,
   "id": "ecb65873",
   "metadata": {},
   "outputs": [
    {
     "name": "stdout",
     "output_type": "stream",
     "text": [
      "Begge kurser: {'Bob', 'Charlie'}\n",
      "Begge kurser: {'Bob', 'Charlie'}\n"
     ]
    }
   ],
   "source": [
    "print(\"Begge kurser:\", python & it_sikkerhed)\n",
    "print(\"Begge kurser:\", python.intersection(it_sikkerhed))"
   ]
  },
  {
   "cell_type": "code",
   "execution_count": null,
   "id": "99379b34",
   "metadata": {},
   "outputs": [],
   "source": []
  },
  {
   "cell_type": "code",
   "execution_count": null,
   "id": "410a5a83",
   "metadata": {},
   "outputs": [],
   "source": []
  },
  {
   "cell_type": "markdown",
   "id": "736cd73d",
   "metadata": {},
   "source": [
    "### Hvem tager Python men IKKE IT-sikkerhed?"
   ]
  },
  {
   "cell_type": "code",
   "execution_count": 15,
   "id": "1ca8c4f6",
   "metadata": {},
   "outputs": [
    {
     "name": "stdout",
     "output_type": "stream",
     "text": [
      "Kun Python: Ellipsis\n"
     ]
    }
   ],
   "source": [
    "print(\"Kun Python:\", ...)"
   ]
  },
  {
   "cell_type": "markdown",
   "id": "ca02702d",
   "metadata": {},
   "source": [
    "## Hvem tager IT-sikkerhed men IKKE Python?"
   ]
  },
  {
   "cell_type": "code",
   "execution_count": 26,
   "id": "bcc52159",
   "metadata": {},
   "outputs": [
    {
     "name": "stdout",
     "output_type": "stream",
     "text": [
      "Kun IT-sikkerhed: {'Diana', 'Alice'}\n",
      "Kun IT-sikkerhed: {'Diana', 'Alice'}\n"
     ]
    }
   ],
   "source": [
    "print(\"Kun IT-sikkerhed:\", python - it_sikkerhed)\n",
    "print(\"Kun IT-sikkerhed:\", python.difference(it_sikkerhed))"
   ]
  },
  {
   "cell_type": "markdown",
   "id": "b0f3954a",
   "metadata": {},
   "source": [
    "## Hvem tager præcis EN af disse?"
   ]
  },
  {
   "cell_type": "code",
   "execution_count": 17,
   "id": "aa27dc7a",
   "metadata": {},
   "outputs": [
    {
     "name": "stdout",
     "output_type": "stream",
     "text": [
      "Præcis en: Ellipsis\n"
     ]
    }
   ],
   "source": [
    "print(\"Præcis en:\", ...)"
   ]
  },
  {
   "cell_type": "markdown",
   "id": "3d097be7",
   "metadata": {},
   "source": [
    "### Hvem tager Python eller IT-sikkerhed, men ikke AI-agenter?"
   ]
  },
  {
   "cell_type": "code",
   "execution_count": 27,
   "id": "7772b56a",
   "metadata": {},
   "outputs": [
    {
     "name": "stdout",
     "output_type": "stream",
     "text": [
      "Python/IT-sikkerhed men ikke AI-agenter: {'Diana', 'Frank', 'Eva', 'Alice'}\n"
     ]
    }
   ],
   "source": [
    "print(\"Python/IT-sikkerhed men ikke AI-agenter:\", python ^ it_sikkerhed )"
   ]
  },
  {
   "cell_type": "markdown",
   "id": "b667b65b",
   "metadata": {},
   "source": [
    "# Dictionaries"
   ]
  },
  {
   "cell_type": "markdown",
   "id": "b351d577",
   "metadata": {},
   "source": [
    "### Basic students-karakter dictionary"
   ]
  },
  {
   "cell_type": "code",
   "execution_count": 11,
   "id": "3c7e5de2",
   "metadata": {},
   "outputs": [],
   "source": [
    "grades = {\n",
    "    \"Alice\": 12,\n",
    "    \"Bob\": 7,\n",
    "    \"Charlie\": 10,\n",
    "    \"Diana\": 4\n",
    "}"
   ]
  },
  {
   "cell_type": "code",
   "execution_count": 30,
   "id": "aa96da93",
   "metadata": {},
   "outputs": [
    {
     "data": {
      "text/plain": [
       "7"
      ]
     },
     "execution_count": 30,
     "metadata": {},
     "output_type": "execute_result"
    }
   ],
   "source": [
    "# Hurtig \"lookup\"\n",
    "grades[\"Bob\"]"
   ]
  },
  {
   "cell_type": "code",
   "execution_count": null,
   "id": "c3c54265",
   "metadata": {},
   "outputs": [],
   "source": [
    "# Keys ska være 'unique' og 'imutable'\n",
    "# * ikke 2 Alice\n",
    "# * Strings, int, tubple - ikke lists "
   ]
  },
  {
   "cell_type": "code",
   "execution_count": null,
   "id": "2b543d9f",
   "metadata": {},
   "outputs": [],
   "source": [
    "# Values kan være alt\n",
    "# * Lists, tuples, strings. int ..."
   ]
  },
  {
   "cell_type": "markdown",
   "id": "f1560866",
   "metadata": {},
   "source": [
    "### Metoder"
   ]
  },
  {
   "cell_type": "code",
   "execution_count": 37,
   "id": "9744556e",
   "metadata": {},
   "outputs": [
    {
     "name": "stdout",
     "output_type": "stream",
     "text": [
      "Alle studerende: ['Alice', 'Bob', 'Charlie', 'Diana', 'Eva']\n",
      "Alle karakterer: [12, 7, 10, 4, 10]\n",
      "Alle key / value par: dict_items([('Alice', 12), ('Bob', 7), ('Charlie', 10), ('Diana', 4), ('Eva', 10)])\n",
      "Eva's karakter: No value\n"
     ]
    }
   ],
   "source": [
    "# alle keys\n",
    "print(\"Alle studerende:\", list(grades.keys()))\n",
    "\n",
    "# alle values  \n",
    "print(\"Alle karakterer:\", list(grades.values()) )\n",
    "\n",
    "# key-value pairs\n",
    "print(\"Alle key / value par:\", grades.items() )\n",
    "\n",
    "# \"Safe\" access\n",
    "print(\"Eva's karakter:\", grades.get('xxx', 'No value') )\n",
    "\n",
    "# Adding/updating\n",
    "grades[\"Eva\"] = 10\n",
    "grades[\"Alice\"] = 12  # opdaterer eksisterende"
   ]
  },
  {
   "cell_type": "markdown",
   "id": "6f8c9a22",
   "metadata": {},
   "source": [
    "### Udvidet kode"
   ]
  },
  {
   "cell_type": "code",
   "execution_count": 38,
   "id": "647f8985",
   "metadata": {},
   "outputs": [],
   "source": [
    "students = {\n",
    "    \"Alice\": {\"age\": 22, \"courses\": [\"Python\", \"Math\"], \"grade\": 12},\n",
    "    \"Bob\": {\"age\": 21, \"courses\": [\"Python\", \"Physics\"], \"grade\": 7},\n",
    "    \"Charlie\": {\"age\": 23, \"courses\": [\"Math\", \"Physics\"], \"grade\": 10}\n",
    "}"
   ]
  },
  {
   "cell_type": "code",
   "execution_count": 41,
   "id": "c0e68f11",
   "metadata": {},
   "outputs": [
    {
     "data": {
      "text/plain": [
       "'Math'"
      ]
     },
     "execution_count": 41,
     "metadata": {},
     "output_type": "execute_result"
    }
   ],
   "source": [
    "# Accessing nested data\n",
    "students['Alice']['courses'][1]\n",
    "\n",
    "# Iterating through dictionary\n",
    "\n",
    "# Finding students in specific courses\n",
    "\n",
    "# Dictionary comprehension version\n"
   ]
  },
  {
   "cell_type": "markdown",
   "id": "6b674e2f",
   "metadata": {},
   "source": [
    "### Github api eksempel\n",
    "* https://api.github.com/\n",
    "* https://api.github.com/orgs/python-elective-kea"
   ]
  },
  {
   "cell_type": "code",
   "execution_count": 62,
   "id": "2ae53201",
   "metadata": {},
   "outputs": [],
   "source": [
    "import json\n",
    "\n",
    "api = json.loads('''{\n",
    "  \"login\": \"python-elective-kea\",\n",
    "  \"id\": 65279328,\n",
    "  \"node_id\": \"MDEyOk9yZ2FuaXphdGlvbjY1Mjc5MzI4\",\n",
    "  \"url\": \"https://api.github.com/orgs/python-elective-kea\",\n",
    "  \"repos_url\": \"https://api.github.com/orgs/python-elective-kea/repos\",\n",
    "  \"events_url\": \"https://api.github.com/orgs/python-elective-kea/events\",\n",
    "  \"hooks_url\": \"https://api.github.com/orgs/python-elective-kea/hooks\",\n",
    "  \"issues_url\": \"https://api.github.com/orgs/python-elective-kea/issues\",\n",
    "  \"members_url\": \"https://api.github.com/orgs/python-elective-kea/members{/member}\",\n",
    "  \"public_members_url\": \"https://api.github.com/orgs/python-elective-kea/public_members{/member}\",\n",
    "  \"avatar_url\": \"https://avatars.githubusercontent.com/u/65279328?v=4\",\n",
    "  \"description\": \"Materials used in \\'Introduction to python\\' electives at kea\",\n",
    "  \"name\": \"Python Elective Kea\",\n",
    "  \"company\": null,\n",
    "  \"blog\": \"https://python-elective-kea.github.io/IntroPythonSpring2025\",\n",
    "  \"location\": \"Denmark\",\n",
    "  \"email\": \"clbo@kea.dk\",\n",
    "  \"twitter_username\": null,\n",
    "  \"is_verified\": false,\n",
    "  \"has_organization_projects\": true,\n",
    "  \"has_repository_projects\": true,\n",
    "  \"public_repos\": 7,\n",
    "  \"public_gists\": 0,\n",
    "  \"followers\": 10,\n",
    "  \"following\": 0,\n",
    "  \"html_url\": \"https://github.com/python-elective-kea\",\n",
    "  \"created_at\": \"2020-05-13T08:15:31Z\",\n",
    "  \"updated_at\": \"2025-01-17T12:33:59Z\",\n",
    "  \"archived_at\": null,\n",
    "  \"type\": \"Organization\"\n",
    "}''')"
   ]
  },
  {
   "cell_type": "code",
   "execution_count": 63,
   "id": "1d037217",
   "metadata": {},
   "outputs": [
    {
     "data": {
      "text/plain": [
       "{'login': 'python-elective-kea',\n",
       " 'id': 65279328,\n",
       " 'node_id': 'MDEyOk9yZ2FuaXphdGlvbjY1Mjc5MzI4',\n",
       " 'url': 'https://api.github.com/orgs/python-elective-kea',\n",
       " 'repos_url': 'https://api.github.com/orgs/python-elective-kea/repos',\n",
       " 'events_url': 'https://api.github.com/orgs/python-elective-kea/events',\n",
       " 'hooks_url': 'https://api.github.com/orgs/python-elective-kea/hooks',\n",
       " 'issues_url': 'https://api.github.com/orgs/python-elective-kea/issues',\n",
       " 'members_url': 'https://api.github.com/orgs/python-elective-kea/members{/member}',\n",
       " 'public_members_url': 'https://api.github.com/orgs/python-elective-kea/public_members{/member}',\n",
       " 'avatar_url': 'https://avatars.githubusercontent.com/u/65279328?v=4',\n",
       " 'description': \"Materials used in 'Introduction to python' electives at kea\",\n",
       " 'name': 'Python Elective Kea',\n",
       " 'company': None,\n",
       " 'blog': 'https://python-elective-kea.github.io/IntroPythonSpring2025',\n",
       " 'location': 'Denmark',\n",
       " 'email': 'clbo@kea.dk',\n",
       " 'twitter_username': None,\n",
       " 'is_verified': False,\n",
       " 'has_organization_projects': True,\n",
       " 'has_repository_projects': True,\n",
       " 'public_repos': 7,\n",
       " 'public_gists': 0,\n",
       " 'followers': 10,\n",
       " 'following': 0,\n",
       " 'html_url': 'https://github.com/python-elective-kea',\n",
       " 'created_at': '2020-05-13T08:15:31Z',\n",
       " 'updated_at': '2025-01-17T12:33:59Z',\n",
       " 'archived_at': None,\n",
       " 'type': 'Organization'}"
      ]
     },
     "execution_count": 63,
     "metadata": {},
     "output_type": "execute_result"
    }
   ],
   "source": [
    "api"
   ]
  },
  {
   "cell_type": "code",
   "execution_count": null,
   "id": "266648ce",
   "metadata": {},
   "outputs": [],
   "source": []
  }
 ],
 "metadata": {
  "kernelspec": {
   "display_name": ".venv",
   "language": "python",
   "name": "python3"
  },
  "language_info": {
   "codemirror_mode": {
    "name": "ipython",
    "version": 3
   },
   "file_extension": ".py",
   "mimetype": "text/x-python",
   "name": "python",
   "nbconvert_exporter": "python",
   "pygments_lexer": "ipython3",
   "version": "3.13.7"
  }
 },
 "nbformat": 4,
 "nbformat_minor": 5
}
