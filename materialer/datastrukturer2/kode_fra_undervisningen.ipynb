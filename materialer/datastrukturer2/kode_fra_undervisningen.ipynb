{
 "cells": [
  {
   "cell_type": "markdown",
   "id": "869a0f6a",
   "metadata": {},
   "source": [
    "# Sets\n",
    "## Valgfagseksempler"
   ]
  },
  {
   "cell_type": "code",
   "execution_count": 12,
   "id": "f1dad666",
   "metadata": {},
   "outputs": [],
   "source": [
    "python          = {\"Alice\", \"Bob\", \"Charlie\", \"Diana\"}\n",
    "it_sikkerhed    = {\"Bob\", \"Charlie\", \"Eva\", \"Frank\"}\n",
    "ai_agenter      = {\"Alice\", \"Eva\", \"Georg\", \"Helen\"}"
   ]
  },
  {
   "cell_type": "markdown",
   "id": "92a6aec1",
   "metadata": {},
   "source": [
    "### Hvem tager Python ELLER IT-sikkerhed?"
   ]
  },
  {
   "cell_type": "code",
   "execution_count": 13,
   "id": "962a66b2",
   "metadata": {},
   "outputs": [
    {
     "name": "stdout",
     "output_type": "stream",
     "text": [
      "Python eller IT-sikkerhed: Ellipsis\n"
     ]
    }
   ],
   "source": [
    "print(\"Python eller IT-sikkerhed:\", ...)"
   ]
  },
  {
   "cell_type": "markdown",
   "id": "0f7d0d2c",
   "metadata": {},
   "source": [
    "### Hvem tager BÅDE Python OG IT-sikkerhed?"
   ]
  },
  {
   "cell_type": "code",
   "execution_count": 14,
   "id": "ecb65873",
   "metadata": {},
   "outputs": [
    {
     "name": "stdout",
     "output_type": "stream",
     "text": [
      "Begge kurser: Ellipsis\n"
     ]
    }
   ],
   "source": [
    "print(\"Begge kurser:\", ...)"
   ]
  },
  {
   "cell_type": "markdown",
   "id": "736cd73d",
   "metadata": {},
   "source": [
    "### Hvem tager Python men IKKE IT-sikkerhed?"
   ]
  },
  {
   "cell_type": "code",
   "execution_count": 15,
   "id": "1ca8c4f6",
   "metadata": {},
   "outputs": [
    {
     "name": "stdout",
     "output_type": "stream",
     "text": [
      "Kun Python: Ellipsis\n"
     ]
    }
   ],
   "source": [
    "print(\"Kun Python:\", ...)"
   ]
  },
  {
   "cell_type": "markdown",
   "id": "ca02702d",
   "metadata": {},
   "source": [
    "## Hvem tager IT-sikkerhed men IKKE Python?"
   ]
  },
  {
   "cell_type": "code",
   "execution_count": 16,
   "id": "bcc52159",
   "metadata": {},
   "outputs": [
    {
     "name": "stdout",
     "output_type": "stream",
     "text": [
      "Kun IT-sikkerhed: Ellipsis\n"
     ]
    }
   ],
   "source": [
    "print(\"Kun IT-sikkerhed:\", ...)"
   ]
  },
  {
   "cell_type": "markdown",
   "id": "b0f3954a",
   "metadata": {},
   "source": [
    "## Hvem tager præcis EN af disse?"
   ]
  },
  {
   "cell_type": "code",
   "execution_count": 17,
   "id": "aa27dc7a",
   "metadata": {},
   "outputs": [
    {
     "name": "stdout",
     "output_type": "stream",
     "text": [
      "Præcis en: Ellipsis\n"
     ]
    }
   ],
   "source": [
    "print(\"Præcis en:\", ...)"
   ]
  },
  {
   "cell_type": "markdown",
   "id": "3d097be7",
   "metadata": {},
   "source": [
    "### Hvem tager Python eller IT-sikkerhed, men ikke AI-agenter?"
   ]
  },
  {
   "cell_type": "code",
   "execution_count": 18,
   "id": "7772b56a",
   "metadata": {},
   "outputs": [
    {
     "name": "stdout",
     "output_type": "stream",
     "text": [
      "Python/IT-sikkerhed men ikke AI-agenter: Ellipsis\n"
     ]
    }
   ],
   "source": [
    "print(\"Python/IT-sikkerhed men ikke AI-agenter:\", ...)"
   ]
  },
  {
   "cell_type": "markdown",
   "id": "b667b65b",
   "metadata": {},
   "source": [
    "# Dictionaries"
   ]
  },
  {
   "cell_type": "markdown",
   "id": "b351d577",
   "metadata": {},
   "source": [
    "### Basic students-karakter dictionary"
   ]
  },
  {
   "cell_type": "code",
   "execution_count": 11,
   "id": "3c7e5de2",
   "metadata": {},
   "outputs": [],
   "source": [
    "grades = {\n",
    "    \"Alice\": 12,\n",
    "    \"Bob\": 7,\n",
    "    \"Charlie\": 10,\n",
    "    \"Diana\": 4\n",
    "}"
   ]
  },
  {
   "cell_type": "code",
   "execution_count": 12,
   "id": "aa96da93",
   "metadata": {},
   "outputs": [
    {
     "data": {
      "text/plain": [
       "12"
      ]
     },
     "execution_count": 12,
     "metadata": {},
     "output_type": "execute_result"
    }
   ],
   "source": [
    "# Hurtig \"lookup\"\n",
    "grades['Alice']"
   ]
  },
  {
   "cell_type": "code",
   "execution_count": null,
   "id": "c3c54265",
   "metadata": {},
   "outputs": [],
   "source": [
    "# Keys slaæ være 'unique' og 'imutable'\n",
    "# * ikke 2 Alice\n",
    "# * Strings, int, tubple - ikke lists "
   ]
  },
  {
   "cell_type": "code",
   "execution_count": null,
   "id": "2b543d9f",
   "metadata": {},
   "outputs": [],
   "source": [
    "# Values kan være alt\n",
    "# * Lists, tuples, strings. int ..."
   ]
  },
  {
   "cell_type": "markdown",
   "id": "f1560866",
   "metadata": {},
   "source": [
    "### Metoder"
   ]
  },
  {
   "cell_type": "code",
   "execution_count": 13,
   "id": "9744556e",
   "metadata": {},
   "outputs": [
    {
     "name": "stdout",
     "output_type": "stream",
     "text": [
      "Alle studerende:\n",
      "Alle karakterer:\n",
      "Alle key / value par:\n",
      "Eva's karakter:\n"
     ]
    }
   ],
   "source": [
    "# alle keys\n",
    "print(\"Alle studerende:\", )\n",
    "\n",
    "# alle values  \n",
    "print(\"Alle karakterer:\", )\n",
    "\n",
    "# key-value pairs\n",
    "print(\"Alle key / value par:\", )\n",
    "\n",
    "# \"Safe\" access\n",
    "print(\"Eva's karakter:\", )\n",
    "\n",
    "# Adding/updating\n",
    "grades[\"Eva\"] = 10\n",
    "grades[\"Alice\"] = 12  # opdaterer eksisterende"
   ]
  },
  {
   "cell_type": "markdown",
   "id": "6f8c9a22",
   "metadata": {},
   "source": [
    "### Udvidet kode"
   ]
  },
  {
   "cell_type": "code",
   "execution_count": 14,
   "id": "647f8985",
   "metadata": {},
   "outputs": [],
   "source": [
    "students = {\n",
    "    \"Alice\": {\"age\": 22, \"courses\": [\"Python\", \"Math\"], \"grade\": 12},\n",
    "    \"Bob\": {\"age\": 21, \"courses\": [\"Python\", \"Physics\"], \"grade\": 7},\n",
    "    \"Charlie\": {\"age\": 23, \"courses\": [\"Math\", \"Physics\"], \"grade\": 10}\n",
    "}"
   ]
  },
  {
   "cell_type": "code",
   "execution_count": 15,
   "id": "c0e68f11",
   "metadata": {},
   "outputs": [],
   "source": [
    "# Accessing nested data\n",
    "\n",
    "# Iterating through dictionary\n",
    "\n",
    "# Finding students in specific courses\n",
    "\n",
    "# Dictionary comprehension version\n"
   ]
  },
  {
   "cell_type": "markdown",
   "id": "6b674e2f",
   "metadata": {},
   "source": [
    "### Github api eksempel\n",
    "* https://api.github.com/\n",
    "* https://api.github.com/orgs/python-elective-kea"
   ]
  },
  {
   "cell_type": "markdown",
   "id": "2ae53201",
   "metadata": {},
   "source": []
  }
 ],
 "metadata": {
  "kernelspec": {
   "display_name": ".venv",
   "language": "python",
   "name": "python3"
  },
  "language_info": {
   "codemirror_mode": {
    "name": "ipython",
    "version": 3
   },
   "file_extension": ".py",
   "mimetype": "text/x-python",
   "name": "python",
   "nbconvert_exporter": "python",
   "pygments_lexer": "ipython3",
   "version": "3.13.7"
  }
 },
 "nbformat": 4,
 "nbformat_minor": 5
}
