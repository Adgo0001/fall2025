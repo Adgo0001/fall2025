{
 "cells": [
  {
   "cell_type": "markdown",
   "id": "808bcbb9",
   "metadata": {},
   "source": [
    "Følgende er taget fra artiklen [Ways to Optimize Your Code in Python](https://blog.appsignal.com/2025/05/28/ways-to-optimize-your-code-in-python.html) af Federico Trotta on May 28, 2025"
   ]
  },
  {
   "cell_type": "markdown",
   "id": "14b3686b",
   "metadata": {},
   "source": [
    "# Ways to Optimize Your Code in Python\n",
    "\n",
    "By optimizing Python code, you improve performance, reduce resource consumption, and enhance scalability. While Python is known for its simplicity and readability, these characteristics can sometimes come at the cost of efficiency.\n",
    "\n",
    "In this article, we'll explore four ways to optimize your Python project and improve performance.\n",
    "\n",
    "First, we'll look at how best to use data structures."
   ]
  },
  {
   "cell_type": "markdown",
   "id": "e2eb74d5",
   "metadata": {},
   "source": [
    "## Efficient Use of Python Data Structures\n",
    "We'll use some of the most well-known Python data structures to optimize our code."
   ]
  },
  {
   "cell_type": "markdown",
   "id": "c0c9c7b7",
   "metadata": {},
   "source": [
    "### Lists Vs. Tuples\n",
    "Lists and tuples are probably the most basic and well-known data structures in Python. They serve different purposes, so they have different performance characteristics:\n",
    "\n",
    "* Lists are mutable, which means they can be modified after creation.\n",
    "* Tuples, instead, are immutable.\n",
    "\n",
    "Before diving deep into why there are performance differences, let's write a code sample that creates a list and a tuple of 5 numbers."
   ]
  },
  {
   "cell_type": "code",
   "execution_count": 1,
   "id": "2eda22d1",
   "metadata": {},
   "outputs": [
    {
     "name": "stdout",
     "output_type": "stream",
     "text": [
      "List creation:  0.0334 seconds\n",
      "Tuple creation:  0.00584 seconds\n"
     ]
    }
   ],
   "source": [
    "import timeit\n",
    "\n",
    "# Calculate creation time\n",
    "list_test = timeit.timeit(stmt=\"[1, 2, 3, 4, 5]\", number=1000000)\n",
    "tuple_test = timeit.timeit(stmt=\"(1, 2, 3, 4, 5)\", number=1000000)\n",
    "\n",
    "# Print results\n",
    "print(f\"List creation: {list_test: .3} seconds\")\n",
    "print(f\"Tuple creation: {tuple_test: .3} seconds\")\n"
   ]
  },
  {
   "cell_type": "markdown",
   "id": "75a50ea6",
   "metadata": {},
   "source": [
    "To calculate performance differences, we use the **timeit** module like so:\n",
    "\n",
    "* The **stmt** parameter defines the code snippet we want to evaluate. So, in the case of the **list_test** variable, it evaluates a list of five numbers; in **tuple_test**, it evaluates a tuple of five numbers.\n",
    "* The **number** parameter specifies how many times the **stmt** parameter must be executed. In both cases, we run it 100,0000 times, meaning the code creates the list and the tuple 100,0000 times.\n",
    "\n",
    "As the example shows, tuples are way faster than lists. Let's dig into why:\n",
    "\n",
    "* Memory allocation:\n",
    "    * Due to their immutability, tuples are stored in a fixed-size block of memory. The size of this block is determined when the tuple is created, and it doesn’t change. This fixed size makes tuple memory allocation fast.\n",
    "    * Lists, on the other hand, need to support dynamic resizing. This means they often allocate extra space to accommodate potential growth without requiring frequent reallocations.\n",
    "\n",
    "* Internal structure:\n",
    "    The internal structure of a tuple consists essentially of a continuous block of memory with a fixed layout. This layout includes the elements themselves and some metadata (like size), but since tuples are immutable, the structure remains simple.\n",
    "Lists have a more complex internal structure to manage their mutability. They need to keep track of their current size and allocated capacity, and must handle changes in size dynamically."
   ]
  }
 ],
 "metadata": {
  "kernelspec": {
   "display_name": ".venv",
   "language": "python",
   "name": "python3"
  },
  "language_info": {
   "codemirror_mode": {
    "name": "ipython",
    "version": 3
   },
   "file_extension": ".py",
   "mimetype": "text/x-python",
   "name": "python",
   "nbconvert_exporter": "python",
   "pygments_lexer": "ipython3",
   "version": "3.13.3"
  }
 },
 "nbformat": 4,
 "nbformat_minor": 5
}
