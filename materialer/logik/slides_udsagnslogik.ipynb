{
 "cells": [
  {
   "cell_type": "markdown",
   "id": "d27ab820",
   "metadata": {
    "slideshow": {
     "slide_type": "slide"
    }
   },
   "source": [
    "# Udsagns- og prædikatlogik\n",
    "Introduktion til python E2025      \n",
    "Lektion 5"
   ]
  },
  {
   "cell_type": "markdown",
   "id": "22d4d342",
   "metadata": {
    "slideshow": {
     "slide_type": "slide"
    }
   },
   "source": [
    "## Eksempel: Peter planlægger sin aften\n",
    "\n",
    "### Peter overvejer sine muligheder for aftenen:\n",
    "\n",
    "* Jeg går i biografen eller bliver hjemme og\n",
    "* hvis jeg bliver hjemme går jeg ikke i biografen og\n",
    "* hvis jeg ikke bliver hjemme får jeg ikke lavet min afleveringsopgave og\n",
    "* hvis jeg selv skal lave mad skal jeg købe ind først og\n",
    "* hvis jeg skal købe ind kan jeg ikke nå i biografen og ikke nå at lave min afleveringsopgave.\n",
    "\n",
    "På hvilke måder kan Peter gennemføre sin aften?    \n",
    "Hvor mange forskellige muligheder er der?"
   ]
  },
  {
   "cell_type": "markdown",
   "id": "ca60660c",
   "metadata": {
    "slideshow": {
     "slide_type": "slide"
    }
   },
   "source": [
    "## Peters aften: Symboler\n",
    "\n",
    "**Simplifikation.** Brug symboler for de enkelte aktiviteter:\n",
    "\n",
    "| Oprindelig | Simplificeret |\n",
    "|------------|---------------|\n",
    "| 1. Jeg går i biografen eller bliver hjemme og | 1. b eller h og |\n",
    "| 2. hvis jeg bliver hjemme går jeg ikke i biografen og | 2. hvis h så ikke b og |\n",
    "| 3. hvis jeg ikke bliver hjemme får jeg ikke lavet min afleveringsopgave og | 3. hvis ikke h så ikke a og |\n",
    "| 4. hvis jeg selv skal lave mad skal jeg købe ind først og | 4. hvis l så k og |\n",
    "| 5. hvis jeg skal købe ind kan jeg ikke nå i biografen og ikke nå at lave min afleveringsopgave. | 5. hvis k så ikke b og ikke a. |"
   ]
  },
  {
   "cell_type": "markdown",
   "id": "2c462c2f",
   "metadata": {
    "slideshow": {
     "slide_type": "slide"
    }
   },
   "source": [
    "## Peters aften: Kombinationsmuligheder\n",
    "\n",
    "1. \\( b \\)(iografen) eller \\( h \\)(jemme) og\n",
    "2. hvis \\( h \\)(jemme) så ikke \\( b \\)(iografen) og\n",
    "3. hvis ikke \\( h \\)(jemme) så ikke \\( a \\)(fleveringsopgave) og\n",
    "4. hvis \\( l \\)(ave mad) så \\( k \\)(øbe ind) og\n",
    "5. hvis \\( k \\)(øbe ind) så ikke \\( b \\)(iografen) og ikke \\( a \\)(fleveringsopgave).\n",
    "\n",
    "For hver af de 5 aktiviteter—\\( b \\), \\( h \\), \\( a \\), \\( l \\) og \\( k \\)—kan Peter enten vælge at udføre den eller ikke udføre den.\n",
    "\n",
    "Hvor mange kombinationsmuligheder er der så for de 5 aktiviteter? (Hvis vi ser bort fra de kombinationsmuligheder som er inkompatible)."
   ]
  },
  {
   "cell_type": "markdown",
   "id": "63f3b0aa",
   "metadata": {
    "slideshow": {
     "slide_type": "slide"
    }
   },
   "source": [
    "## Peters aften: Lovlige kombinationsmuligheder\n",
    "\n",
    "1. \\( b \\)(iografen) eller \\( h \\)(jemme) og\n",
    "2. hvis \\( h \\)(jemme) så ikke \\( b \\)(iografen) og\n",
    "3. hvis ikke \\( h \\)(jemme) så ikke \\( a \\)(fleveringsopgave) og\n",
    "4. hvis \\( l \\)(ave mad) så \\( k \\)(øbe ind) og\n",
    "5. hvis \\( k \\)(øbe ind) så ikke \\( b \\)(iografen) og ikke \\( a \\)(afleveringsopgave).\n",
    "\n",
    "Kombinationsmuligheder kan opskrives på følgende form:\n",
    "\n",
    "$$( b : 0, h : 1, a : 0, l : 1, k : 1 ).$$\n",
    "\n",
    "\\( h, l \\) og \\( k \\) udføres, men ikke \\( b \\) og \\( a \\).\n",
    "\n",
    "Hvordan tjekker vi om en kombinationsmulighed er \"lovlig\" i henhold til betingelserne 1–5?"
   ]
  },
  {
   "cell_type": "markdown",
   "id": "00075be5",
   "metadata": {
    "slideshow": {
     "slide_type": "slide"
    }
   },
   "source": [
    "## Peters aften: Logiske symboler: Simplifikation\n",
    "\n",
    "| symbol | står for       |\n",
    "|--------|----------------|\n",
    "| ¬      | ikke           |\n",
    "| ∨      | eller         |\n",
    "| ∧      | og (∧ ≈ A ≈ And) |\n",
    "| →      | hvis ... så   |\n",
    "| ↔      | ... hvis og kun hvis ... |    \n",
    ".    \n",
    "\n",
    "| |  | | |\n",
    "|----|--------------|----|-------------|\n",
    "| 1. | b eller h og | 1. | (b ∨ h) ∧ |\n",
    "| 2. | hvis h så ikke b og | 2. | (h → ¬b) ∧ |\n",
    "| 3. | hvis ikke h så ikke a og | 3. | (¬h → ¬a) ∧ |\n",
    "| 4. | hvis l så k og | 4. | (l → k) ∧ |\n",
    "| 5. | hvis k så ikke b og ikke a. | 5. | (k → (¬b ∧ ¬a)). |\n",
    "\n",
    "\n",
    "Nu har vi noget som en computer umiddelbart kan forstå—og kan regne på."
   ]
  },
  {
   "cell_type": "markdown",
   "id": "8d57fbe6",
   "metadata": {
    "slideshow": {
     "slide_type": "slide"
    }
   },
   "source": [
    "\n",
    "## Propositionsvariable\n",
    "\n",
    "Ovenstående udtryk\n",
    "\n",
    "$$\n",
    "\\left( (b \\lor h) \\land (h \\rightarrow \\neg b) \\land (\\neg h \\rightarrow \\neg a) \\land (l \\rightarrow k) \\land (k \\rightarrow (\\neg b \\land \\neg a)) \\right)\n",
    "$$\n",
    "\n",
    "\n",
    "er en **formel i udsagnslogik** (eng.: **propositional logic**).\n",
    "\n",
    "Bogstaverne kaldes **propositionsvariable** (eng.: **propositional variables**).\n",
    "\n",
    "Propositionsvariable betegner **udsagn**, defineret som følger.\n",
    "\n",
    "**Definition.** Der findes to sandhedsværdier (eng.: **truth values**): sand og falsk.\n",
    "\n",
    "Et **udsagn** (eng.: **proposition**) er et sprogligt udtryk som kan tildeles en entydig sandhedsværdi (dvs. enten **sand** eller **falsk**)."
   ]
  },
  {
   "cell_type": "markdown",
   "id": "e99ab977",
   "metadata": {
    "slideshow": {
     "slide_type": "slide"
    }
   },
   "source": [
    "\n",
    "## Udsagn eller ej?\n",
    "\n",
    "**Eksempler på udsagn:**\n",
    "\n",
    "1. Peter går i biografen fredag aften. (Givet at vi ved hvem Peter er, og hvilken fredag det drejer sig om).\n",
    "2. \\( 1 + 2 = 3 \\).\n",
    "\n",
    "**Udsagn eller ej?**\n",
    "\n",
    "1. Vil du med hjem og se min frimærkesamling?\n",
    "2. 4 er et primtal.\n",
    "3. \\( x + 2 = 3 \\)."
   ]
  },
  {
   "cell_type": "markdown",
   "id": "1e84e382",
   "metadata": {
    "slideshow": {
     "slide_type": "slide"
    }
   },
   "source": [
    "\n",
    "## Fra primitive til komplekse udsagn\n",
    "\n",
    "Propositionsvariable kalder vi for **primitive** eller **atomare udsagn** (eng.: **atomic propositions**). Betegnes sædvanligvis $( p, q, r, \\ldots ).$\n",
    "\n",
    "Vi kan opbygge mere komplekse udsagn ved at **kombinere** propositionsvariable med de logiske symboler \n",
    "$( \\neg, \\lor, \\land, \\rightarrow ) og ( \\leftrightarrow ):$\n",
    "\n",
    "- $( p \\lor q )$\n",
    "- $( p \\land \\neg q )$\n",
    "- $( (p \\lor q) \\rightarrow r )$\n",
    "- $( p \\leftrightarrow \\neg p )$\n",
    "- $( (p \\lor q) \\land ((p \\land \\neg q) \\lor ((p \\lor q) \\rightarrow r) \\rightarrow (p \\leftrightarrow \\neg p)) )$\n",
    "\n",
    "Sådanne udsagn kaldes **formler** (eng.: **formulas**)."
   ]
  },
  {
   "cell_type": "markdown",
   "id": "3df8c36c",
   "metadata": {
    "slideshow": {
     "slide_type": "slide"
    }
   },
   "source": [
    "## Formler: Formel definition\n",
    "\n",
    "**Mere formelt:**\n",
    "\n",
    "**Definition.** Mængden af **formler** i udsagnslogik defineres som følger:\n",
    "\n",
    "1. Enhver **propositionsvariabel** er en formel.\n",
    "2. Hvis ( A ) er en formel, er $( \\neg A )$ også en formel.\n",
    "3. Hvis ( A ) og ( B ) begge er formler, er $( (A \\lor B) )$ også en formel.\n",
    "4. Hvis ( A ) og ( B ) begge er formler, er $( (A \\land B) )$ også en formel.\n",
    "5. Hvis ( A ) og ( B ) begge er formler, er $( (A \\rightarrow B) )$ også en formel.\n",
    "6. Hvis ( A ) og ( B ) begge er formler, er $( (A \\leftrightarrow B) )$ også en formel.\n",
    "\n",
    "Bemærk at begrebet **formel** benyttes i selve definitionen af hvad en **formel** er.\n",
    "\n",
    "**Eksempel.** $( ((p \\land q) \\rightarrow (p \\lor q)) )$ er en formel. **Hvorfor?**"
   ]
  },
  {
   "cell_type": "markdown",
   "id": "defab92a",
   "metadata": {
    "slideshow": {
     "slide_type": "slide"
    }
   },
   "source": [
    "\n",
    "## Konventioner for parenteser\n",
    "\n",
    "Spar på parenteserne: brug præcedens.\n",
    "\n",
    "**Eksempel.** I aritmetik kan vi f.eks. skrive:\n",
    "\n",
    "$ 5 \\cdot 6 + 7 \\cdot 8 $     \n",
    "og så forstå at der hermed menes: $ (5 \\cdot 6) + (7 \\cdot 8) $     \n",
    "og ikke: $ 5 \\cdot (6 + 7) \\cdot 8 $    \n",
    "\n",
    "Det er fordi, per konvention, **binder $\\cdot$ stærkere end** +.\n",
    "\n",
    "**Præcedens i udsagnslogik:**\n",
    "\n",
    "---\n",
    "\n",
    "$( \\neg )$ binder stærkere end $( \\land, \\lor )$ binder stærkere end $( \\rightarrow, \\leftrightarrow )$\n",
    "\n",
    "---\n",
    "\n",
    "**Eksempel.** Hvor er de implicitte parenteser i formlen $ p \\land \\neg q \\rightarrow p \\lor \\neg q $ ?"
   ]
  },
  {
   "cell_type": "markdown",
   "id": "7a916ee3",
   "metadata": {
    "slideshow": {
     "slide_type": "slide"
    }
   },
   "source": [
    "## $$ p \\land \\neg q \\rightarrow p \\lor \\neg q $$\n",
    "\n",
    "## $$ (p \\land (\\neg q)) \\rightarrow (p \\lor (\\neg q)) $$"
   ]
  },
  {
   "cell_type": "markdown",
   "id": "hlyk35f2rek",
   "metadata": {
    "slideshow": {
     "slide_type": "slide"
    }
   },
   "source": [
    "## Navngivning af formler\n",
    "\n",
    "| formel | læses | kaldes |\n",
    "|--------|-------|--------|\n",
    "| ¬A | ikke A | negationen af A |\n",
    "| A ∧ B | A og B | konjunktionen af A og B |\n",
    "| A ∨ B | A eller B | disjunktionen af A og B |\n",
    "| A → B | A medfører B | implikationen fra A til B |\n",
    "| A ↔ B | A ensbetydende med B | biimplikationen mellem A og B |\n",
    "\n",
    "**Synonymer:**\n",
    "• 'Medfører' = 'implicerer'.\n",
    "• 'Ensbetydende med' = 'ækvivalent med'.\n",
    "\n",
    "Symbolerne ¬, ∧, ∨, → og ↔ kaldes for **logiske konnektiver** eller blot **konnektiver** (eng.: **connectives**).\n",
    "\n",
    "I formlen A → B kaldes A **antecedent** og B **konsekvent** (eng.: **antecedent** og **consequent**)."
   ]
  },
  {
   "cell_type": "markdown",
   "id": "b8ghtdpb81",
   "metadata": {
    "slideshow": {
     "slide_type": "slide"
    }
   },
   "source": [
    "## Sandhedstildelinger\n",
    "\n",
    "Vi betragter igen \"Peters formel\":\n",
    "1. (b ∨ h) ∧\n",
    "2. (h → (¬b)) ∧\n",
    "3. ((¬h) → (¬a)) ∧\n",
    "4. (l → k) ∧\n",
    "5. (k → ((¬b) ∧ (¬a))).\n",
    "\n",
    "Er der nogen parenteser som kan undværes?\n",
    "\n",
    "Symbolerne b, h, a, l og k er formlens **propositionsvariable**.\n",
    "\n",
    "**Definition.** **Sandhedstildeling** (eng.: **truth assignment**) for en formel: at give en sandhedsværdi, sand eller falsk, til alle propositionsvariable i formlen.\n",
    "\n",
    "**Eksempel på sandhedstildeling for Peters formel:**\n",
    "\n",
    "b : 0, h : 1, a : 0, l : 1, k : 1.\n",
    "\n",
    "Her står 0 for falsk og 1 for sand."
   ]
  },
  {
   "cell_type": "markdown",
   "id": "7orij9gsvnp",
   "metadata": {
    "slideshow": {
     "slide_type": "slide"
    }
   },
   "source": [
    "## Mere om sandhedstildelinger\n",
    "\n",
    "<div style=\"display: flex; align-items: flex-start;\">\n",
    "<div style=\"flex: 1; padding-right: 20px;\">\n",
    "\n",
    "**Alternativ notation** (F for falsk og T for sand):\n",
    "\n",
    "b : F, h : T, a : F, l : T, k : T\n",
    "\n",
    "**Sandhedstildelinger ≈ kombinationsmuligheder.**\n",
    "\n",
    "**Sandhedstildelinger:** Sandhedsværdi til de **atomare formler** (propositionsvariable).\n",
    "\n",
    "**Sammensatte formler** får da også sandhedsværdi gennem **sandhedstabeller** (eng.: **truth tables**)...\n",
    "\n",
    "*Udsagnslogik kaldes også boolsk logik efter logikeren George Boole.*\n",
    "\n",
    "</div>\n",
    "<div style=\"flex: 0 0 300px;\">\n",
    "\n",
    "![George Boole](img/bool.png)\n",
    "\n",
    "</div>\n",
    "</div>"
   ]
  },
  {
   "cell_type": "markdown",
   "id": "tmuohnx9ur",
   "metadata": {
    "slideshow": {
     "slide_type": "slide"
    }
   },
   "source": [
    "## Sandhedstabel for disjunktion\n",
    "\n",
    "### Sandhedstabel for ∨\n",
    "\n",
    "| p | q | p ∨ q |\n",
    "|---|---|-------|\n",
    "| T | T | T |\n",
    "| T | F | T |\n",
    "| F | T | T |\n",
    "| F | F | F |\n",
    "\n",
    "**Eksempel.** I sandhedstildelingen fra før\n",
    "\n",
    "b : F, h : T, a : F, l : T, k : T\n",
    "\n",
    "får formlen b ∨ h værdien T, idet\n",
    "\n",
    "b : F, h : T    ⟹    b ∨ h : T."
   ]
  },
  {
   "cell_type": "markdown",
   "id": "jvrdix36nh",
   "metadata": {
    "slideshow": {
     "slide_type": "slide"
    }
   },
   "source": [
    "## Mere om disjunktion: Inklusiv vs. eksklusiv\n",
    "\n",
    "| p | q | p ∨ q |\n",
    "|---|---|-------|\n",
    "| T | T | T |\n",
    "| T | F | T |\n",
    "| F | T | T |\n",
    "| F | F | F |\n",
    "\n",
    "Betragt igen sandhedstabellen for disjunktion:\n",
    "\n",
    "**Bemærk:** p ∨ q er sand også hvis **både** p og q er sande. Kaldes **inklusiv disjunktion**. På dansk bruges \"eller\" både eksklusivt og inklusivt, afhængigt af **konteksten**:\n",
    "\n",
    "• **Eksklusivt.** Madklubben i Tivoli: \"Børnemenu: Kyllingelår eller friskefrikadeller, begge med knuste kartofler samt dessert.\"\n",
    "• **Inklusivt.** Odinexpressen i Tivoli: \"Min. 1,3 m eller med voksen ledsager.\"\n",
    "\n",
    "I matematik, programmering og logik er det altid underforstået at 'eller' er inklusivt, dvs. svarer til ∨."
   ]
  },
  {
   "cell_type": "markdown",
   "id": "rbi09wgtb6",
   "metadata": {
    "slideshow": {
     "slide_type": "slide"
    }
   },
   "source": [
    "## Sandhedstabel for konjunktion\n",
    "\n",
    "### Sandhedstabel for ∧\n",
    "\n",
    "| p | q | p ∧ q |\n",
    "|---|---|-------|\n",
    "| T | T | T |\n",
    "| T | F | F |\n",
    "| F | T | F |\n",
    "| F | F | F |\n",
    "\n",
    "**Ingen overraskelser her:**\n",
    "\n",
    "*Konjunktion kun sand hvis begge \"konjunkter\" er sande.*\n",
    "\n",
    "**Eksempel.** I sandhedstildelingen fra før\n",
    "\n",
    "b : F, h : T, a : F, l : T, k : T\n",
    "\n",
    "får formlen b ∨ h værdien T, mens formlen b ∧ h får værdien F."
   ]
  },
  {
   "cell_type": "markdown",
   "id": "e3k92gsmiuq",
   "metadata": {
    "slideshow": {
     "slide_type": "slide"
    }
   },
   "source": "## Sandhedstabel for negation\n\n### Sandhedstabel for ¬\n\n| p | ¬p |\n|---|-----|\n| T | F |\n| F | T |\n\n*Negation laver sand om til falsk og falsk om til sand.*\n\n<img src=\"../../teacher/udsagnslogik/img/negation.png\" alt=\"Negation illustration\" width=\"300\">\n\n**Bemærk.** Når vi negerer et udsagn som \"4 er et primtal\", siger vi \"4 er ikke et primtal\" i stedet for \"ikke 4 er et primtal\"."
  },
  {
   "cell_type": "markdown",
   "id": "6d7m4lq0agr",
   "metadata": {
    "slideshow": {
     "slide_type": "slide"
    }
   },
   "source": [
    "## Sandhedstabel for biimplikation\n",
    "\n",
    "### Sandhedstabel for ↔\n",
    "\n",
    "| p | q | p ↔ q |\n",
    "|---|---|-------|\n",
    "| T | T | T |\n",
    "| T | F | F |\n",
    "| F | T | F |\n",
    "| F | F | T |\n",
    "\n",
    "*En biimplikation er sand netop når begge sider af dobbeltpilen har samme sandhedsværdi.*\n",
    "\n",
    "**Eksempel.** Følgende formel er sand i **enhver** sandhedstildeling:\n",
    "\n",
    "p ∧ p ↔ p."
   ]
  },
  {
   "cell_type": "markdown",
   "id": "pz4hqibonij",
   "metadata": {
    "slideshow": {
     "slide_type": "slide"
    }
   },
   "source": [
    "## Intermezzo: Wason-tests\n",
    "\n",
    "Et lille intermezzo inden sandhedstabellen for implikation: **Wason-tests** (Peter Cathcart Wason, 1966).\n",
    "\n",
    "Betragt 4 kort, hvor du kun kan se den ene side. På hvert kort er der et tal på den ene side og et bogstav på den anden. Antag du ser følgende 4 kort:\n",
    "\n",
    "![Wason test illustration](img/ak47.png)\n",
    "\n",
    "**Hvilke kort er du nødt til at vende for at afgøre om følgende regel er korrekt?**\n",
    "\n",
    "*Hvis der er en vokal på den ene side så er der et lige tal på den anden.*\n",
    "\n"
   ]
  },
  {
   "cell_type": "markdown",
   "id": "dbl36y12ldg",
   "metadata": {
    "slideshow": {
     "slide_type": "slide"
    }
   },
   "source": [
    "## Wason-tests og sandhedstabel for implikation\n",
    "\n",
    "**Bemærk formen af reglen vi ønsker at teste:**\n",
    "*Hvis der er en vokal på den ene side så er der et lige tal på den anden.*\n",
    "\n",
    "**Eneste der kan bryde reglen:** Et kort med en vokal på den ene side men *ikke* et lige tal på den anden.\n",
    "\n",
    "**Med andre ord:** Det eneste der kan \"bryde\" en implikation p → q er hvis p er sand og q falsk.\n",
    "\n",
    "**Det giver direkte sandhedstabellen for implikation:**\n",
    "\n",
    "### Sandhedstabel for →\n",
    "\n",
    "| p | q | p → q |\n",
    "|---|---|-------|\n",
    "| T | T | T |\n",
    "| T | F | F |\n",
    "| F | T | T |\n",
    "| F | F | T |"
   ]
  },
  {
   "cell_type": "markdown",
   "id": "cde8u7tkwdm",
   "metadata": {
    "slideshow": {
     "slide_type": "slide"
    }
   },
   "source": [
    "## Sandhedstabeller generelt\n",
    "\n",
    "**Sandhedstabeller for komplekse formler:** Opbygges trinvist udfra de indgående konnektivers sandhedstabeller.\n",
    "\n",
    "**Eksempel.** Sandhedstabel for p ∧ q → p ∨ q:\n",
    "\n",
    "| p | q | p ∧ q | p ∨ q | p ∧ q → p ∨ q |\n",
    "|---|---|-------|-------|---------------|\n",
    "| T | T | T | T | T |\n",
    "| T | F | F | T | T |\n",
    "| F | T | F | T | T |\n",
    "| F | F | F | F | T |\n",
    "\n",
    "**Bemærk:** Netop én række per mulig sandhedstildeling. n propositionsvariable giver 2ⁿ rækker."
   ]
  },
  {
   "cell_type": "markdown",
   "id": "8luxr8qkxi",
   "metadata": {
    "slideshow": {
     "slide_type": "slide"
    }
   },
   "source": [
    "## Evaluering af Peters formel\n",
    "\n",
    "Betragt igen \"Peters formel\":\n",
    "\n",
    "(b ∨ h) ∧ (h → ¬b) ∧ (¬h → ¬a) ∧ (l → k) ∧ (k → ¬b ∧ ¬a)\n",
    "\n",
    "og sandhedstildelingen\n",
    "\n",
    "b : F, h : T, a : F, l : T, k : T\n",
    "\n",
    "Vi kan nu **via sandhedstabellerne** tjekke om Peters formel er sand i den givne sandhedstildeling:\n",
    "\n",
    "| b | h | a | l | k | b ∨ h | h → ¬b | ¬h → ¬a | l → k | ¬b ∧ ¬a |\n",
    "|---|---|---|---|---|-------|---------|----------|--------|----------|\n",
    "| F | T | F | T | T | T | T | T | T | T |\n",
    "\n",
    "| b | h | a | l | k | k → ¬b ∧ ¬a | Peters formel |\n",
    "|---|---|---|---|---|-------------|---------------|\n",
    "| F | T | F | T | T | T | T |"
   ]
  },
  {
   "cell_type": "markdown",
   "id": "2egptkoq8m",
   "metadata": {
    "slideshow": {
     "slide_type": "slide"
    }
   },
   "source": [
    "## Evaluering af Peters formel\n",
    "\n",
    "Vi har vist at Peters formel er **sand** i følgende sandhedstildeling:\n",
    "\n",
    "b : F, h : T, a : F, l : T, k : T\n",
    "\n",
    "**Ergo er en af Peters muligheder for aftenen:**\n",
    "At *blive hjemme* (h : T) i stedet for at gå i biografen (b : F). At *undlade* at lave afleveringsopgave (a : F), men *købe ind* (k : T) og *lave mad selv* (l : T).\n",
    "\n",
    "**Bestemme alle Peters muligheder for aftenen:**\n",
    "1. Opstil den fulde sandhedstabel for Peters formel.\n",
    "2. Aflæs mulighederne af de rækker hvori Peters formel er sand.\n",
    "\n",
    "Let for en computer, men tidskrævende."
   ]
  }
 ],
 "metadata": {
  "kernelspec": {
   "display_name": ".venv",
   "language": "python",
   "name": "python3"
  },
  "language_info": {
   "codemirror_mode": {
    "name": "ipython",
    "version": 3
   },
   "file_extension": ".py",
   "mimetype": "text/x-python",
   "name": "python",
   "nbconvert_exporter": "python",
   "pygments_lexer": "ipython3",
   "version": "3.13.3"
  }
 },
 "nbformat": 4,
 "nbformat_minor": 5
}