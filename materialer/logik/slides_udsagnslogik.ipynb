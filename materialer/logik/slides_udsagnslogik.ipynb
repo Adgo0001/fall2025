{
 "cells": [
  {
   "cell_type": "markdown",
   "id": "d27ab820",
   "metadata": {
    "slideshow": {
     "slide_type": "slide"
    }
   },
   "source": [
    "# Udsagns- og prædikatlogik\n",
    "Introduktion til python E2025      \n",
    "Lektion 5"
   ]
  },
  {
   "cell_type": "markdown",
   "id": "22d4d342",
   "metadata": {
    "slideshow": {
     "slide_type": "slide"
    }
   },
   "source": [
    "## Eksempel: Peter planlægger sin aften\n",
    "\n",
    "### Peter overvejer sine muligheder for aftenen:\n",
    "\n",
    "* Jeg går i biografen eller bliver hjemme og\n",
    "* hvis jeg bliver hjemme går jeg ikke i biografen og\n",
    "* hvis jeg ikke bliver hjemme får jeg ikke lavet min afleveringsopgave og\n",
    "* hvis jeg selv skal lave mad skal jeg købe ind først og\n",
    "* hvis jeg skal købe ind kan jeg ikke nå i biografen og ikke nå at lave min afleveringsopgave.\n",
    "\n",
    "På hvilke måder kan Peter gennemføre sin aften?    \n",
    "Hvor mange forskellige muligheder er der?"
   ]
  },
  {
   "cell_type": "markdown",
   "id": "ca60660c",
   "metadata": {
    "slideshow": {
     "slide_type": "slide"
    }
   },
   "source": [
    "## Peters aften: Symboler\n",
    "\n",
    "**Simplifikation.** Brug symboler for de enkelte aktiviteter:\n",
    "\n",
    "| Oprindelig | Simplificeret |\n",
    "|------------|---------------|\n",
    "| 1. Jeg går i biografen eller bliver hjemme og | 1. b eller h og |\n",
    "| 2. hvis jeg bliver hjemme går jeg ikke i biografen og | 2. hvis h så ikke b og |\n",
    "| 3. hvis jeg ikke bliver hjemme får jeg ikke lavet min afleveringsopgave og | 3. hvis ikke h så ikke a og |\n",
    "| 4. hvis jeg selv skal lave mad skal jeg købe ind først og | 4. hvis l så k og |\n",
    "| 5. hvis jeg skal købe ind kan jeg ikke nå i biografen og ikke nå at lave min afleveringsopgave. | 5. hvis k så ikke b og ikke a. |"
   ]
  },
  {
   "cell_type": "markdown",
   "id": "2c462c2f",
   "metadata": {
    "slideshow": {
     "slide_type": "slide"
    }
   },
   "source": [
    "## Peters aften: Kombinationsmuligheder\n",
    "\n",
    "1. \\( b \\)(iografen) eller \\( h \\)(jemme) og\n",
    "2. hvis \\( h \\)(jemme) så ikke \\( b \\)(iografen) og\n",
    "3. hvis ikke \\( h \\)(jemme) så ikke \\( a \\)(fleveringsopgave) og\n",
    "4. hvis \\( l \\)(ave mad) så \\( k \\)(øbe ind) og\n",
    "5. hvis \\( k \\)(øbe ind) så ikke \\( b \\)(iografen) og ikke \\( a \\)(fleveringsopgave).\n",
    "\n",
    "For hver af de 5 aktiviteter—\\( b \\), \\( h \\), \\( a \\), \\( l \\) og \\( k \\)—kan Peter enten vælge at udføre den eller ikke udføre den.\n",
    "\n",
    "Hvor mange kombinationsmuligheder er der så for de 5 aktiviteter? (Hvis vi ser bort fra de kombinationsmuligheder som er inkompatible)."
   ]
  },
  {
   "cell_type": "markdown",
   "id": "63f3b0aa",
   "metadata": {
    "slideshow": {
     "slide_type": "slide"
    }
   },
   "source": [
    "## Peters aften: Lovlige kombinationsmuligheder\n",
    "\n",
    "1. \\( b \\)(iografen) eller \\( h \\)(jemme) og\n",
    "2. hvis \\( h \\)(jemme) så ikke \\( b \\)(iografen) og\n",
    "3. hvis ikke \\( h \\)(jemme) så ikke \\( a \\)(fleveringsopgave) og\n",
    "4. hvis \\( l \\)(ave mad) så \\( k \\)(øbe ind) og\n",
    "5. hvis \\( k \\)(øbe ind) så ikke \\( b \\)(iografen) og ikke \\( a \\)(afleveringsopgave).\n",
    "\n",
    "Kombinationsmuligheder kan opskrives på følgende form:\n",
    "\n",
    "$$( b : 0, h : 1, a : 0, l : 1, k : 1 ).$$\n",
    "\n",
    "\\( h, l \\) og \\( k \\) udføres, men ikke \\( b \\) og \\( a \\).\n",
    "\n",
    "Hvordan tjekker vi om en kombinationsmulighed er \"lovlig\" i henhold til betingelserne 1–5?"
   ]
  },
  {
   "cell_type": "markdown",
   "id": "00075be5",
   "metadata": {
    "slideshow": {
     "slide_type": "slide"
    }
   },
   "source": [
    "## Peters aften: Logiske symboler: Simplifikation\n",
    "\n",
    "| symbol | står for       |\n",
    "|--------|----------------|\n",
    "| ¬      | ikke           |\n",
    "| ∨      | eller         |\n",
    "| ∧      | og (∧ ≈ A ≈ And) |\n",
    "| →      | hvis ... så   |\n",
    "| ↔      | ... hvis og kun hvis ... |    \n",
    ".    \n",
    "\n",
    "| |  | | |\n",
    "|----|--------------|----|-------------|\n",
    "| 1. | b eller h og | 1. | (b ∨ h) ∧ |\n",
    "| 2. | hvis h så ikke b og | 2. | (h → ¬b) ∧ |\n",
    "| 3. | hvis ikke h så ikke a og | 3. | (¬h → ¬a) ∧ |\n",
    "| 4. | hvis l så k og | 4. | (l → k) ∧ |\n",
    "| 5. | hvis k så ikke b og ikke a. | 5. | (k → (¬b ∧ ¬a)). |\n",
    "\n",
    "\n",
    "Nu har vi noget som en computer umiddelbart kan forstå—og kan regne på."
   ]
  },
  {
   "cell_type": "markdown",
   "id": "8d57fbe6",
   "metadata": {
    "slideshow": {
     "slide_type": "slide"
    }
   },
   "source": [
    "\n",
    "## Propositionsvariable\n",
    "\n",
    "Ovenstående udtryk\n",
    "\n",
    "$$\n",
    "\\left( (b \\lor h) \\land (h \\rightarrow \\neg b) \\land (\\neg h \\rightarrow \\neg a) \\land (l \\rightarrow k) \\land (k \\rightarrow (\\neg b \\land \\neg a)) \\right)\n",
    "$$\n",
    "\n",
    "\n",
    "er en **formel i udsagnslogik** (eng.: **propositional logic**).\n",
    "\n",
    "Bogstaverne kaldes **propositionsvariable** (eng.: **propositional variables**).\n",
    "\n",
    "Propositionsvariable betegner **udsagn**, defineret som følger.\n",
    "\n",
    "**Definition.** Der findes to sandhedsværdier (eng.: **truth values**): sand og falsk.\n",
    "\n",
    "Et **udsagn** (eng.: **proposition**) er et sprogligt udtryk som kan tildeles en entydig sandhedsværdi (dvs. enten **sand** eller **falsk**)."
   ]
  },
  {
   "cell_type": "markdown",
   "id": "e99ab977",
   "metadata": {
    "slideshow": {
     "slide_type": "slide"
    }
   },
   "source": [
    "\n",
    "## Udsagn eller ej?\n",
    "\n",
    "**Eksempler på udsagn:**\n",
    "\n",
    "1. Peter går i biografen fredag aften. (Givet at vi ved hvem Peter er, og hvilken fredag det drejer sig om).\n",
    "2. \\( 1 + 2 = 3 \\).\n",
    "\n",
    "**Udsagn eller ej?**\n",
    "\n",
    "1. Vil du med hjem og se min frimærkesamling?\n",
    "2. 4 er et primtal.\n",
    "3. \\( x + 2 = 3 \\)."
   ]
  },
  {
   "cell_type": "markdown",
   "id": "1e84e382",
   "metadata": {
    "slideshow": {
     "slide_type": "slide"
    }
   },
   "source": [
    "\n",
    "## Fra primitive til komplekse udsagn\n",
    "\n",
    "Propositionsvariable kalder vi for **primitive** eller **atomare udsagn** (eng.: **atomic propositions**). Betegnes sædvanligvis $( p, q, r, \\ldots ).$\n",
    "\n",
    "Vi kan opbygge mere komplekse udsagn ved at **kombinere** propositionsvariable med de logiske symboler \n",
    "$( \\neg, \\lor, \\land, \\rightarrow ) og ( \\leftrightarrow ):$\n",
    "\n",
    "- $( p \\lor q )$\n",
    "- $( p \\land \\neg q )$\n",
    "- $( (p \\lor q) \\rightarrow r )$\n",
    "- $( p \\leftrightarrow \\neg p )$\n",
    "- $( (p \\lor q) \\land ((p \\land \\neg q) \\lor ((p \\lor q) \\rightarrow r) \\rightarrow (p \\leftrightarrow \\neg p)) )$\n",
    "\n",
    "Sådanne udsagn kaldes **formler** (eng.: **formulas**)."
   ]
  },
  {
   "cell_type": "markdown",
   "id": "3df8c36c",
   "metadata": {
    "slideshow": {
     "slide_type": "slide"
    }
   },
   "source": [
    "## Formler: Formel definition\n",
    "\n",
    "**Mere formelt:**\n",
    "\n",
    "**Definition.** Mængden af **formler** i udsagnslogik defineres som følger:\n",
    "\n",
    "1. Enhver **propositionsvariabel** er en formel.\n",
    "2. Hvis ( A ) er en formel, er $( \\neg A )$ også en formel.\n",
    "3. Hvis ( A ) og ( B ) begge er formler, er $( (A \\lor B) )$ også en formel.\n",
    "4. Hvis ( A ) og ( B ) begge er formler, er $( (A \\land B) )$ også en formel.\n",
    "5. Hvis ( A ) og ( B ) begge er formler, er $( (A \\rightarrow B) )$ også en formel.\n",
    "6. Hvis ( A ) og ( B ) begge er formler, er $( (A \\leftrightarrow B) )$ også en formel.\n",
    "\n",
    "Bemærk at begrebet **formel** benyttes i selve definitionen af hvad en **formel** er.\n",
    "\n",
    "**Eksempel.** $( ((p \\land q) \\rightarrow (p \\lor q)) )$ er en formel. **Hvorfor?**"
   ]
  },
  {
   "cell_type": "markdown",
   "id": "defab92a",
   "metadata": {
    "slideshow": {
     "slide_type": "slide"
    }
   },
   "source": [
    "\n",
    "## Konventioner for parenteser\n",
    "\n",
    "Spar på parenteserne: brug præcedens.\n",
    "\n",
    "**Eksempel.** I aritmetik kan vi f.eks. skrive:\n",
    "\n",
    "$ 5 \\cdot 6 + 7 \\cdot 8 $     \n",
    "og så forstå at der hermed menes: $ (5 \\cdot 6) + (7 \\cdot 8) $     \n",
    "og ikke: $ 5 \\cdot (6 + 7) \\cdot 8 $    \n",
    "\n",
    "Det er fordi, per konvention, **binder $\\cdot$ stærkere end** +.\n",
    "\n",
    "**Præcedens i udsagnslogik:**\n",
    "\n",
    "---\n",
    "\n",
    "$( \\neg )$ binder stærkere end $( \\land, \\lor )$ binder stærkere end $( \\rightarrow, \\leftrightarrow )$\n",
    "\n",
    "---\n",
    "\n",
    "**Eksempel.** Hvor er de implicitte parenteser i formlen $ p \\land \\neg q \\rightarrow p \\lor \\neg q $ ?"
   ]
  },
  {
   "cell_type": "markdown",
   "id": "7a916ee3",
   "metadata": {
    "slideshow": {
     "slide_type": "slide"
    }
   },
   "source": [
    "## $$ p \\land \\neg q \\rightarrow p \\lor \\neg q $$\n",
    "\n",
    "## $$ (p \\land (\\neg q)) \\rightarrow (p \\lor (\\neg q)) $$"
   ]
  },
  {
   "cell_type": "markdown",
   "id": "f1c74e1a",
   "metadata": {},
   "source": []
  }
 ],
 "metadata": {
  "kernelspec": {
   "display_name": ".venv",
   "language": "python",
   "name": "python3"
  },
  "language_info": {
   "codemirror_mode": {
    "name": "ipython",
    "version": 3
   },
   "file_extension": ".py",
   "mimetype": "text/x-python",
   "name": "python",
   "nbconvert_exporter": "python",
   "pygments_lexer": "ipython3",
   "version": "3.13.3"
  }
 },
 "nbformat": 4,
 "nbformat_minor": 5
}
