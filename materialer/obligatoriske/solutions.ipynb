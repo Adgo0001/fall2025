{
 "cells": [
  {
   "cell_type": "markdown",
   "id": "98202e04",
   "metadata": {},
   "source": [
    "# Solutions to Google Job interview"
   ]
  },
  {
   "cell_type": "markdown",
   "id": "08402fd3",
   "metadata": {},
   "source": [
    "Solution from video https://www.youtube.com/watch?v=XKu_SEDAykw&t=379s"
   ]
  },
  {
   "cell_type": "code",
   "execution_count": null,
   "id": "cf78e293",
   "metadata": {},
   "outputs": [],
   "source": [
    "\n",
    "[1, 2, 4, 4] => sum = 8\n",
    "[1, 2, 3, 9] => sum = 8"
   ]
  },
  {
   "cell_type": "code",
   "execution_count": null,
   "id": "1f757ed1",
   "metadata": {},
   "outputs": [],
   "source": [
    "def simple_solution(l):\n",
    "    \"\"\" Loops through all numbers - linier search\"\"\"\n",
    "    for i in range(len(l)):\n",
    "        for j in range(i+1, len(l)):\n",
    "            if l[i] + l[j] == 8:\n",
    "                #print(l[i] + l[j])\n",
    "                return True\n",
    "            #print(l[i] + l[j])\n",
    "        # print('=====')\n",
    "    return False"
   ]
  },
  {
   "cell_type": "code",
   "execution_count": null,
   "id": "1ef5b50e",
   "metadata": {},
   "outputs": [],
   "source": [
    "def has_pair_with_sum(l, sum):\n",
    "\n",
    "    low = 0\n",
    "    high = len(l)-1\n",
    "\n",
    "    while low < high:\n",
    "\n",
    "        s = l[low] + l[high]\n",
    "\n",
    "        if s == sum:\n",
    "            return True\n",
    "        elif s > sum:\n",
    "            high -= 1\n",
    "        elif s < sum:\n",
    "            low += 1\n",
    "\n",
    "    return False"
   ]
  },
  {
   "cell_type": "code",
   "execution_count": 13,
   "id": "1de85f62",
   "metadata": {},
   "outputs": [
    {
     "data": {
      "text/plain": [
       "True"
      ]
     },
     "execution_count": 13,
     "metadata": {},
     "output_type": "execute_result"
    }
   ],
   "source": [
    "def has_pair(data, sum):\n",
    "    comp = set()\n",
    "    for i in data:\n",
    "        if i in comp:\n",
    "            return True\n",
    "        comp.add(sum - i)\n",
    "   \n",
    "    return False\n",
    "\n",
    "has_pair([1, 2, 4,4], 8)\n"
   ]
  },
  {
   "cell_type": "markdown",
   "id": "5f12188b",
   "metadata": {},
   "source": [
    "## One-line set solution"
   ]
  },
  {
   "cell_type": "code",
   "execution_count": null,
   "id": "110d3d70",
   "metadata": {},
   "outputs": [
    {
     "data": {
      "text/plain": [
       "False"
      ]
     },
     "execution_count": 3,
     "metadata": {},
     "output_type": "execute_result"
    }
   ],
   "source": [
    "def has_pair_with_sum(l, sum):\n",
    "    return bool(set(l) & {sum - i for i in l})\n",
    "\n",
    "has_pair_with_sum([1, 2, 3, 9], 8)"
   ]
  },
  {
   "cell_type": "code",
   "execution_count": 6,
   "id": "d4ec68d9",
   "metadata": {},
   "outputs": [
    {
     "data": {
      "text/plain": [
       "True"
      ]
     },
     "execution_count": 6,
     "metadata": {},
     "output_type": "execute_result"
    }
   ],
   "source": [
    "bool({1, 2, 4, 4} & {7,6,4,4})"
   ]
  },
  {
   "cell_type": "code",
   "execution_count": null,
   "id": "537c8301",
   "metadata": {},
   "outputs": [],
   "source": []
  }
 ],
 "metadata": {
  "kernelspec": {
   "display_name": ".venv",
   "language": "python",
   "name": "python3"
  },
  "language_info": {
   "codemirror_mode": {
    "name": "ipython",
    "version": 3
   },
   "file_extension": ".py",
   "mimetype": "text/x-python",
   "name": "python",
   "nbconvert_exporter": "python",
   "pygments_lexer": "ipython3",
   "version": "3.13.7"
  }
 },
 "nbformat": 4,
 "nbformat_minor": 5
}
